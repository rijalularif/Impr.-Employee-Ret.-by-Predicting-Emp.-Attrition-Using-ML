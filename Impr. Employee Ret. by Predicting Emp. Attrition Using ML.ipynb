{
 "cells": [
  {
   "cell_type": "markdown",
   "metadata": {},
   "source": [
    "# **Impr. Employee Ret. by Predicting Emp. Attrition Using ML**\n",
    "----------"
   ]
  },
  {
   "cell_type": "markdown",
   "metadata": {},
   "source": [
    "# **Introduction**"
   ]
  },
  {
   "cell_type": "markdown",
   "metadata": {},
   "source": [
    "## **Problem Statement**\n",
    "Sumber daya manusia (SDM) adalah aset utama yang perlu dikelola dengan baik oleh perusahaan agar tujuan bisnis dapat tercapai dengan efektif dan efisien. Pada kesempatan kali ini, kita akan menghadapi sebuah permasalahan tentang sumber daya manusia yang ada di perusahaan. Fokus kita adalah untuk mengetahui bagaimana cara menjaga karyawan agar tetap bertahan di perusahaan yang ada saat ini yang dapat mengakibatkan bengkaknya biaya untuk rekrutmen karyawan serta pelatihan untuk mereka yang baru masuk. Dengan mengetahui faktor utama yang menyebabkan karyawan tidak merasa, perusahaan dapat segera menanggulanginya dengan membuat program-program yang relevan dengan permasalahan karyawan."
   ]
  },
  {
   "cell_type": "markdown",
   "metadata": {},
   "source": [
    "## **Objective**"
   ]
  },
  {
   "cell_type": "markdown",
   "metadata": {},
   "source": [
    "## **Data Overview**"
   ]
  },
  {
   "cell_type": "markdown",
   "metadata": {},
   "source": [
    "# **Data Preprocessing**"
   ]
  },
  {
   "cell_type": "markdown",
   "metadata": {},
   "source": [
    "## **Import Libraries**"
   ]
  },
  {
   "cell_type": "code",
   "execution_count": 1,
   "metadata": {},
   "outputs": [],
   "source": [
    "import pandas as pd\n",
    "import numpy as np\n",
    "import matplotlib.pyplot as plt\n",
    "import seaborn as sns\n",
    "import plotly.express as px\n",
    "import math\n",
    "\n",
    "from sklearn.preprocessing import StandardScaler, MinMaxScaler\n",
    "from sklearn.model_selection import train_test_split\n",
    "\n",
    "import warnings\n",
    "warnings.filterwarnings('ignore')\n",
    "\n",
    "pd.set_option('display.max_columns', None)\n",
    "pd.set_option('display.max_rows', None)"
   ]
  },
  {
   "cell_type": "markdown",
   "metadata": {},
   "source": [
    "## **Load Data**"
   ]
  },
  {
   "cell_type": "code",
   "execution_count": 2,
   "metadata": {},
   "outputs": [
    {
     "data": {
      "text/html": [
       "<div>\n",
       "<style scoped>\n",
       "    .dataframe tbody tr th:only-of-type {\n",
       "        vertical-align: middle;\n",
       "    }\n",
       "\n",
       "    .dataframe tbody tr th {\n",
       "        vertical-align: top;\n",
       "    }\n",
       "\n",
       "    .dataframe thead th {\n",
       "        text-align: right;\n",
       "    }\n",
       "</style>\n",
       "<table border=\"1\" class=\"dataframe\">\n",
       "  <thead>\n",
       "    <tr style=\"text-align: right;\">\n",
       "      <th></th>\n",
       "      <th>Username</th>\n",
       "      <th>EnterpriseID</th>\n",
       "      <th>StatusPernikahan</th>\n",
       "      <th>JenisKelamin</th>\n",
       "      <th>StatusKepegawaian</th>\n",
       "      <th>Pekerjaan</th>\n",
       "      <th>JenjangKarir</th>\n",
       "      <th>PerformancePegawai</th>\n",
       "      <th>AsalDaerah</th>\n",
       "      <th>HiringPlatform</th>\n",
       "      <th>SkorSurveyEngagement</th>\n",
       "      <th>SkorKepuasanPegawai</th>\n",
       "      <th>JumlahKeikutsertaanProjek</th>\n",
       "      <th>JumlahKeterlambatanSebulanTerakhir</th>\n",
       "      <th>JumlahKetidakhadiran</th>\n",
       "      <th>NomorHP</th>\n",
       "      <th>Email</th>\n",
       "      <th>TingkatPendidikan</th>\n",
       "      <th>PernahBekerja</th>\n",
       "      <th>IkutProgramLOP</th>\n",
       "      <th>AlasanResign</th>\n",
       "      <th>TanggalLahir</th>\n",
       "      <th>TanggalHiring</th>\n",
       "      <th>TanggalPenilaianKaryawan</th>\n",
       "      <th>TanggalResign</th>\n",
       "    </tr>\n",
       "  </thead>\n",
       "  <tbody>\n",
       "    <tr>\n",
       "      <th>189</th>\n",
       "      <td>grudgingMeerkat3</td>\n",
       "      <td>106008</td>\n",
       "      <td>Belum_menikah</td>\n",
       "      <td>Wanita</td>\n",
       "      <td>Outsource</td>\n",
       "      <td>Software Engineer (Back End)</td>\n",
       "      <td>Freshgraduate_program</td>\n",
       "      <td>Bagus</td>\n",
       "      <td>Jakarta Timur</td>\n",
       "      <td>CareerBuilder</td>\n",
       "      <td>3</td>\n",
       "      <td>4.0</td>\n",
       "      <td>0.0</td>\n",
       "      <td>0.0</td>\n",
       "      <td>4.0</td>\n",
       "      <td>+6285714869xxx</td>\n",
       "      <td>grudgingMeerkat3383@proton.com</td>\n",
       "      <td>Sarjana</td>\n",
       "      <td>1</td>\n",
       "      <td>NaN</td>\n",
       "      <td>NaN</td>\n",
       "      <td>1986-04-17</td>\n",
       "      <td>2011-01-10</td>\n",
       "      <td>2017-02-03</td>\n",
       "      <td>-</td>\n",
       "    </tr>\n",
       "    <tr>\n",
       "      <th>183</th>\n",
       "      <td>aboardUnicorn8</td>\n",
       "      <td>106687</td>\n",
       "      <td>Belum_menikah</td>\n",
       "      <td>Pria</td>\n",
       "      <td>FullTime</td>\n",
       "      <td>Software Engineer (Back End)</td>\n",
       "      <td>Mid_level</td>\n",
       "      <td>Bagus</td>\n",
       "      <td>Jakarta Timur</td>\n",
       "      <td>Indeed</td>\n",
       "      <td>3</td>\n",
       "      <td>3.0</td>\n",
       "      <td>0.0</td>\n",
       "      <td>0.0</td>\n",
       "      <td>6.0</td>\n",
       "      <td>+6281943118xxx</td>\n",
       "      <td>aboardUnicorn8967@outlook.com</td>\n",
       "      <td>Magister</td>\n",
       "      <td>1</td>\n",
       "      <td>NaN</td>\n",
       "      <td>masih_bekerja</td>\n",
       "      <td>1968-01-15</td>\n",
       "      <td>2006-01-09</td>\n",
       "      <td>2020-01-04</td>\n",
       "      <td>-</td>\n",
       "    </tr>\n",
       "    <tr>\n",
       "      <th>250</th>\n",
       "      <td>jubilantTeal7</td>\n",
       "      <td>106547</td>\n",
       "      <td>Lainnya</td>\n",
       "      <td>Pria</td>\n",
       "      <td>FullTime</td>\n",
       "      <td>DevOps Engineer</td>\n",
       "      <td>Freshgraduate_program</td>\n",
       "      <td>Bagus</td>\n",
       "      <td>Jakarta Barat</td>\n",
       "      <td>Employee_Referral</td>\n",
       "      <td>3</td>\n",
       "      <td>3.0</td>\n",
       "      <td>7.0</td>\n",
       "      <td>0.0</td>\n",
       "      <td>16.0</td>\n",
       "      <td>+6287898271xxx</td>\n",
       "      <td>jubilantTeal7049@hotmail.com</td>\n",
       "      <td>Magister</td>\n",
       "      <td>1</td>\n",
       "      <td>NaN</td>\n",
       "      <td>NaN</td>\n",
       "      <td>1970-02-08</td>\n",
       "      <td>2015-01-05</td>\n",
       "      <td>2020-1-14</td>\n",
       "      <td>-</td>\n",
       "    </tr>\n",
       "    <tr>\n",
       "      <th>270</th>\n",
       "      <td>truthfulHawk9</td>\n",
       "      <td>106029</td>\n",
       "      <td>Menikah</td>\n",
       "      <td>Wanita</td>\n",
       "      <td>FullTime</td>\n",
       "      <td>Software Engineer (Back End)</td>\n",
       "      <td>Senior_level</td>\n",
       "      <td>Biasa</td>\n",
       "      <td>Jakarta Selatan</td>\n",
       "      <td>Indeed</td>\n",
       "      <td>4</td>\n",
       "      <td>3.0</td>\n",
       "      <td>0.0</td>\n",
       "      <td>0.0</td>\n",
       "      <td>10.0</td>\n",
       "      <td>+6285919278xxx</td>\n",
       "      <td>truthfulHawk9561@yahoo.com</td>\n",
       "      <td>Sarjana</td>\n",
       "      <td>1</td>\n",
       "      <td>NaN</td>\n",
       "      <td>NaN</td>\n",
       "      <td>1954-09-21</td>\n",
       "      <td>2012-07-02</td>\n",
       "      <td>2020-1-17</td>\n",
       "      <td>-</td>\n",
       "    </tr>\n",
       "    <tr>\n",
       "      <th>116</th>\n",
       "      <td>zestyTermite5</td>\n",
       "      <td>105558</td>\n",
       "      <td>Menikah</td>\n",
       "      <td>Wanita</td>\n",
       "      <td>FullTime</td>\n",
       "      <td>Software Engineer (Front End)</td>\n",
       "      <td>Senior_level</td>\n",
       "      <td>Bagus</td>\n",
       "      <td>Jakarta Timur</td>\n",
       "      <td>Indeed</td>\n",
       "      <td>4</td>\n",
       "      <td>5.0</td>\n",
       "      <td>0.0</td>\n",
       "      <td>0.0</td>\n",
       "      <td>6.0</td>\n",
       "      <td>+6283215136xxx</td>\n",
       "      <td>zestyTermite5310@yahoo.com</td>\n",
       "      <td>Magister</td>\n",
       "      <td>1</td>\n",
       "      <td>NaN</td>\n",
       "      <td>masih_bekerja</td>\n",
       "      <td>1977-03-31</td>\n",
       "      <td>2015-01-05</td>\n",
       "      <td>2020-2-14</td>\n",
       "      <td>-</td>\n",
       "    </tr>\n",
       "  </tbody>\n",
       "</table>\n",
       "</div>"
      ],
      "text/plain": [
       "             Username  EnterpriseID StatusPernikahan JenisKelamin  \\\n",
       "189  grudgingMeerkat3        106008    Belum_menikah       Wanita   \n",
       "183    aboardUnicorn8        106687    Belum_menikah         Pria   \n",
       "250     jubilantTeal7        106547          Lainnya         Pria   \n",
       "270     truthfulHawk9        106029          Menikah       Wanita   \n",
       "116     zestyTermite5        105558          Menikah       Wanita   \n",
       "\n",
       "    StatusKepegawaian                      Pekerjaan           JenjangKarir  \\\n",
       "189         Outsource   Software Engineer (Back End)  Freshgraduate_program   \n",
       "183          FullTime   Software Engineer (Back End)              Mid_level   \n",
       "250          FullTime                DevOps Engineer  Freshgraduate_program   \n",
       "270          FullTime   Software Engineer (Back End)           Senior_level   \n",
       "116          FullTime  Software Engineer (Front End)           Senior_level   \n",
       "\n",
       "    PerformancePegawai       AsalDaerah     HiringPlatform  \\\n",
       "189              Bagus    Jakarta Timur      CareerBuilder   \n",
       "183              Bagus    Jakarta Timur             Indeed   \n",
       "250              Bagus    Jakarta Barat  Employee_Referral   \n",
       "270              Biasa  Jakarta Selatan             Indeed   \n",
       "116              Bagus    Jakarta Timur             Indeed   \n",
       "\n",
       "     SkorSurveyEngagement  SkorKepuasanPegawai  JumlahKeikutsertaanProjek  \\\n",
       "189                     3                  4.0                        0.0   \n",
       "183                     3                  3.0                        0.0   \n",
       "250                     3                  3.0                        7.0   \n",
       "270                     4                  3.0                        0.0   \n",
       "116                     4                  5.0                        0.0   \n",
       "\n",
       "     JumlahKeterlambatanSebulanTerakhir  JumlahKetidakhadiran         NomorHP  \\\n",
       "189                                 0.0                   4.0  +6285714869xxx   \n",
       "183                                 0.0                   6.0  +6281943118xxx   \n",
       "250                                 0.0                  16.0  +6287898271xxx   \n",
       "270                                 0.0                  10.0  +6285919278xxx   \n",
       "116                                 0.0                   6.0  +6283215136xxx   \n",
       "\n",
       "                              Email TingkatPendidikan PernahBekerja  \\\n",
       "189  grudgingMeerkat3383@proton.com           Sarjana             1   \n",
       "183   aboardUnicorn8967@outlook.com          Magister             1   \n",
       "250    jubilantTeal7049@hotmail.com          Magister             1   \n",
       "270      truthfulHawk9561@yahoo.com           Sarjana             1   \n",
       "116      zestyTermite5310@yahoo.com          Magister             1   \n",
       "\n",
       "     IkutProgramLOP   AlasanResign TanggalLahir TanggalHiring  \\\n",
       "189             NaN            NaN   1986-04-17    2011-01-10   \n",
       "183             NaN  masih_bekerja   1968-01-15    2006-01-09   \n",
       "250             NaN            NaN   1970-02-08    2015-01-05   \n",
       "270             NaN            NaN   1954-09-21    2012-07-02   \n",
       "116             NaN  masih_bekerja   1977-03-31    2015-01-05   \n",
       "\n",
       "    TanggalPenilaianKaryawan TanggalResign  \n",
       "189               2017-02-03             -  \n",
       "183               2020-01-04             -  \n",
       "250                2020-1-14             -  \n",
       "270                2020-1-17             -  \n",
       "116                2020-2-14             -  "
      ]
     },
     "execution_count": 2,
     "metadata": {},
     "output_type": "execute_result"
    }
   ],
   "source": [
    "df = pd.read_csv('hr_data.csv')\n",
    "df.sample(5)"
   ]
  },
  {
   "cell_type": "markdown",
   "metadata": {},
   "source": [
    "## **General Info**"
   ]
  },
  {
   "cell_type": "code",
   "execution_count": 3,
   "metadata": {},
   "outputs": [
    {
     "name": "stdout",
     "output_type": "stream",
     "text": [
      "<class 'pandas.core.frame.DataFrame'>\n",
      "RangeIndex: 287 entries, 0 to 286\n",
      "Data columns (total 25 columns):\n",
      " #   Column                              Non-Null Count  Dtype  \n",
      "---  ------                              --------------  -----  \n",
      " 0   Username                            287 non-null    object \n",
      " 1   EnterpriseID                        287 non-null    int64  \n",
      " 2   StatusPernikahan                    287 non-null    object \n",
      " 3   JenisKelamin                        287 non-null    object \n",
      " 4   StatusKepegawaian                   287 non-null    object \n",
      " 5   Pekerjaan                           287 non-null    object \n",
      " 6   JenjangKarir                        287 non-null    object \n",
      " 7   PerformancePegawai                  287 non-null    object \n",
      " 8   AsalDaerah                          287 non-null    object \n",
      " 9   HiringPlatform                      287 non-null    object \n",
      " 10  SkorSurveyEngagement                287 non-null    int64  \n",
      " 11  SkorKepuasanPegawai                 282 non-null    float64\n",
      " 12  JumlahKeikutsertaanProjek           284 non-null    float64\n",
      " 13  JumlahKeterlambatanSebulanTerakhir  286 non-null    float64\n",
      " 14  JumlahKetidakhadiran                281 non-null    float64\n",
      " 15  NomorHP                             287 non-null    object \n",
      " 16  Email                               287 non-null    object \n",
      " 17  TingkatPendidikan                   287 non-null    object \n",
      " 18  PernahBekerja                       287 non-null    object \n",
      " 19  IkutProgramLOP                      29 non-null     float64\n",
      " 20  AlasanResign                        221 non-null    object \n",
      " 21  TanggalLahir                        287 non-null    object \n",
      " 22  TanggalHiring                       287 non-null    object \n",
      " 23  TanggalPenilaianKaryawan            287 non-null    object \n",
      " 24  TanggalResign                       287 non-null    object \n",
      "dtypes: float64(5), int64(2), object(18)\n",
      "memory usage: 56.2+ KB\n"
     ]
    }
   ],
   "source": [
    "df.info()"
   ]
  },
  {
   "cell_type": "code",
   "execution_count": 4,
   "metadata": {},
   "outputs": [
    {
     "data": {
      "text/html": [
       "<style type=\"text/css\">\n",
       "#T_a31d5_row0_col2, #T_a31d5_row0_col3, #T_a31d5_row1_col2, #T_a31d5_row1_col3, #T_a31d5_row2_col2, #T_a31d5_row2_col3, #T_a31d5_row3_col2, #T_a31d5_row3_col3, #T_a31d5_row3_col4, #T_a31d5_row4_col2, #T_a31d5_row4_col3, #T_a31d5_row4_col4, #T_a31d5_row5_col2, #T_a31d5_row5_col3, #T_a31d5_row6_col2, #T_a31d5_row6_col3, #T_a31d5_row6_col4, #T_a31d5_row7_col2, #T_a31d5_row7_col3, #T_a31d5_row8_col2, #T_a31d5_row8_col3, #T_a31d5_row9_col2, #T_a31d5_row9_col3, #T_a31d5_row10_col2, #T_a31d5_row10_col3, #T_a31d5_row13_col2, #T_a31d5_row13_col3, #T_a31d5_row15_col2, #T_a31d5_row15_col3, #T_a31d5_row16_col2, #T_a31d5_row16_col3, #T_a31d5_row17_col2, #T_a31d5_row17_col3, #T_a31d5_row17_col4, #T_a31d5_row18_col2, #T_a31d5_row18_col3, #T_a31d5_row18_col4, #T_a31d5_row19_col4, #T_a31d5_row21_col2, #T_a31d5_row21_col3, #T_a31d5_row22_col2, #T_a31d5_row22_col3, #T_a31d5_row23_col2, #T_a31d5_row23_col3, #T_a31d5_row24_col2, #T_a31d5_row24_col3 {\n",
       "  background-color: #f7fcf5;\n",
       "  color: #000000;\n",
       "}\n",
       "#T_a31d5_row0_col4 {\n",
       "  background-color: #00451c;\n",
       "  color: #f1f1f1;\n",
       "}\n",
       "#T_a31d5_row1_col4, #T_a31d5_row15_col4, #T_a31d5_row16_col4, #T_a31d5_row19_col2, #T_a31d5_row19_col3 {\n",
       "  background-color: #00441b;\n",
       "  color: #f1f1f1;\n",
       "}\n",
       "#T_a31d5_row2_col4, #T_a31d5_row7_col4, #T_a31d5_row8_col4, #T_a31d5_row10_col4, #T_a31d5_row11_col4, #T_a31d5_row12_col2, #T_a31d5_row12_col3 {\n",
       "  background-color: #f6fcf4;\n",
       "  color: #000000;\n",
       "}\n",
       "#T_a31d5_row5_col4 {\n",
       "  background-color: #f1faee;\n",
       "  color: #000000;\n",
       "}\n",
       "#T_a31d5_row9_col4, #T_a31d5_row12_col4 {\n",
       "  background-color: #f4fbf1;\n",
       "  color: #000000;\n",
       "}\n",
       "#T_a31d5_row11_col2, #T_a31d5_row11_col3, #T_a31d5_row13_col4 {\n",
       "  background-color: #f5fbf2;\n",
       "  color: #000000;\n",
       "}\n",
       "#T_a31d5_row14_col2, #T_a31d5_row14_col3 {\n",
       "  background-color: #f4fbf2;\n",
       "  color: #000000;\n",
       "}\n",
       "#T_a31d5_row14_col4 {\n",
       "  background-color: #edf8ea;\n",
       "  color: #000000;\n",
       "}\n",
       "#T_a31d5_row20_col2, #T_a31d5_row20_col3 {\n",
       "  background-color: #c6e8bf;\n",
       "  color: #000000;\n",
       "}\n",
       "#T_a31d5_row20_col4 {\n",
       "  background-color: #f2faf0;\n",
       "  color: #000000;\n",
       "}\n",
       "#T_a31d5_row21_col4 {\n",
       "  background-color: #00471c;\n",
       "  color: #f1f1f1;\n",
       "}\n",
       "#T_a31d5_row22_col4 {\n",
       "  background-color: #aedea7;\n",
       "  color: #000000;\n",
       "}\n",
       "#T_a31d5_row23_col4 {\n",
       "  background-color: #8ace88;\n",
       "  color: #000000;\n",
       "}\n",
       "#T_a31d5_row24_col4 {\n",
       "  background-color: #d9f0d3;\n",
       "  color: #000000;\n",
       "}\n",
       "</style>\n",
       "<table id=\"T_a31d5\">\n",
       "  <thead>\n",
       "    <tr>\n",
       "      <th class=\"blank level0\" >&nbsp;</th>\n",
       "      <th id=\"T_a31d5_level0_col0\" class=\"col_heading level0 col0\" >Feature</th>\n",
       "      <th id=\"T_a31d5_level0_col1\" class=\"col_heading level0 col1\" >dtypes</th>\n",
       "      <th id=\"T_a31d5_level0_col2\" class=\"col_heading level0 col2\" >n_null</th>\n",
       "      <th id=\"T_a31d5_level0_col3\" class=\"col_heading level0 col3\" >percent_null</th>\n",
       "      <th id=\"T_a31d5_level0_col4\" class=\"col_heading level0 col4\" >n_unique</th>\n",
       "      <th id=\"T_a31d5_level0_col5\" class=\"col_heading level0 col5\" >unique</th>\n",
       "    </tr>\n",
       "  </thead>\n",
       "  <tbody>\n",
       "    <tr>\n",
       "      <th id=\"T_a31d5_level0_row0\" class=\"row_heading level0 row0\" >0</th>\n",
       "      <td id=\"T_a31d5_row0_col0\" class=\"data row0 col0\" >Username</td>\n",
       "      <td id=\"T_a31d5_row0_col1\" class=\"data row0 col1\" >object</td>\n",
       "      <td id=\"T_a31d5_row0_col2\" class=\"data row0 col2\" >0</td>\n",
       "      <td id=\"T_a31d5_row0_col3\" class=\"data row0 col3\" >0.000000</td>\n",
       "      <td id=\"T_a31d5_row0_col4\" class=\"data row0 col4\" >285</td>\n",
       "      <td id=\"T_a31d5_row0_col5\" class=\"data row0 col5\" >['spiritedPorpoise3' 'jealousGelding2' 'pluckyMuesli3' 'stressedTruffle1'\n",
       " 'shyTermite7']</td>\n",
       "    </tr>\n",
       "    <tr>\n",
       "      <th id=\"T_a31d5_level0_row1\" class=\"row_heading level0 row1\" >1</th>\n",
       "      <td id=\"T_a31d5_row1_col0\" class=\"data row1 col0\" >EnterpriseID</td>\n",
       "      <td id=\"T_a31d5_row1_col1\" class=\"data row1 col1\" >int64</td>\n",
       "      <td id=\"T_a31d5_row1_col2\" class=\"data row1 col2\" >0</td>\n",
       "      <td id=\"T_a31d5_row1_col3\" class=\"data row1 col3\" >0.000000</td>\n",
       "      <td id=\"T_a31d5_row1_col4\" class=\"data row1 col4\" >287</td>\n",
       "      <td id=\"T_a31d5_row1_col5\" class=\"data row1 col5\" >[111065 106080 106452 106325 111171]</td>\n",
       "    </tr>\n",
       "    <tr>\n",
       "      <th id=\"T_a31d5_level0_row2\" class=\"row_heading level0 row2\" >2</th>\n",
       "      <td id=\"T_a31d5_row2_col0\" class=\"data row2 col0\" >StatusPernikahan</td>\n",
       "      <td id=\"T_a31d5_row2_col1\" class=\"data row2 col1\" >object</td>\n",
       "      <td id=\"T_a31d5_row2_col2\" class=\"data row2 col2\" >0</td>\n",
       "      <td id=\"T_a31d5_row2_col3\" class=\"data row2 col3\" >0.000000</td>\n",
       "      <td id=\"T_a31d5_row2_col4\" class=\"data row2 col4\" >5</td>\n",
       "      <td id=\"T_a31d5_row2_col5\" class=\"data row2 col5\" >['Belum_menikah' 'Menikah' 'Bercerai' 'Lainnya' '-']</td>\n",
       "    </tr>\n",
       "    <tr>\n",
       "      <th id=\"T_a31d5_level0_row3\" class=\"row_heading level0 row3\" >3</th>\n",
       "      <td id=\"T_a31d5_row3_col0\" class=\"data row3 col0\" >JenisKelamin</td>\n",
       "      <td id=\"T_a31d5_row3_col1\" class=\"data row3 col1\" >object</td>\n",
       "      <td id=\"T_a31d5_row3_col2\" class=\"data row3 col2\" >0</td>\n",
       "      <td id=\"T_a31d5_row3_col3\" class=\"data row3 col3\" >0.000000</td>\n",
       "      <td id=\"T_a31d5_row3_col4\" class=\"data row3 col4\" >2</td>\n",
       "      <td id=\"T_a31d5_row3_col5\" class=\"data row3 col5\" >['Pria' 'Wanita']</td>\n",
       "    </tr>\n",
       "    <tr>\n",
       "      <th id=\"T_a31d5_level0_row4\" class=\"row_heading level0 row4\" >4</th>\n",
       "      <td id=\"T_a31d5_row4_col0\" class=\"data row4 col0\" >StatusKepegawaian</td>\n",
       "      <td id=\"T_a31d5_row4_col1\" class=\"data row4 col1\" >object</td>\n",
       "      <td id=\"T_a31d5_row4_col2\" class=\"data row4 col2\" >0</td>\n",
       "      <td id=\"T_a31d5_row4_col3\" class=\"data row4 col3\" >0.000000</td>\n",
       "      <td id=\"T_a31d5_row4_col4\" class=\"data row4 col4\" >3</td>\n",
       "      <td id=\"T_a31d5_row4_col5\" class=\"data row4 col5\" >['Outsource' 'FullTime' 'Internship']</td>\n",
       "    </tr>\n",
       "    <tr>\n",
       "      <th id=\"T_a31d5_level0_row5\" class=\"row_heading level0 row5\" >5</th>\n",
       "      <td id=\"T_a31d5_row5_col0\" class=\"data row5 col0\" >Pekerjaan</td>\n",
       "      <td id=\"T_a31d5_row5_col1\" class=\"data row5 col1\" >object</td>\n",
       "      <td id=\"T_a31d5_row5_col2\" class=\"data row5 col2\" >0</td>\n",
       "      <td id=\"T_a31d5_row5_col3\" class=\"data row5 col3\" >0.000000</td>\n",
       "      <td id=\"T_a31d5_row5_col4\" class=\"data row5 col4\" >14</td>\n",
       "      <td id=\"T_a31d5_row5_col5\" class=\"data row5 col5\" >['Software Engineer (Back End)' 'Data Analyst'\n",
       " 'Software Engineer (Front End)' 'Product Manager'\n",
       " 'Software Engineer (Android)']</td>\n",
       "    </tr>\n",
       "    <tr>\n",
       "      <th id=\"T_a31d5_level0_row6\" class=\"row_heading level0 row6\" >6</th>\n",
       "      <td id=\"T_a31d5_row6_col0\" class=\"data row6 col0\" >JenjangKarir</td>\n",
       "      <td id=\"T_a31d5_row6_col1\" class=\"data row6 col1\" >object</td>\n",
       "      <td id=\"T_a31d5_row6_col2\" class=\"data row6 col2\" >0</td>\n",
       "      <td id=\"T_a31d5_row6_col3\" class=\"data row6 col3\" >0.000000</td>\n",
       "      <td id=\"T_a31d5_row6_col4\" class=\"data row6 col4\" >3</td>\n",
       "      <td id=\"T_a31d5_row6_col5\" class=\"data row6 col5\" >['Freshgraduate_program' 'Senior_level' 'Mid_level']</td>\n",
       "    </tr>\n",
       "    <tr>\n",
       "      <th id=\"T_a31d5_level0_row7\" class=\"row_heading level0 row7\" >7</th>\n",
       "      <td id=\"T_a31d5_row7_col0\" class=\"data row7 col0\" >PerformancePegawai</td>\n",
       "      <td id=\"T_a31d5_row7_col1\" class=\"data row7 col1\" >object</td>\n",
       "      <td id=\"T_a31d5_row7_col2\" class=\"data row7 col2\" >0</td>\n",
       "      <td id=\"T_a31d5_row7_col3\" class=\"data row7 col3\" >0.000000</td>\n",
       "      <td id=\"T_a31d5_row7_col4\" class=\"data row7 col4\" >5</td>\n",
       "      <td id=\"T_a31d5_row7_col5\" class=\"data row7 col5\" >['Sangat_bagus' 'Sangat_kurang' 'Bagus' 'Biasa' 'Kurang']</td>\n",
       "    </tr>\n",
       "    <tr>\n",
       "      <th id=\"T_a31d5_level0_row8\" class=\"row_heading level0 row8\" >8</th>\n",
       "      <td id=\"T_a31d5_row8_col0\" class=\"data row8 col0\" >AsalDaerah</td>\n",
       "      <td id=\"T_a31d5_row8_col1\" class=\"data row8 col1\" >object</td>\n",
       "      <td id=\"T_a31d5_row8_col2\" class=\"data row8 col2\" >0</td>\n",
       "      <td id=\"T_a31d5_row8_col3\" class=\"data row8 col3\" >0.000000</td>\n",
       "      <td id=\"T_a31d5_row8_col4\" class=\"data row8 col4\" >5</td>\n",
       "      <td id=\"T_a31d5_row8_col5\" class=\"data row8 col5\" >['Jakarta Timur' 'Jakarta Utara' 'Jakarta Pusat' 'Jakarta Selatan'\n",
       " 'Jakarta Barat']</td>\n",
       "    </tr>\n",
       "    <tr>\n",
       "      <th id=\"T_a31d5_level0_row9\" class=\"row_heading level0 row9\" >9</th>\n",
       "      <td id=\"T_a31d5_row9_col0\" class=\"data row9 col0\" >HiringPlatform</td>\n",
       "      <td id=\"T_a31d5_row9_col1\" class=\"data row9 col1\" >object</td>\n",
       "      <td id=\"T_a31d5_row9_col2\" class=\"data row9 col2\" >0</td>\n",
       "      <td id=\"T_a31d5_row9_col3\" class=\"data row9 col3\" >0.000000</td>\n",
       "      <td id=\"T_a31d5_row9_col4\" class=\"data row9 col4\" >9</td>\n",
       "      <td id=\"T_a31d5_row9_col5\" class=\"data row9 col5\" >['Employee_Referral' 'Website' 'Indeed' 'LinkedIn' 'CareerBuilder']</td>\n",
       "    </tr>\n",
       "    <tr>\n",
       "      <th id=\"T_a31d5_level0_row10\" class=\"row_heading level0 row10\" >10</th>\n",
       "      <td id=\"T_a31d5_row10_col0\" class=\"data row10 col0\" >SkorSurveyEngagement</td>\n",
       "      <td id=\"T_a31d5_row10_col1\" class=\"data row10 col1\" >int64</td>\n",
       "      <td id=\"T_a31d5_row10_col2\" class=\"data row10 col2\" >0</td>\n",
       "      <td id=\"T_a31d5_row10_col3\" class=\"data row10 col3\" >0.000000</td>\n",
       "      <td id=\"T_a31d5_row10_col4\" class=\"data row10 col4\" >5</td>\n",
       "      <td id=\"T_a31d5_row10_col5\" class=\"data row10 col5\" >[4 3 2 1 5]</td>\n",
       "    </tr>\n",
       "    <tr>\n",
       "      <th id=\"T_a31d5_level0_row11\" class=\"row_heading level0 row11\" >11</th>\n",
       "      <td id=\"T_a31d5_row11_col0\" class=\"data row11 col0\" >SkorKepuasanPegawai</td>\n",
       "      <td id=\"T_a31d5_row11_col1\" class=\"data row11 col1\" >float64</td>\n",
       "      <td id=\"T_a31d5_row11_col2\" class=\"data row11 col2\" >5</td>\n",
       "      <td id=\"T_a31d5_row11_col3\" class=\"data row11 col3\" >1.740000</td>\n",
       "      <td id=\"T_a31d5_row11_col4\" class=\"data row11 col4\" >5</td>\n",
       "      <td id=\"T_a31d5_row11_col5\" class=\"data row11 col5\" >[ 4.  3.  5. nan  2.]</td>\n",
       "    </tr>\n",
       "    <tr>\n",
       "      <th id=\"T_a31d5_level0_row12\" class=\"row_heading level0 row12\" >12</th>\n",
       "      <td id=\"T_a31d5_row12_col0\" class=\"data row12 col0\" >JumlahKeikutsertaanProjek</td>\n",
       "      <td id=\"T_a31d5_row12_col1\" class=\"data row12 col1\" >float64</td>\n",
       "      <td id=\"T_a31d5_row12_col2\" class=\"data row12 col2\" >3</td>\n",
       "      <td id=\"T_a31d5_row12_col3\" class=\"data row12 col3\" >1.050000</td>\n",
       "      <td id=\"T_a31d5_row12_col4\" class=\"data row12 col4\" >9</td>\n",
       "      <td id=\"T_a31d5_row12_col5\" class=\"data row12 col5\" >[ 0.  4.  6. nan  7.]</td>\n",
       "    </tr>\n",
       "    <tr>\n",
       "      <th id=\"T_a31d5_level0_row13\" class=\"row_heading level0 row13\" >13</th>\n",
       "      <td id=\"T_a31d5_row13_col0\" class=\"data row13 col0\" >JumlahKeterlambatanSebulanTerakhir</td>\n",
       "      <td id=\"T_a31d5_row13_col1\" class=\"data row13 col1\" >float64</td>\n",
       "      <td id=\"T_a31d5_row13_col2\" class=\"data row13 col2\" >1</td>\n",
       "      <td id=\"T_a31d5_row13_col3\" class=\"data row13 col3\" >0.350000</td>\n",
       "      <td id=\"T_a31d5_row13_col4\" class=\"data row13 col4\" >7</td>\n",
       "      <td id=\"T_a31d5_row13_col5\" class=\"data row13 col5\" >[0. 4. 3. 5. 2.]</td>\n",
       "    </tr>\n",
       "    <tr>\n",
       "      <th id=\"T_a31d5_level0_row14\" class=\"row_heading level0 row14\" >14</th>\n",
       "      <td id=\"T_a31d5_row14_col0\" class=\"data row14 col0\" >JumlahKetidakhadiran</td>\n",
       "      <td id=\"T_a31d5_row14_col1\" class=\"data row14 col1\" >float64</td>\n",
       "      <td id=\"T_a31d5_row14_col2\" class=\"data row14 col2\" >6</td>\n",
       "      <td id=\"T_a31d5_row14_col3\" class=\"data row14 col3\" >2.090000</td>\n",
       "      <td id=\"T_a31d5_row14_col4\" class=\"data row14 col4\" >22</td>\n",
       "      <td id=\"T_a31d5_row14_col5\" class=\"data row14 col5\" >[ 9.  3. 11.  6. 10.]</td>\n",
       "    </tr>\n",
       "    <tr>\n",
       "      <th id=\"T_a31d5_level0_row15\" class=\"row_heading level0 row15\" >15</th>\n",
       "      <td id=\"T_a31d5_row15_col0\" class=\"data row15 col0\" >NomorHP</td>\n",
       "      <td id=\"T_a31d5_row15_col1\" class=\"data row15 col1\" >object</td>\n",
       "      <td id=\"T_a31d5_row15_col2\" class=\"data row15 col2\" >0</td>\n",
       "      <td id=\"T_a31d5_row15_col3\" class=\"data row15 col3\" >0.000000</td>\n",
       "      <td id=\"T_a31d5_row15_col4\" class=\"data row15 col4\" >287</td>\n",
       "      <td id=\"T_a31d5_row15_col5\" class=\"data row15 col5\" >['+6282232522xxx' '+6281270745xxx' '+6281346215xxx' '+6283233846xxx'\n",
       " '+6287883263xxx']</td>\n",
       "    </tr>\n",
       "    <tr>\n",
       "      <th id=\"T_a31d5_level0_row16\" class=\"row_heading level0 row16\" >16</th>\n",
       "      <td id=\"T_a31d5_row16_col0\" class=\"data row16 col0\" >Email</td>\n",
       "      <td id=\"T_a31d5_row16_col1\" class=\"data row16 col1\" >object</td>\n",
       "      <td id=\"T_a31d5_row16_col2\" class=\"data row16 col2\" >0</td>\n",
       "      <td id=\"T_a31d5_row16_col3\" class=\"data row16 col3\" >0.000000</td>\n",
       "      <td id=\"T_a31d5_row16_col4\" class=\"data row16 col4\" >287</td>\n",
       "      <td id=\"T_a31d5_row16_col5\" class=\"data row16 col5\" >['spiritedPorpoise3135@yahoo.com' 'jealousGelding2239@yahoo.com'\n",
       " 'pluckyMuesli3961@icloud.com' 'stressedTruffle1406@hotmail.com'\n",
       " 'shyTermite7149@gmail.com']</td>\n",
       "    </tr>\n",
       "    <tr>\n",
       "      <th id=\"T_a31d5_level0_row17\" class=\"row_heading level0 row17\" >17</th>\n",
       "      <td id=\"T_a31d5_row17_col0\" class=\"data row17 col0\" >TingkatPendidikan</td>\n",
       "      <td id=\"T_a31d5_row17_col1\" class=\"data row17 col1\" >object</td>\n",
       "      <td id=\"T_a31d5_row17_col2\" class=\"data row17 col2\" >0</td>\n",
       "      <td id=\"T_a31d5_row17_col3\" class=\"data row17 col3\" >0.000000</td>\n",
       "      <td id=\"T_a31d5_row17_col4\" class=\"data row17 col4\" >3</td>\n",
       "      <td id=\"T_a31d5_row17_col5\" class=\"data row17 col5\" >['Magister' 'Sarjana' 'Doktor']</td>\n",
       "    </tr>\n",
       "    <tr>\n",
       "      <th id=\"T_a31d5_level0_row18\" class=\"row_heading level0 row18\" >18</th>\n",
       "      <td id=\"T_a31d5_row18_col0\" class=\"data row18 col0\" >PernahBekerja</td>\n",
       "      <td id=\"T_a31d5_row18_col1\" class=\"data row18 col1\" >object</td>\n",
       "      <td id=\"T_a31d5_row18_col2\" class=\"data row18 col2\" >0</td>\n",
       "      <td id=\"T_a31d5_row18_col3\" class=\"data row18 col3\" >0.000000</td>\n",
       "      <td id=\"T_a31d5_row18_col4\" class=\"data row18 col4\" >2</td>\n",
       "      <td id=\"T_a31d5_row18_col5\" class=\"data row18 col5\" >['1' 'yes']</td>\n",
       "    </tr>\n",
       "    <tr>\n",
       "      <th id=\"T_a31d5_level0_row19\" class=\"row_heading level0 row19\" >19</th>\n",
       "      <td id=\"T_a31d5_row19_col0\" class=\"data row19 col0\" >IkutProgramLOP</td>\n",
       "      <td id=\"T_a31d5_row19_col1\" class=\"data row19 col1\" >float64</td>\n",
       "      <td id=\"T_a31d5_row19_col2\" class=\"data row19 col2\" >258</td>\n",
       "      <td id=\"T_a31d5_row19_col3\" class=\"data row19 col3\" >89.900000</td>\n",
       "      <td id=\"T_a31d5_row19_col4\" class=\"data row19 col4\" >2</td>\n",
       "      <td id=\"T_a31d5_row19_col5\" class=\"data row19 col5\" >[ 1.  0. nan]</td>\n",
       "    </tr>\n",
       "    <tr>\n",
       "      <th id=\"T_a31d5_level0_row20\" class=\"row_heading level0 row20\" >20</th>\n",
       "      <td id=\"T_a31d5_row20_col0\" class=\"data row20 col0\" >AlasanResign</td>\n",
       "      <td id=\"T_a31d5_row20_col1\" class=\"data row20 col1\" >object</td>\n",
       "      <td id=\"T_a31d5_row20_col2\" class=\"data row20 col2\" >66</td>\n",
       "      <td id=\"T_a31d5_row20_col3\" class=\"data row20 col3\" >23.000000</td>\n",
       "      <td id=\"T_a31d5_row20_col4\" class=\"data row20 col4\" >11</td>\n",
       "      <td id=\"T_a31d5_row20_col5\" class=\"data row20 col5\" >['masih_bekerja' 'toxic_culture' 'jam_kerja' 'ganti_karir' 'tidak_bahagia']</td>\n",
       "    </tr>\n",
       "    <tr>\n",
       "      <th id=\"T_a31d5_level0_row21\" class=\"row_heading level0 row21\" >21</th>\n",
       "      <td id=\"T_a31d5_row21_col0\" class=\"data row21 col0\" >TanggalLahir</td>\n",
       "      <td id=\"T_a31d5_row21_col1\" class=\"data row21 col1\" >object</td>\n",
       "      <td id=\"T_a31d5_row21_col2\" class=\"data row21 col2\" >0</td>\n",
       "      <td id=\"T_a31d5_row21_col3\" class=\"data row21 col3\" >0.000000</td>\n",
       "      <td id=\"T_a31d5_row21_col4\" class=\"data row21 col4\" >284</td>\n",
       "      <td id=\"T_a31d5_row21_col5\" class=\"data row21 col5\" >['1972-07-01' '1984-04-26' '1974-01-07' '1979-11-24' '1974-11-07']</td>\n",
       "    </tr>\n",
       "    <tr>\n",
       "      <th id=\"T_a31d5_level0_row22\" class=\"row_heading level0 row22\" >22</th>\n",
       "      <td id=\"T_a31d5_row22_col0\" class=\"data row22 col0\" >TanggalHiring</td>\n",
       "      <td id=\"T_a31d5_row22_col1\" class=\"data row22 col1\" >object</td>\n",
       "      <td id=\"T_a31d5_row22_col2\" class=\"data row22 col2\" >0</td>\n",
       "      <td id=\"T_a31d5_row22_col3\" class=\"data row22 col3\" >0.000000</td>\n",
       "      <td id=\"T_a31d5_row22_col4\" class=\"data row22 col4\" >97</td>\n",
       "      <td id=\"T_a31d5_row22_col5\" class=\"data row22 col5\" >['2011-01-10' '2014-01-06' '2014-2-17' '2013-11-11' '2016-10-02']</td>\n",
       "    </tr>\n",
       "    <tr>\n",
       "      <th id=\"T_a31d5_level0_row23\" class=\"row_heading level0 row23\" >23</th>\n",
       "      <td id=\"T_a31d5_row23_col0\" class=\"data row23 col0\" >TanggalPenilaianKaryawan</td>\n",
       "      <td id=\"T_a31d5_row23_col1\" class=\"data row23 col1\" >object</td>\n",
       "      <td id=\"T_a31d5_row23_col2\" class=\"data row23 col2\" >0</td>\n",
       "      <td id=\"T_a31d5_row23_col3\" class=\"data row23 col3\" >0.000000</td>\n",
       "      <td id=\"T_a31d5_row23_col4\" class=\"data row23 col4\" >127</td>\n",
       "      <td id=\"T_a31d5_row23_col5\" class=\"data row23 col5\" >['2016-2-15' '2020-1-17' '2016-01-10' '2020-02-04' '2020-1-22']</td>\n",
       "    </tr>\n",
       "    <tr>\n",
       "      <th id=\"T_a31d5_level0_row24\" class=\"row_heading level0 row24\" >24</th>\n",
       "      <td id=\"T_a31d5_row24_col0\" class=\"data row24 col0\" >TanggalResign</td>\n",
       "      <td id=\"T_a31d5_row24_col1\" class=\"data row24 col1\" >object</td>\n",
       "      <td id=\"T_a31d5_row24_col2\" class=\"data row24 col2\" >0</td>\n",
       "      <td id=\"T_a31d5_row24_col3\" class=\"data row24 col3\" >0.000000</td>\n",
       "      <td id=\"T_a31d5_row24_col4\" class=\"data row24 col4\" >53</td>\n",
       "      <td id=\"T_a31d5_row24_col5\" class=\"data row24 col5\" >['-' '2018-6-16' '2014-9-24' '2018-09-06' '2019-01-12']</td>\n",
       "    </tr>\n",
       "  </tbody>\n",
       "</table>\n"
      ],
      "text/plain": [
       "<pandas.io.formats.style.Styler at 0x188af46e050>"
      ]
     },
     "execution_count": 4,
     "metadata": {},
     "output_type": "execute_result"
    }
   ],
   "source": [
    "lst_itm = []\n",
    "for col in df.columns:\n",
    "    dtypes       = df[col].dtype\n",
    "    n_null       = df[col].isnull().sum()\n",
    "    percent_null = round(100*df[col].isnull().sum()/len(df[col]),2)\n",
    "    n_unique     = df[col].nunique()\n",
    "    unique       = df[col].unique()[:5]\n",
    "    lst_itm.append([col,dtypes, n_null,percent_null,n_unique,unique] )\n",
    "df_desc = pd.DataFrame(data=lst_itm, columns=['Feature', 'dtypes', 'n_null', 'percent_null', 'n_unique', 'unique'])\n",
    "df_desc.style.background_gradient(cmap='Greens')"
   ]
  },
  {
   "cell_type": "markdown",
   "metadata": {},
   "source": [
    "## **Drop Unnecessary Features**\n",
    "\n",
    "dihapus karena tidak memberikan Fitur dengan nilai yang unik untuk setiap data point (baris) umumnya tidak memberikan informasi yang berguna untuk membangun model machine learning atau melakukan analisis statistik.\n",
    "dan untuk nilai yang hanya 1 value, idak ada variasi atau perubahan dalam nilai, sehingga tidak memberikan informasi yang berguna untuk membedakan satu data point dengan data point lainnya.\n",
    "\n",
    "Username, NomorHP, Email, dan EnterpriseID di drop karena nilainya unik semua dan kolom PernahBekerja juga di drop karena hanya menampilkan value yes dan 1 yang artinya sama, maka akan di drop di tahap selanjutnya"
   ]
  },
  {
   "cell_type": "code",
   "execution_count": null,
   "metadata": {},
   "outputs": [],
   "source": [
    "df = df.drop(columns=['Username', 'EnterpriseID', 'NomorHP', 'Email', 'PernahBekerja'])"
   ]
  },
  {
   "cell_type": "markdown",
   "metadata": {},
   "source": [
    "## **Descriptive Analysis**"
   ]
  },
  {
   "cell_type": "code",
   "execution_count": 6,
   "metadata": {},
   "outputs": [
    {
     "data": {
      "text/html": [
       "<div>\n",
       "<style scoped>\n",
       "    .dataframe tbody tr th:only-of-type {\n",
       "        vertical-align: middle;\n",
       "    }\n",
       "\n",
       "    .dataframe tbody tr th {\n",
       "        vertical-align: top;\n",
       "    }\n",
       "\n",
       "    .dataframe thead th {\n",
       "        text-align: right;\n",
       "    }\n",
       "</style>\n",
       "<table border=\"1\" class=\"dataframe\">\n",
       "  <thead>\n",
       "    <tr style=\"text-align: right;\">\n",
       "      <th></th>\n",
       "      <th>count</th>\n",
       "      <th>mean</th>\n",
       "      <th>std</th>\n",
       "      <th>min</th>\n",
       "      <th>25%</th>\n",
       "      <th>50%</th>\n",
       "      <th>75%</th>\n",
       "      <th>max</th>\n",
       "    </tr>\n",
       "  </thead>\n",
       "  <tbody>\n",
       "    <tr>\n",
       "      <th>SkorSurveyEngagement</th>\n",
       "      <td>287.0</td>\n",
       "      <td>3.101045</td>\n",
       "      <td>0.836388</td>\n",
       "      <td>1.0</td>\n",
       "      <td>3.0</td>\n",
       "      <td>3.0</td>\n",
       "      <td>4.0</td>\n",
       "      <td>5.0</td>\n",
       "    </tr>\n",
       "    <tr>\n",
       "      <th>SkorKepuasanPegawai</th>\n",
       "      <td>282.0</td>\n",
       "      <td>3.904255</td>\n",
       "      <td>0.913355</td>\n",
       "      <td>1.0</td>\n",
       "      <td>3.0</td>\n",
       "      <td>4.0</td>\n",
       "      <td>5.0</td>\n",
       "      <td>5.0</td>\n",
       "    </tr>\n",
       "    <tr>\n",
       "      <th>JumlahKeikutsertaanProjek</th>\n",
       "      <td>284.0</td>\n",
       "      <td>1.179577</td>\n",
       "      <td>2.294441</td>\n",
       "      <td>0.0</td>\n",
       "      <td>0.0</td>\n",
       "      <td>0.0</td>\n",
       "      <td>0.0</td>\n",
       "      <td>8.0</td>\n",
       "    </tr>\n",
       "    <tr>\n",
       "      <th>JumlahKeterlambatanSebulanTerakhir</th>\n",
       "      <td>286.0</td>\n",
       "      <td>0.412587</td>\n",
       "      <td>1.275016</td>\n",
       "      <td>0.0</td>\n",
       "      <td>0.0</td>\n",
       "      <td>0.0</td>\n",
       "      <td>0.0</td>\n",
       "      <td>6.0</td>\n",
       "    </tr>\n",
       "    <tr>\n",
       "      <th>JumlahKetidakhadiran</th>\n",
       "      <td>281.0</td>\n",
       "      <td>10.448399</td>\n",
       "      <td>6.902252</td>\n",
       "      <td>1.0</td>\n",
       "      <td>5.0</td>\n",
       "      <td>10.0</td>\n",
       "      <td>15.0</td>\n",
       "      <td>55.0</td>\n",
       "    </tr>\n",
       "    <tr>\n",
       "      <th>IkutProgramLOP</th>\n",
       "      <td>29.0</td>\n",
       "      <td>0.517241</td>\n",
       "      <td>0.508548</td>\n",
       "      <td>0.0</td>\n",
       "      <td>0.0</td>\n",
       "      <td>1.0</td>\n",
       "      <td>1.0</td>\n",
       "      <td>1.0</td>\n",
       "    </tr>\n",
       "  </tbody>\n",
       "</table>\n",
       "</div>"
      ],
      "text/plain": [
       "                                    count       mean       std  min  25%  \\\n",
       "SkorSurveyEngagement                287.0   3.101045  0.836388  1.0  3.0   \n",
       "SkorKepuasanPegawai                 282.0   3.904255  0.913355  1.0  3.0   \n",
       "JumlahKeikutsertaanProjek           284.0   1.179577  2.294441  0.0  0.0   \n",
       "JumlahKeterlambatanSebulanTerakhir  286.0   0.412587  1.275016  0.0  0.0   \n",
       "JumlahKetidakhadiran                281.0  10.448399  6.902252  1.0  5.0   \n",
       "IkutProgramLOP                       29.0   0.517241  0.508548  0.0  0.0   \n",
       "\n",
       "                                     50%   75%   max  \n",
       "SkorSurveyEngagement                 3.0   4.0   5.0  \n",
       "SkorKepuasanPegawai                  4.0   5.0   5.0  \n",
       "JumlahKeikutsertaanProjek            0.0   0.0   8.0  \n",
       "JumlahKeterlambatanSebulanTerakhir   0.0   0.0   6.0  \n",
       "JumlahKetidakhadiran                10.0  15.0  55.0  \n",
       "IkutProgramLOP                       1.0   1.0   1.0  "
      ]
     },
     "execution_count": 6,
     "metadata": {},
     "output_type": "execute_result"
    }
   ],
   "source": [
    "df.describe().T"
   ]
  },
  {
   "cell_type": "code",
   "execution_count": 7,
   "metadata": {},
   "outputs": [
    {
     "data": {
      "text/html": [
       "<div>\n",
       "<style scoped>\n",
       "    .dataframe tbody tr th:only-of-type {\n",
       "        vertical-align: middle;\n",
       "    }\n",
       "\n",
       "    .dataframe tbody tr th {\n",
       "        vertical-align: top;\n",
       "    }\n",
       "\n",
       "    .dataframe thead th {\n",
       "        text-align: right;\n",
       "    }\n",
       "</style>\n",
       "<table border=\"1\" class=\"dataframe\">\n",
       "  <thead>\n",
       "    <tr style=\"text-align: right;\">\n",
       "      <th></th>\n",
       "      <th>count</th>\n",
       "      <th>unique</th>\n",
       "      <th>top</th>\n",
       "      <th>freq</th>\n",
       "    </tr>\n",
       "  </thead>\n",
       "  <tbody>\n",
       "    <tr>\n",
       "      <th>StatusPernikahan</th>\n",
       "      <td>287</td>\n",
       "      <td>5</td>\n",
       "      <td>Belum_menikah</td>\n",
       "      <td>132</td>\n",
       "    </tr>\n",
       "    <tr>\n",
       "      <th>JenisKelamin</th>\n",
       "      <td>287</td>\n",
       "      <td>2</td>\n",
       "      <td>Wanita</td>\n",
       "      <td>167</td>\n",
       "    </tr>\n",
       "    <tr>\n",
       "      <th>StatusKepegawaian</th>\n",
       "      <td>287</td>\n",
       "      <td>3</td>\n",
       "      <td>FullTime</td>\n",
       "      <td>217</td>\n",
       "    </tr>\n",
       "    <tr>\n",
       "      <th>Pekerjaan</th>\n",
       "      <td>287</td>\n",
       "      <td>14</td>\n",
       "      <td>Software Engineer (Back End)</td>\n",
       "      <td>109</td>\n",
       "    </tr>\n",
       "    <tr>\n",
       "      <th>JenjangKarir</th>\n",
       "      <td>287</td>\n",
       "      <td>3</td>\n",
       "      <td>Freshgraduate_program</td>\n",
       "      <td>169</td>\n",
       "    </tr>\n",
       "    <tr>\n",
       "      <th>PerformancePegawai</th>\n",
       "      <td>287</td>\n",
       "      <td>5</td>\n",
       "      <td>Biasa</td>\n",
       "      <td>85</td>\n",
       "    </tr>\n",
       "    <tr>\n",
       "      <th>AsalDaerah</th>\n",
       "      <td>287</td>\n",
       "      <td>5</td>\n",
       "      <td>Jakarta Pusat</td>\n",
       "      <td>72</td>\n",
       "    </tr>\n",
       "    <tr>\n",
       "      <th>HiringPlatform</th>\n",
       "      <td>287</td>\n",
       "      <td>9</td>\n",
       "      <td>Indeed</td>\n",
       "      <td>85</td>\n",
       "    </tr>\n",
       "    <tr>\n",
       "      <th>TingkatPendidikan</th>\n",
       "      <td>287</td>\n",
       "      <td>3</td>\n",
       "      <td>Sarjana</td>\n",
       "      <td>176</td>\n",
       "    </tr>\n",
       "    <tr>\n",
       "      <th>PernahBekerja</th>\n",
       "      <td>287</td>\n",
       "      <td>2</td>\n",
       "      <td>1</td>\n",
       "      <td>286</td>\n",
       "    </tr>\n",
       "    <tr>\n",
       "      <th>AlasanResign</th>\n",
       "      <td>221</td>\n",
       "      <td>11</td>\n",
       "      <td>masih_bekerja</td>\n",
       "      <td>132</td>\n",
       "    </tr>\n",
       "    <tr>\n",
       "      <th>TanggalLahir</th>\n",
       "      <td>287</td>\n",
       "      <td>284</td>\n",
       "      <td>1987-06-14</td>\n",
       "      <td>2</td>\n",
       "    </tr>\n",
       "    <tr>\n",
       "      <th>TanggalHiring</th>\n",
       "      <td>287</td>\n",
       "      <td>97</td>\n",
       "      <td>2011-01-10</td>\n",
       "      <td>12</td>\n",
       "    </tr>\n",
       "    <tr>\n",
       "      <th>TanggalPenilaianKaryawan</th>\n",
       "      <td>287</td>\n",
       "      <td>127</td>\n",
       "      <td>2020-1-14</td>\n",
       "      <td>17</td>\n",
       "    </tr>\n",
       "    <tr>\n",
       "      <th>TanggalResign</th>\n",
       "      <td>287</td>\n",
       "      <td>53</td>\n",
       "      <td>-</td>\n",
       "      <td>198</td>\n",
       "    </tr>\n",
       "  </tbody>\n",
       "</table>\n",
       "</div>"
      ],
      "text/plain": [
       "                         count unique                           top freq\n",
       "StatusPernikahan           287      5                 Belum_menikah  132\n",
       "JenisKelamin               287      2                        Wanita  167\n",
       "StatusKepegawaian          287      3                      FullTime  217\n",
       "Pekerjaan                  287     14  Software Engineer (Back End)  109\n",
       "JenjangKarir               287      3         Freshgraduate_program  169\n",
       "PerformancePegawai         287      5                         Biasa   85\n",
       "AsalDaerah                 287      5                 Jakarta Pusat   72\n",
       "HiringPlatform             287      9                        Indeed   85\n",
       "TingkatPendidikan          287      3                       Sarjana  176\n",
       "PernahBekerja              287      2                             1  286\n",
       "AlasanResign               221     11                 masih_bekerja  132\n",
       "TanggalLahir               287    284                    1987-06-14    2\n",
       "TanggalHiring              287     97                    2011-01-10   12\n",
       "TanggalPenilaianKaryawan   287    127                     2020-1-14   17\n",
       "TanggalResign              287     53                             -  198"
      ]
     },
     "execution_count": 7,
     "metadata": {},
     "output_type": "execute_result"
    }
   ],
   "source": [
    "df.describe(include=['object']).T"
   ]
  },
  {
   "cell_type": "markdown",
   "metadata": {},
   "source": [
    "## **Check Duplicated Data**"
   ]
  },
  {
   "cell_type": "code",
   "execution_count": 8,
   "metadata": {},
   "outputs": [
    {
     "name": "stdout",
     "output_type": "stream",
     "text": [
      "Jumlah baris duplikat: 0\n"
     ]
    }
   ],
   "source": [
    "print(\"Jumlah baris duplikat:\", df.duplicated().sum())"
   ]
  },
  {
   "cell_type": "markdown",
   "metadata": {},
   "source": [
    "## **Check Missing Values**"
   ]
  },
  {
   "cell_type": "code",
   "execution_count": 9,
   "metadata": {},
   "outputs": [
    {
     "name": "stdout",
     "output_type": "stream",
     "text": [
      "Missing values status: 339\n"
     ]
    },
    {
     "data": {
      "text/html": [
       "<style type=\"text/css\">\n",
       "#T_fa8ea_row0_col1, #T_fa8ea_row0_col2 {\n",
       "  background-color: #00441b;\n",
       "  color: #f1f1f1;\n",
       "}\n",
       "#T_fa8ea_row1_col1, #T_fa8ea_row1_col2 {\n",
       "  background-color: #c7e9c0;\n",
       "  color: #000000;\n",
       "}\n",
       "#T_fa8ea_row2_col1, #T_fa8ea_row2_col2 {\n",
       "  background-color: #f5fbf2;\n",
       "  color: #000000;\n",
       "}\n",
       "#T_fa8ea_row3_col1, #T_fa8ea_row3_col2 {\n",
       "  background-color: #f5fbf3;\n",
       "  color: #000000;\n",
       "}\n",
       "#T_fa8ea_row4_col1, #T_fa8ea_row4_col2 {\n",
       "  background-color: #f6fcf4;\n",
       "  color: #000000;\n",
       "}\n",
       "#T_fa8ea_row5_col1, #T_fa8ea_row5_col2 {\n",
       "  background-color: #f7fcf5;\n",
       "  color: #000000;\n",
       "}\n",
       "</style>\n",
       "<table id=\"T_fa8ea\">\n",
       "  <thead>\n",
       "    <tr>\n",
       "      <th class=\"blank level0\" >&nbsp;</th>\n",
       "      <th id=\"T_fa8ea_level0_col0\" class=\"col_heading level0 col0\" >index</th>\n",
       "      <th id=\"T_fa8ea_level0_col1\" class=\"col_heading level0 col1\" >Total Null Values</th>\n",
       "      <th id=\"T_fa8ea_level0_col2\" class=\"col_heading level0 col2\" >Percentage</th>\n",
       "    </tr>\n",
       "  </thead>\n",
       "  <tbody>\n",
       "    <tr>\n",
       "      <th id=\"T_fa8ea_level0_row0\" class=\"row_heading level0 row0\" >15</th>\n",
       "      <td id=\"T_fa8ea_row0_col0\" class=\"data row0 col0\" >IkutProgramLOP</td>\n",
       "      <td id=\"T_fa8ea_row0_col1\" class=\"data row0 col1\" >258</td>\n",
       "      <td id=\"T_fa8ea_row0_col2\" class=\"data row0 col2\" >89.895470</td>\n",
       "    </tr>\n",
       "    <tr>\n",
       "      <th id=\"T_fa8ea_level0_row1\" class=\"row_heading level0 row1\" >16</th>\n",
       "      <td id=\"T_fa8ea_row1_col0\" class=\"data row1 col0\" >AlasanResign</td>\n",
       "      <td id=\"T_fa8ea_row1_col1\" class=\"data row1 col1\" >66</td>\n",
       "      <td id=\"T_fa8ea_row1_col2\" class=\"data row1 col2\" >22.996516</td>\n",
       "    </tr>\n",
       "    <tr>\n",
       "      <th id=\"T_fa8ea_level0_row2\" class=\"row_heading level0 row2\" >12</th>\n",
       "      <td id=\"T_fa8ea_row2_col0\" class=\"data row2 col0\" >JumlahKetidakhadiran</td>\n",
       "      <td id=\"T_fa8ea_row2_col1\" class=\"data row2 col1\" >6</td>\n",
       "      <td id=\"T_fa8ea_row2_col2\" class=\"data row2 col2\" >2.090592</td>\n",
       "    </tr>\n",
       "    <tr>\n",
       "      <th id=\"T_fa8ea_level0_row3\" class=\"row_heading level0 row3\" >9</th>\n",
       "      <td id=\"T_fa8ea_row3_col0\" class=\"data row3 col0\" >SkorKepuasanPegawai</td>\n",
       "      <td id=\"T_fa8ea_row3_col1\" class=\"data row3 col1\" >5</td>\n",
       "      <td id=\"T_fa8ea_row3_col2\" class=\"data row3 col2\" >1.742160</td>\n",
       "    </tr>\n",
       "    <tr>\n",
       "      <th id=\"T_fa8ea_level0_row4\" class=\"row_heading level0 row4\" >10</th>\n",
       "      <td id=\"T_fa8ea_row4_col0\" class=\"data row4 col0\" >JumlahKeikutsertaanProjek</td>\n",
       "      <td id=\"T_fa8ea_row4_col1\" class=\"data row4 col1\" >3</td>\n",
       "      <td id=\"T_fa8ea_row4_col2\" class=\"data row4 col2\" >1.045296</td>\n",
       "    </tr>\n",
       "    <tr>\n",
       "      <th id=\"T_fa8ea_level0_row5\" class=\"row_heading level0 row5\" >11</th>\n",
       "      <td id=\"T_fa8ea_row5_col0\" class=\"data row5 col0\" >JumlahKeterlambatanSebulanTerakhir</td>\n",
       "      <td id=\"T_fa8ea_row5_col1\" class=\"data row5 col1\" >1</td>\n",
       "      <td id=\"T_fa8ea_row5_col2\" class=\"data row5 col2\" >0.348432</td>\n",
       "    </tr>\n",
       "  </tbody>\n",
       "</table>\n"
      ],
      "text/plain": [
       "<pandas.io.formats.style.Styler at 0x188af4e20d0>"
      ]
     },
     "execution_count": 9,
     "metadata": {},
     "output_type": "execute_result"
    }
   ],
   "source": [
    "# check for empty elements\n",
    "print('Missing values status:', df.isnull().values.sum())\n",
    "\n",
    "count_nv = pd.DataFrame(df.isnull().sum(), columns=['Total Null Values']).reset_index()\n",
    "count_nv['Percentage'] = (count_nv['Total Null Values']/df.shape[0])*100\n",
    "count_nv[count_nv['Percentage'] > 0].sort_values(by='Percentage', ascending=False).style.background_gradient(cmap='Greens')"
   ]
  },
  {
   "cell_type": "markdown",
   "metadata": {},
   "source": [
    "1. No duplicated data.\n",
    "2. Columns that have missing values:\n",
    "    - 258 -> IkutProgramLOP\n",
    "    - 66 -> AlasanResign\n",
    "    - 6 -> JumlahKetidakhadiran\n",
    "    - 5 -> SkorKepuasanPegawai\n",
    "    - 3 -> JumlahKeikutsertaanProjek\n",
    "    - 1 -> JumlahKeterlambatanSebulanTerakhir"
   ]
  },
  {
   "cell_type": "markdown",
   "metadata": {},
   "source": [
    "## **Check the outliers**"
   ]
  },
  {
   "cell_type": "code",
   "execution_count": 10,
   "metadata": {},
   "outputs": [
    {
     "data": {
      "application/vnd.plotly.v1+json": {
       "config": {
        "plotlyServerURL": "https://plot.ly"
       },
       "data": [
        {
         "alignmentgroup": "True",
         "hovertemplate": "value=%{x}<br>variable=%{y}<extra></extra>",
         "legendgroup": "",
         "marker": {
          "color": "#ff6d00"
         },
         "name": "",
         "notched": false,
         "offsetgroup": "",
         "orientation": "h",
         "showlegend": false,
         "type": "box",
         "x": [
          4,
          4,
          4,
          3,
          3,
          3,
          2,
          2,
          3,
          4,
          3,
          1,
          4,
          3,
          3,
          3,
          3,
          3,
          3,
          1,
          4,
          3,
          3,
          3,
          1,
          2,
          4,
          3,
          3,
          4,
          4,
          3,
          1,
          3,
          3,
          3,
          2,
          3,
          2,
          3,
          3,
          3,
          4,
          3,
          1,
          3,
          2,
          4,
          3,
          4,
          3,
          3,
          3,
          4,
          4,
          3,
          4,
          2,
          4,
          3,
          3,
          3,
          2,
          2,
          1,
          3,
          3,
          3,
          4,
          3,
          3,
          3,
          2,
          4,
          3,
          4,
          2,
          4,
          4,
          3,
          2,
          3,
          3,
          3,
          4,
          4,
          3,
          3,
          2,
          3,
          3,
          3,
          4,
          2,
          4,
          3,
          3,
          4,
          1,
          3,
          3,
          3,
          3,
          3,
          4,
          3,
          4,
          3,
          4,
          4,
          3,
          3,
          3,
          4,
          3,
          4,
          4,
          4,
          4,
          4,
          4,
          3,
          3,
          3,
          3,
          3,
          4,
          4,
          4,
          4,
          3,
          4,
          3,
          1,
          4,
          1,
          1,
          4,
          3,
          3,
          4,
          3,
          3,
          2,
          3,
          2,
          3,
          3,
          4,
          4,
          1,
          3,
          4,
          2,
          3,
          4,
          2,
          4,
          3,
          4,
          4,
          3,
          3,
          4,
          1,
          2,
          4,
          2,
          2,
          5,
          4,
          2,
          4,
          3,
          2,
          3,
          3,
          4,
          3,
          4,
          3,
          4,
          2,
          3,
          3,
          4,
          4,
          2,
          3,
          3,
          4,
          3,
          1,
          4,
          4,
          4,
          3,
          3,
          3,
          3,
          3,
          4,
          4,
          3,
          3,
          3,
          4,
          4,
          4,
          2,
          3,
          2,
          3,
          3,
          3,
          4,
          2,
          2,
          3,
          3,
          4,
          3,
          3,
          4,
          4,
          3,
          1,
          4,
          4,
          4,
          3,
          2,
          3,
          4,
          4,
          3,
          4,
          3,
          5,
          4,
          4,
          2,
          4,
          3,
          4,
          2,
          3,
          3,
          4,
          4,
          3,
          4,
          4,
          2,
          3,
          3,
          2,
          4,
          3,
          3,
          3,
          2,
          4,
          3,
          3,
          2,
          3,
          4,
          2,
          3,
          4,
          2,
          2,
          3,
          3,
          2,
          3,
          4,
          3,
          3,
          3,
          2,
          2,
          4,
          2,
          4,
          4
         ],
         "x0": " ",
         "xaxis": "x",
         "y": [
          "SkorSurveyEngagement",
          "SkorSurveyEngagement",
          "SkorSurveyEngagement",
          "SkorSurveyEngagement",
          "SkorSurveyEngagement",
          "SkorSurveyEngagement",
          "SkorSurveyEngagement",
          "SkorSurveyEngagement",
          "SkorSurveyEngagement",
          "SkorSurveyEngagement",
          "SkorSurveyEngagement",
          "SkorSurveyEngagement",
          "SkorSurveyEngagement",
          "SkorSurveyEngagement",
          "SkorSurveyEngagement",
          "SkorSurveyEngagement",
          "SkorSurveyEngagement",
          "SkorSurveyEngagement",
          "SkorSurveyEngagement",
          "SkorSurveyEngagement",
          "SkorSurveyEngagement",
          "SkorSurveyEngagement",
          "SkorSurveyEngagement",
          "SkorSurveyEngagement",
          "SkorSurveyEngagement",
          "SkorSurveyEngagement",
          "SkorSurveyEngagement",
          "SkorSurveyEngagement",
          "SkorSurveyEngagement",
          "SkorSurveyEngagement",
          "SkorSurveyEngagement",
          "SkorSurveyEngagement",
          "SkorSurveyEngagement",
          "SkorSurveyEngagement",
          "SkorSurveyEngagement",
          "SkorSurveyEngagement",
          "SkorSurveyEngagement",
          "SkorSurveyEngagement",
          "SkorSurveyEngagement",
          "SkorSurveyEngagement",
          "SkorSurveyEngagement",
          "SkorSurveyEngagement",
          "SkorSurveyEngagement",
          "SkorSurveyEngagement",
          "SkorSurveyEngagement",
          "SkorSurveyEngagement",
          "SkorSurveyEngagement",
          "SkorSurveyEngagement",
          "SkorSurveyEngagement",
          "SkorSurveyEngagement",
          "SkorSurveyEngagement",
          "SkorSurveyEngagement",
          "SkorSurveyEngagement",
          "SkorSurveyEngagement",
          "SkorSurveyEngagement",
          "SkorSurveyEngagement",
          "SkorSurveyEngagement",
          "SkorSurveyEngagement",
          "SkorSurveyEngagement",
          "SkorSurveyEngagement",
          "SkorSurveyEngagement",
          "SkorSurveyEngagement",
          "SkorSurveyEngagement",
          "SkorSurveyEngagement",
          "SkorSurveyEngagement",
          "SkorSurveyEngagement",
          "SkorSurveyEngagement",
          "SkorSurveyEngagement",
          "SkorSurveyEngagement",
          "SkorSurveyEngagement",
          "SkorSurveyEngagement",
          "SkorSurveyEngagement",
          "SkorSurveyEngagement",
          "SkorSurveyEngagement",
          "SkorSurveyEngagement",
          "SkorSurveyEngagement",
          "SkorSurveyEngagement",
          "SkorSurveyEngagement",
          "SkorSurveyEngagement",
          "SkorSurveyEngagement",
          "SkorSurveyEngagement",
          "SkorSurveyEngagement",
          "SkorSurveyEngagement",
          "SkorSurveyEngagement",
          "SkorSurveyEngagement",
          "SkorSurveyEngagement",
          "SkorSurveyEngagement",
          "SkorSurveyEngagement",
          "SkorSurveyEngagement",
          "SkorSurveyEngagement",
          "SkorSurveyEngagement",
          "SkorSurveyEngagement",
          "SkorSurveyEngagement",
          "SkorSurveyEngagement",
          "SkorSurveyEngagement",
          "SkorSurveyEngagement",
          "SkorSurveyEngagement",
          "SkorSurveyEngagement",
          "SkorSurveyEngagement",
          "SkorSurveyEngagement",
          "SkorSurveyEngagement",
          "SkorSurveyEngagement",
          "SkorSurveyEngagement",
          "SkorSurveyEngagement",
          "SkorSurveyEngagement",
          "SkorSurveyEngagement",
          "SkorSurveyEngagement",
          "SkorSurveyEngagement",
          "SkorSurveyEngagement",
          "SkorSurveyEngagement",
          "SkorSurveyEngagement",
          "SkorSurveyEngagement",
          "SkorSurveyEngagement",
          "SkorSurveyEngagement",
          "SkorSurveyEngagement",
          "SkorSurveyEngagement",
          "SkorSurveyEngagement",
          "SkorSurveyEngagement",
          "SkorSurveyEngagement",
          "SkorSurveyEngagement",
          "SkorSurveyEngagement",
          "SkorSurveyEngagement",
          "SkorSurveyEngagement",
          "SkorSurveyEngagement",
          "SkorSurveyEngagement",
          "SkorSurveyEngagement",
          "SkorSurveyEngagement",
          "SkorSurveyEngagement",
          "SkorSurveyEngagement",
          "SkorSurveyEngagement",
          "SkorSurveyEngagement",
          "SkorSurveyEngagement",
          "SkorSurveyEngagement",
          "SkorSurveyEngagement",
          "SkorSurveyEngagement",
          "SkorSurveyEngagement",
          "SkorSurveyEngagement",
          "SkorSurveyEngagement",
          "SkorSurveyEngagement",
          "SkorSurveyEngagement",
          "SkorSurveyEngagement",
          "SkorSurveyEngagement",
          "SkorSurveyEngagement",
          "SkorSurveyEngagement",
          "SkorSurveyEngagement",
          "SkorSurveyEngagement",
          "SkorSurveyEngagement",
          "SkorSurveyEngagement",
          "SkorSurveyEngagement",
          "SkorSurveyEngagement",
          "SkorSurveyEngagement",
          "SkorSurveyEngagement",
          "SkorSurveyEngagement",
          "SkorSurveyEngagement",
          "SkorSurveyEngagement",
          "SkorSurveyEngagement",
          "SkorSurveyEngagement",
          "SkorSurveyEngagement",
          "SkorSurveyEngagement",
          "SkorSurveyEngagement",
          "SkorSurveyEngagement",
          "SkorSurveyEngagement",
          "SkorSurveyEngagement",
          "SkorSurveyEngagement",
          "SkorSurveyEngagement",
          "SkorSurveyEngagement",
          "SkorSurveyEngagement",
          "SkorSurveyEngagement",
          "SkorSurveyEngagement",
          "SkorSurveyEngagement",
          "SkorSurveyEngagement",
          "SkorSurveyEngagement",
          "SkorSurveyEngagement",
          "SkorSurveyEngagement",
          "SkorSurveyEngagement",
          "SkorSurveyEngagement",
          "SkorSurveyEngagement",
          "SkorSurveyEngagement",
          "SkorSurveyEngagement",
          "SkorSurveyEngagement",
          "SkorSurveyEngagement",
          "SkorSurveyEngagement",
          "SkorSurveyEngagement",
          "SkorSurveyEngagement",
          "SkorSurveyEngagement",
          "SkorSurveyEngagement",
          "SkorSurveyEngagement",
          "SkorSurveyEngagement",
          "SkorSurveyEngagement",
          "SkorSurveyEngagement",
          "SkorSurveyEngagement",
          "SkorSurveyEngagement",
          "SkorSurveyEngagement",
          "SkorSurveyEngagement",
          "SkorSurveyEngagement",
          "SkorSurveyEngagement",
          "SkorSurveyEngagement",
          "SkorSurveyEngagement",
          "SkorSurveyEngagement",
          "SkorSurveyEngagement",
          "SkorSurveyEngagement",
          "SkorSurveyEngagement",
          "SkorSurveyEngagement",
          "SkorSurveyEngagement",
          "SkorSurveyEngagement",
          "SkorSurveyEngagement",
          "SkorSurveyEngagement",
          "SkorSurveyEngagement",
          "SkorSurveyEngagement",
          "SkorSurveyEngagement",
          "SkorSurveyEngagement",
          "SkorSurveyEngagement",
          "SkorSurveyEngagement",
          "SkorSurveyEngagement",
          "SkorSurveyEngagement",
          "SkorSurveyEngagement",
          "SkorSurveyEngagement",
          "SkorSurveyEngagement",
          "SkorSurveyEngagement",
          "SkorSurveyEngagement",
          "SkorSurveyEngagement",
          "SkorSurveyEngagement",
          "SkorSurveyEngagement",
          "SkorSurveyEngagement",
          "SkorSurveyEngagement",
          "SkorSurveyEngagement",
          "SkorSurveyEngagement",
          "SkorSurveyEngagement",
          "SkorSurveyEngagement",
          "SkorSurveyEngagement",
          "SkorSurveyEngagement",
          "SkorSurveyEngagement",
          "SkorSurveyEngagement",
          "SkorSurveyEngagement",
          "SkorSurveyEngagement",
          "SkorSurveyEngagement",
          "SkorSurveyEngagement",
          "SkorSurveyEngagement",
          "SkorSurveyEngagement",
          "SkorSurveyEngagement",
          "SkorSurveyEngagement",
          "SkorSurveyEngagement",
          "SkorSurveyEngagement",
          "SkorSurveyEngagement",
          "SkorSurveyEngagement",
          "SkorSurveyEngagement",
          "SkorSurveyEngagement",
          "SkorSurveyEngagement",
          "SkorSurveyEngagement",
          "SkorSurveyEngagement",
          "SkorSurveyEngagement",
          "SkorSurveyEngagement",
          "SkorSurveyEngagement",
          "SkorSurveyEngagement",
          "SkorSurveyEngagement",
          "SkorSurveyEngagement",
          "SkorSurveyEngagement",
          "SkorSurveyEngagement",
          "SkorSurveyEngagement",
          "SkorSurveyEngagement",
          "SkorSurveyEngagement",
          "SkorSurveyEngagement",
          "SkorSurveyEngagement",
          "SkorSurveyEngagement",
          "SkorSurveyEngagement",
          "SkorSurveyEngagement",
          "SkorSurveyEngagement",
          "SkorSurveyEngagement",
          "SkorSurveyEngagement",
          "SkorSurveyEngagement",
          "SkorSurveyEngagement",
          "SkorSurveyEngagement",
          "SkorSurveyEngagement",
          "SkorSurveyEngagement",
          "SkorSurveyEngagement",
          "SkorSurveyEngagement",
          "SkorSurveyEngagement",
          "SkorSurveyEngagement",
          "SkorSurveyEngagement",
          "SkorSurveyEngagement",
          "SkorSurveyEngagement",
          "SkorSurveyEngagement",
          "SkorSurveyEngagement",
          "SkorSurveyEngagement",
          "SkorSurveyEngagement",
          "SkorSurveyEngagement",
          "SkorSurveyEngagement"
         ],
         "y0": " ",
         "yaxis": "y"
        }
       ],
       "layout": {
        "boxmode": "group",
        "height": 300,
        "legend": {
         "tracegroupgap": 0
        },
        "margin": {
         "t": 60
        },
        "template": {
         "data": {
          "bar": [
           {
            "error_x": {
             "color": "#2a3f5f"
            },
            "error_y": {
             "color": "#2a3f5f"
            },
            "marker": {
             "line": {
              "color": "#E5ECF6",
              "width": 0.5
             },
             "pattern": {
              "fillmode": "overlay",
              "size": 10,
              "solidity": 0.2
             }
            },
            "type": "bar"
           }
          ],
          "barpolar": [
           {
            "marker": {
             "line": {
              "color": "#E5ECF6",
              "width": 0.5
             },
             "pattern": {
              "fillmode": "overlay",
              "size": 10,
              "solidity": 0.2
             }
            },
            "type": "barpolar"
           }
          ],
          "carpet": [
           {
            "aaxis": {
             "endlinecolor": "#2a3f5f",
             "gridcolor": "white",
             "linecolor": "white",
             "minorgridcolor": "white",
             "startlinecolor": "#2a3f5f"
            },
            "baxis": {
             "endlinecolor": "#2a3f5f",
             "gridcolor": "white",
             "linecolor": "white",
             "minorgridcolor": "white",
             "startlinecolor": "#2a3f5f"
            },
            "type": "carpet"
           }
          ],
          "choropleth": [
           {
            "colorbar": {
             "outlinewidth": 0,
             "ticks": ""
            },
            "type": "choropleth"
           }
          ],
          "contour": [
           {
            "colorbar": {
             "outlinewidth": 0,
             "ticks": ""
            },
            "colorscale": [
             [
              0,
              "#0d0887"
             ],
             [
              0.1111111111111111,
              "#46039f"
             ],
             [
              0.2222222222222222,
              "#7201a8"
             ],
             [
              0.3333333333333333,
              "#9c179e"
             ],
             [
              0.4444444444444444,
              "#bd3786"
             ],
             [
              0.5555555555555556,
              "#d8576b"
             ],
             [
              0.6666666666666666,
              "#ed7953"
             ],
             [
              0.7777777777777778,
              "#fb9f3a"
             ],
             [
              0.8888888888888888,
              "#fdca26"
             ],
             [
              1,
              "#f0f921"
             ]
            ],
            "type": "contour"
           }
          ],
          "contourcarpet": [
           {
            "colorbar": {
             "outlinewidth": 0,
             "ticks": ""
            },
            "type": "contourcarpet"
           }
          ],
          "heatmap": [
           {
            "colorbar": {
             "outlinewidth": 0,
             "ticks": ""
            },
            "colorscale": [
             [
              0,
              "#0d0887"
             ],
             [
              0.1111111111111111,
              "#46039f"
             ],
             [
              0.2222222222222222,
              "#7201a8"
             ],
             [
              0.3333333333333333,
              "#9c179e"
             ],
             [
              0.4444444444444444,
              "#bd3786"
             ],
             [
              0.5555555555555556,
              "#d8576b"
             ],
             [
              0.6666666666666666,
              "#ed7953"
             ],
             [
              0.7777777777777778,
              "#fb9f3a"
             ],
             [
              0.8888888888888888,
              "#fdca26"
             ],
             [
              1,
              "#f0f921"
             ]
            ],
            "type": "heatmap"
           }
          ],
          "heatmapgl": [
           {
            "colorbar": {
             "outlinewidth": 0,
             "ticks": ""
            },
            "colorscale": [
             [
              0,
              "#0d0887"
             ],
             [
              0.1111111111111111,
              "#46039f"
             ],
             [
              0.2222222222222222,
              "#7201a8"
             ],
             [
              0.3333333333333333,
              "#9c179e"
             ],
             [
              0.4444444444444444,
              "#bd3786"
             ],
             [
              0.5555555555555556,
              "#d8576b"
             ],
             [
              0.6666666666666666,
              "#ed7953"
             ],
             [
              0.7777777777777778,
              "#fb9f3a"
             ],
             [
              0.8888888888888888,
              "#fdca26"
             ],
             [
              1,
              "#f0f921"
             ]
            ],
            "type": "heatmapgl"
           }
          ],
          "histogram": [
           {
            "marker": {
             "pattern": {
              "fillmode": "overlay",
              "size": 10,
              "solidity": 0.2
             }
            },
            "type": "histogram"
           }
          ],
          "histogram2d": [
           {
            "colorbar": {
             "outlinewidth": 0,
             "ticks": ""
            },
            "colorscale": [
             [
              0,
              "#0d0887"
             ],
             [
              0.1111111111111111,
              "#46039f"
             ],
             [
              0.2222222222222222,
              "#7201a8"
             ],
             [
              0.3333333333333333,
              "#9c179e"
             ],
             [
              0.4444444444444444,
              "#bd3786"
             ],
             [
              0.5555555555555556,
              "#d8576b"
             ],
             [
              0.6666666666666666,
              "#ed7953"
             ],
             [
              0.7777777777777778,
              "#fb9f3a"
             ],
             [
              0.8888888888888888,
              "#fdca26"
             ],
             [
              1,
              "#f0f921"
             ]
            ],
            "type": "histogram2d"
           }
          ],
          "histogram2dcontour": [
           {
            "colorbar": {
             "outlinewidth": 0,
             "ticks": ""
            },
            "colorscale": [
             [
              0,
              "#0d0887"
             ],
             [
              0.1111111111111111,
              "#46039f"
             ],
             [
              0.2222222222222222,
              "#7201a8"
             ],
             [
              0.3333333333333333,
              "#9c179e"
             ],
             [
              0.4444444444444444,
              "#bd3786"
             ],
             [
              0.5555555555555556,
              "#d8576b"
             ],
             [
              0.6666666666666666,
              "#ed7953"
             ],
             [
              0.7777777777777778,
              "#fb9f3a"
             ],
             [
              0.8888888888888888,
              "#fdca26"
             ],
             [
              1,
              "#f0f921"
             ]
            ],
            "type": "histogram2dcontour"
           }
          ],
          "mesh3d": [
           {
            "colorbar": {
             "outlinewidth": 0,
             "ticks": ""
            },
            "type": "mesh3d"
           }
          ],
          "parcoords": [
           {
            "line": {
             "colorbar": {
              "outlinewidth": 0,
              "ticks": ""
             }
            },
            "type": "parcoords"
           }
          ],
          "pie": [
           {
            "automargin": true,
            "type": "pie"
           }
          ],
          "scatter": [
           {
            "fillpattern": {
             "fillmode": "overlay",
             "size": 10,
             "solidity": 0.2
            },
            "type": "scatter"
           }
          ],
          "scatter3d": [
           {
            "line": {
             "colorbar": {
              "outlinewidth": 0,
              "ticks": ""
             }
            },
            "marker": {
             "colorbar": {
              "outlinewidth": 0,
              "ticks": ""
             }
            },
            "type": "scatter3d"
           }
          ],
          "scattercarpet": [
           {
            "marker": {
             "colorbar": {
              "outlinewidth": 0,
              "ticks": ""
             }
            },
            "type": "scattercarpet"
           }
          ],
          "scattergeo": [
           {
            "marker": {
             "colorbar": {
              "outlinewidth": 0,
              "ticks": ""
             }
            },
            "type": "scattergeo"
           }
          ],
          "scattergl": [
           {
            "marker": {
             "colorbar": {
              "outlinewidth": 0,
              "ticks": ""
             }
            },
            "type": "scattergl"
           }
          ],
          "scattermapbox": [
           {
            "marker": {
             "colorbar": {
              "outlinewidth": 0,
              "ticks": ""
             }
            },
            "type": "scattermapbox"
           }
          ],
          "scatterpolar": [
           {
            "marker": {
             "colorbar": {
              "outlinewidth": 0,
              "ticks": ""
             }
            },
            "type": "scatterpolar"
           }
          ],
          "scatterpolargl": [
           {
            "marker": {
             "colorbar": {
              "outlinewidth": 0,
              "ticks": ""
             }
            },
            "type": "scatterpolargl"
           }
          ],
          "scatterternary": [
           {
            "marker": {
             "colorbar": {
              "outlinewidth": 0,
              "ticks": ""
             }
            },
            "type": "scatterternary"
           }
          ],
          "surface": [
           {
            "colorbar": {
             "outlinewidth": 0,
             "ticks": ""
            },
            "colorscale": [
             [
              0,
              "#0d0887"
             ],
             [
              0.1111111111111111,
              "#46039f"
             ],
             [
              0.2222222222222222,
              "#7201a8"
             ],
             [
              0.3333333333333333,
              "#9c179e"
             ],
             [
              0.4444444444444444,
              "#bd3786"
             ],
             [
              0.5555555555555556,
              "#d8576b"
             ],
             [
              0.6666666666666666,
              "#ed7953"
             ],
             [
              0.7777777777777778,
              "#fb9f3a"
             ],
             [
              0.8888888888888888,
              "#fdca26"
             ],
             [
              1,
              "#f0f921"
             ]
            ],
            "type": "surface"
           }
          ],
          "table": [
           {
            "cells": {
             "fill": {
              "color": "#EBF0F8"
             },
             "line": {
              "color": "white"
             }
            },
            "header": {
             "fill": {
              "color": "#C8D4E3"
             },
             "line": {
              "color": "white"
             }
            },
            "type": "table"
           }
          ]
         },
         "layout": {
          "annotationdefaults": {
           "arrowcolor": "#2a3f5f",
           "arrowhead": 0,
           "arrowwidth": 1
          },
          "autotypenumbers": "strict",
          "coloraxis": {
           "colorbar": {
            "outlinewidth": 0,
            "ticks": ""
           }
          },
          "colorscale": {
           "diverging": [
            [
             0,
             "#8e0152"
            ],
            [
             0.1,
             "#c51b7d"
            ],
            [
             0.2,
             "#de77ae"
            ],
            [
             0.3,
             "#f1b6da"
            ],
            [
             0.4,
             "#fde0ef"
            ],
            [
             0.5,
             "#f7f7f7"
            ],
            [
             0.6,
             "#e6f5d0"
            ],
            [
             0.7,
             "#b8e186"
            ],
            [
             0.8,
             "#7fbc41"
            ],
            [
             0.9,
             "#4d9221"
            ],
            [
             1,
             "#276419"
            ]
           ],
           "sequential": [
            [
             0,
             "#0d0887"
            ],
            [
             0.1111111111111111,
             "#46039f"
            ],
            [
             0.2222222222222222,
             "#7201a8"
            ],
            [
             0.3333333333333333,
             "#9c179e"
            ],
            [
             0.4444444444444444,
             "#bd3786"
            ],
            [
             0.5555555555555556,
             "#d8576b"
            ],
            [
             0.6666666666666666,
             "#ed7953"
            ],
            [
             0.7777777777777778,
             "#fb9f3a"
            ],
            [
             0.8888888888888888,
             "#fdca26"
            ],
            [
             1,
             "#f0f921"
            ]
           ],
           "sequentialminus": [
            [
             0,
             "#0d0887"
            ],
            [
             0.1111111111111111,
             "#46039f"
            ],
            [
             0.2222222222222222,
             "#7201a8"
            ],
            [
             0.3333333333333333,
             "#9c179e"
            ],
            [
             0.4444444444444444,
             "#bd3786"
            ],
            [
             0.5555555555555556,
             "#d8576b"
            ],
            [
             0.6666666666666666,
             "#ed7953"
            ],
            [
             0.7777777777777778,
             "#fb9f3a"
            ],
            [
             0.8888888888888888,
             "#fdca26"
            ],
            [
             1,
             "#f0f921"
            ]
           ]
          },
          "colorway": [
           "#636efa",
           "#EF553B",
           "#00cc96",
           "#ab63fa",
           "#FFA15A",
           "#19d3f3",
           "#FF6692",
           "#B6E880",
           "#FF97FF",
           "#FECB52"
          ],
          "font": {
           "color": "#2a3f5f"
          },
          "geo": {
           "bgcolor": "white",
           "lakecolor": "white",
           "landcolor": "#E5ECF6",
           "showlakes": true,
           "showland": true,
           "subunitcolor": "white"
          },
          "hoverlabel": {
           "align": "left"
          },
          "hovermode": "closest",
          "mapbox": {
           "style": "light"
          },
          "paper_bgcolor": "white",
          "plot_bgcolor": "#E5ECF6",
          "polar": {
           "angularaxis": {
            "gridcolor": "white",
            "linecolor": "white",
            "ticks": ""
           },
           "bgcolor": "#E5ECF6",
           "radialaxis": {
            "gridcolor": "white",
            "linecolor": "white",
            "ticks": ""
           }
          },
          "scene": {
           "xaxis": {
            "backgroundcolor": "#E5ECF6",
            "gridcolor": "white",
            "gridwidth": 2,
            "linecolor": "white",
            "showbackground": true,
            "ticks": "",
            "zerolinecolor": "white"
           },
           "yaxis": {
            "backgroundcolor": "#E5ECF6",
            "gridcolor": "white",
            "gridwidth": 2,
            "linecolor": "white",
            "showbackground": true,
            "ticks": "",
            "zerolinecolor": "white"
           },
           "zaxis": {
            "backgroundcolor": "#E5ECF6",
            "gridcolor": "white",
            "gridwidth": 2,
            "linecolor": "white",
            "showbackground": true,
            "ticks": "",
            "zerolinecolor": "white"
           }
          },
          "shapedefaults": {
           "line": {
            "color": "#2a3f5f"
           }
          },
          "ternary": {
           "aaxis": {
            "gridcolor": "white",
            "linecolor": "white",
            "ticks": ""
           },
           "baxis": {
            "gridcolor": "white",
            "linecolor": "white",
            "ticks": ""
           },
           "bgcolor": "#E5ECF6",
           "caxis": {
            "gridcolor": "white",
            "linecolor": "white",
            "ticks": ""
           }
          },
          "title": {
           "x": 0.05
          },
          "xaxis": {
           "automargin": true,
           "gridcolor": "white",
           "linecolor": "white",
           "ticks": "",
           "title": {
            "standoff": 15
           },
           "zerolinecolor": "white",
           "zerolinewidth": 2
          },
          "yaxis": {
           "automargin": true,
           "gridcolor": "white",
           "linecolor": "white",
           "ticks": "",
           "title": {
            "standoff": 15
           },
           "zerolinecolor": "white",
           "zerolinewidth": 2
          }
         }
        },
        "title": {
         "text": "Box Plot <b>SkorSurveyEngagement</b>"
        },
        "width": 700,
        "xaxis": {
         "anchor": "y",
         "domain": [
          0,
          1
         ],
         "showgrid": false,
         "title": {
          "text": "Total"
         }
        },
        "yaxis": {
         "anchor": "x",
         "domain": [
          0,
          1
         ],
         "showgrid": false,
         "title": {}
        }
       }
      }
     },
     "metadata": {},
     "output_type": "display_data"
    },
    {
     "data": {
      "application/vnd.plotly.v1+json": {
       "config": {
        "plotlyServerURL": "https://plot.ly"
       },
       "data": [
        {
         "alignmentgroup": "True",
         "hovertemplate": "value=%{x}<br>variable=%{y}<extra></extra>",
         "legendgroup": "",
         "marker": {
          "color": "#9d4edd"
         },
         "name": "",
         "notched": false,
         "offsetgroup": "",
         "orientation": "h",
         "showlegend": false,
         "type": "box",
         "x": [
          4,
          4,
          3,
          3,
          3,
          4,
          3,
          5,
          null,
          5,
          2,
          5,
          3,
          4,
          4,
          3,
          4,
          4,
          4,
          2,
          5,
          4,
          3,
          3,
          3,
          null,
          3,
          5,
          3,
          3,
          4,
          4,
          5,
          3,
          3,
          3,
          5,
          4,
          5,
          4,
          4,
          3,
          5,
          5,
          3,
          4,
          5,
          3,
          4,
          3,
          3,
          4,
          5,
          4,
          5,
          null,
          4,
          2,
          5,
          5,
          3,
          5,
          5,
          4,
          3,
          3,
          3,
          3,
          4,
          5,
          3,
          3,
          3,
          5,
          4,
          3,
          5,
          3,
          4,
          4,
          5,
          5,
          5,
          3,
          4,
          3,
          5,
          2,
          5,
          4,
          4,
          4,
          3,
          5,
          5,
          3,
          4,
          5,
          1,
          3,
          4,
          3,
          3,
          4,
          3,
          3,
          3,
          5,
          4,
          5,
          4,
          5,
          3,
          5,
          4,
          5,
          5,
          4,
          5,
          3,
          3,
          5,
          null,
          5,
          3,
          4,
          4,
          3,
          3,
          4,
          5,
          5,
          4,
          4,
          3,
          4,
          3,
          4,
          5,
          5,
          4,
          5,
          4,
          3,
          5,
          5,
          3,
          5,
          4,
          4,
          2,
          4,
          5,
          5,
          4,
          4,
          5,
          5,
          4,
          5,
          4,
          3,
          4,
          3,
          3,
          5,
          null,
          4,
          3,
          4,
          5,
          2,
          4,
          3,
          4,
          3,
          5,
          3,
          4,
          5,
          5,
          3,
          4,
          3,
          5,
          3,
          3,
          3,
          5,
          4,
          4,
          3,
          5,
          5,
          4,
          3,
          3,
          3,
          5,
          3,
          4,
          5,
          3,
          5,
          3,
          3,
          4,
          3,
          3,
          4,
          5,
          1,
          4,
          4,
          3,
          4,
          5,
          2,
          5,
          4,
          4,
          3,
          3,
          3,
          4,
          5,
          5,
          5,
          3,
          5,
          5,
          3,
          5,
          3,
          5,
          4,
          4,
          3,
          3,
          4,
          5,
          4,
          3,
          5,
          4,
          3,
          3,
          5,
          4,
          4,
          3,
          3,
          5,
          5,
          5,
          5,
          5,
          4,
          5,
          3,
          4,
          3,
          4,
          5,
          4,
          2,
          4,
          5,
          3,
          3,
          3,
          5,
          4,
          3,
          4,
          3,
          3,
          5,
          3,
          4,
          5,
          5,
          5,
          5,
          5,
          5,
          3
         ],
         "x0": " ",
         "xaxis": "x",
         "y": [
          "SkorKepuasanPegawai",
          "SkorKepuasanPegawai",
          "SkorKepuasanPegawai",
          "SkorKepuasanPegawai",
          "SkorKepuasanPegawai",
          "SkorKepuasanPegawai",
          "SkorKepuasanPegawai",
          "SkorKepuasanPegawai",
          "SkorKepuasanPegawai",
          "SkorKepuasanPegawai",
          "SkorKepuasanPegawai",
          "SkorKepuasanPegawai",
          "SkorKepuasanPegawai",
          "SkorKepuasanPegawai",
          "SkorKepuasanPegawai",
          "SkorKepuasanPegawai",
          "SkorKepuasanPegawai",
          "SkorKepuasanPegawai",
          "SkorKepuasanPegawai",
          "SkorKepuasanPegawai",
          "SkorKepuasanPegawai",
          "SkorKepuasanPegawai",
          "SkorKepuasanPegawai",
          "SkorKepuasanPegawai",
          "SkorKepuasanPegawai",
          "SkorKepuasanPegawai",
          "SkorKepuasanPegawai",
          "SkorKepuasanPegawai",
          "SkorKepuasanPegawai",
          "SkorKepuasanPegawai",
          "SkorKepuasanPegawai",
          "SkorKepuasanPegawai",
          "SkorKepuasanPegawai",
          "SkorKepuasanPegawai",
          "SkorKepuasanPegawai",
          "SkorKepuasanPegawai",
          "SkorKepuasanPegawai",
          "SkorKepuasanPegawai",
          "SkorKepuasanPegawai",
          "SkorKepuasanPegawai",
          "SkorKepuasanPegawai",
          "SkorKepuasanPegawai",
          "SkorKepuasanPegawai",
          "SkorKepuasanPegawai",
          "SkorKepuasanPegawai",
          "SkorKepuasanPegawai",
          "SkorKepuasanPegawai",
          "SkorKepuasanPegawai",
          "SkorKepuasanPegawai",
          "SkorKepuasanPegawai",
          "SkorKepuasanPegawai",
          "SkorKepuasanPegawai",
          "SkorKepuasanPegawai",
          "SkorKepuasanPegawai",
          "SkorKepuasanPegawai",
          "SkorKepuasanPegawai",
          "SkorKepuasanPegawai",
          "SkorKepuasanPegawai",
          "SkorKepuasanPegawai",
          "SkorKepuasanPegawai",
          "SkorKepuasanPegawai",
          "SkorKepuasanPegawai",
          "SkorKepuasanPegawai",
          "SkorKepuasanPegawai",
          "SkorKepuasanPegawai",
          "SkorKepuasanPegawai",
          "SkorKepuasanPegawai",
          "SkorKepuasanPegawai",
          "SkorKepuasanPegawai",
          "SkorKepuasanPegawai",
          "SkorKepuasanPegawai",
          "SkorKepuasanPegawai",
          "SkorKepuasanPegawai",
          "SkorKepuasanPegawai",
          "SkorKepuasanPegawai",
          "SkorKepuasanPegawai",
          "SkorKepuasanPegawai",
          "SkorKepuasanPegawai",
          "SkorKepuasanPegawai",
          "SkorKepuasanPegawai",
          "SkorKepuasanPegawai",
          "SkorKepuasanPegawai",
          "SkorKepuasanPegawai",
          "SkorKepuasanPegawai",
          "SkorKepuasanPegawai",
          "SkorKepuasanPegawai",
          "SkorKepuasanPegawai",
          "SkorKepuasanPegawai",
          "SkorKepuasanPegawai",
          "SkorKepuasanPegawai",
          "SkorKepuasanPegawai",
          "SkorKepuasanPegawai",
          "SkorKepuasanPegawai",
          "SkorKepuasanPegawai",
          "SkorKepuasanPegawai",
          "SkorKepuasanPegawai",
          "SkorKepuasanPegawai",
          "SkorKepuasanPegawai",
          "SkorKepuasanPegawai",
          "SkorKepuasanPegawai",
          "SkorKepuasanPegawai",
          "SkorKepuasanPegawai",
          "SkorKepuasanPegawai",
          "SkorKepuasanPegawai",
          "SkorKepuasanPegawai",
          "SkorKepuasanPegawai",
          "SkorKepuasanPegawai",
          "SkorKepuasanPegawai",
          "SkorKepuasanPegawai",
          "SkorKepuasanPegawai",
          "SkorKepuasanPegawai",
          "SkorKepuasanPegawai",
          "SkorKepuasanPegawai",
          "SkorKepuasanPegawai",
          "SkorKepuasanPegawai",
          "SkorKepuasanPegawai",
          "SkorKepuasanPegawai",
          "SkorKepuasanPegawai",
          "SkorKepuasanPegawai",
          "SkorKepuasanPegawai",
          "SkorKepuasanPegawai",
          "SkorKepuasanPegawai",
          "SkorKepuasanPegawai",
          "SkorKepuasanPegawai",
          "SkorKepuasanPegawai",
          "SkorKepuasanPegawai",
          "SkorKepuasanPegawai",
          "SkorKepuasanPegawai",
          "SkorKepuasanPegawai",
          "SkorKepuasanPegawai",
          "SkorKepuasanPegawai",
          "SkorKepuasanPegawai",
          "SkorKepuasanPegawai",
          "SkorKepuasanPegawai",
          "SkorKepuasanPegawai",
          "SkorKepuasanPegawai",
          "SkorKepuasanPegawai",
          "SkorKepuasanPegawai",
          "SkorKepuasanPegawai",
          "SkorKepuasanPegawai",
          "SkorKepuasanPegawai",
          "SkorKepuasanPegawai",
          "SkorKepuasanPegawai",
          "SkorKepuasanPegawai",
          "SkorKepuasanPegawai",
          "SkorKepuasanPegawai",
          "SkorKepuasanPegawai",
          "SkorKepuasanPegawai",
          "SkorKepuasanPegawai",
          "SkorKepuasanPegawai",
          "SkorKepuasanPegawai",
          "SkorKepuasanPegawai",
          "SkorKepuasanPegawai",
          "SkorKepuasanPegawai",
          "SkorKepuasanPegawai",
          "SkorKepuasanPegawai",
          "SkorKepuasanPegawai",
          "SkorKepuasanPegawai",
          "SkorKepuasanPegawai",
          "SkorKepuasanPegawai",
          "SkorKepuasanPegawai",
          "SkorKepuasanPegawai",
          "SkorKepuasanPegawai",
          "SkorKepuasanPegawai",
          "SkorKepuasanPegawai",
          "SkorKepuasanPegawai",
          "SkorKepuasanPegawai",
          "SkorKepuasanPegawai",
          "SkorKepuasanPegawai",
          "SkorKepuasanPegawai",
          "SkorKepuasanPegawai",
          "SkorKepuasanPegawai",
          "SkorKepuasanPegawai",
          "SkorKepuasanPegawai",
          "SkorKepuasanPegawai",
          "SkorKepuasanPegawai",
          "SkorKepuasanPegawai",
          "SkorKepuasanPegawai",
          "SkorKepuasanPegawai",
          "SkorKepuasanPegawai",
          "SkorKepuasanPegawai",
          "SkorKepuasanPegawai",
          "SkorKepuasanPegawai",
          "SkorKepuasanPegawai",
          "SkorKepuasanPegawai",
          "SkorKepuasanPegawai",
          "SkorKepuasanPegawai",
          "SkorKepuasanPegawai",
          "SkorKepuasanPegawai",
          "SkorKepuasanPegawai",
          "SkorKepuasanPegawai",
          "SkorKepuasanPegawai",
          "SkorKepuasanPegawai",
          "SkorKepuasanPegawai",
          "SkorKepuasanPegawai",
          "SkorKepuasanPegawai",
          "SkorKepuasanPegawai",
          "SkorKepuasanPegawai",
          "SkorKepuasanPegawai",
          "SkorKepuasanPegawai",
          "SkorKepuasanPegawai",
          "SkorKepuasanPegawai",
          "SkorKepuasanPegawai",
          "SkorKepuasanPegawai",
          "SkorKepuasanPegawai",
          "SkorKepuasanPegawai",
          "SkorKepuasanPegawai",
          "SkorKepuasanPegawai",
          "SkorKepuasanPegawai",
          "SkorKepuasanPegawai",
          "SkorKepuasanPegawai",
          "SkorKepuasanPegawai",
          "SkorKepuasanPegawai",
          "SkorKepuasanPegawai",
          "SkorKepuasanPegawai",
          "SkorKepuasanPegawai",
          "SkorKepuasanPegawai",
          "SkorKepuasanPegawai",
          "SkorKepuasanPegawai",
          "SkorKepuasanPegawai",
          "SkorKepuasanPegawai",
          "SkorKepuasanPegawai",
          "SkorKepuasanPegawai",
          "SkorKepuasanPegawai",
          "SkorKepuasanPegawai",
          "SkorKepuasanPegawai",
          "SkorKepuasanPegawai",
          "SkorKepuasanPegawai",
          "SkorKepuasanPegawai",
          "SkorKepuasanPegawai",
          "SkorKepuasanPegawai",
          "SkorKepuasanPegawai",
          "SkorKepuasanPegawai",
          "SkorKepuasanPegawai",
          "SkorKepuasanPegawai",
          "SkorKepuasanPegawai",
          "SkorKepuasanPegawai",
          "SkorKepuasanPegawai",
          "SkorKepuasanPegawai",
          "SkorKepuasanPegawai",
          "SkorKepuasanPegawai",
          "SkorKepuasanPegawai",
          "SkorKepuasanPegawai",
          "SkorKepuasanPegawai",
          "SkorKepuasanPegawai",
          "SkorKepuasanPegawai",
          "SkorKepuasanPegawai",
          "SkorKepuasanPegawai",
          "SkorKepuasanPegawai",
          "SkorKepuasanPegawai",
          "SkorKepuasanPegawai",
          "SkorKepuasanPegawai",
          "SkorKepuasanPegawai",
          "SkorKepuasanPegawai",
          "SkorKepuasanPegawai",
          "SkorKepuasanPegawai",
          "SkorKepuasanPegawai",
          "SkorKepuasanPegawai",
          "SkorKepuasanPegawai",
          "SkorKepuasanPegawai",
          "SkorKepuasanPegawai",
          "SkorKepuasanPegawai",
          "SkorKepuasanPegawai",
          "SkorKepuasanPegawai",
          "SkorKepuasanPegawai",
          "SkorKepuasanPegawai",
          "SkorKepuasanPegawai",
          "SkorKepuasanPegawai",
          "SkorKepuasanPegawai",
          "SkorKepuasanPegawai",
          "SkorKepuasanPegawai",
          "SkorKepuasanPegawai",
          "SkorKepuasanPegawai",
          "SkorKepuasanPegawai",
          "SkorKepuasanPegawai",
          "SkorKepuasanPegawai",
          "SkorKepuasanPegawai",
          "SkorKepuasanPegawai",
          "SkorKepuasanPegawai",
          "SkorKepuasanPegawai",
          "SkorKepuasanPegawai",
          "SkorKepuasanPegawai",
          "SkorKepuasanPegawai",
          "SkorKepuasanPegawai",
          "SkorKepuasanPegawai",
          "SkorKepuasanPegawai",
          "SkorKepuasanPegawai"
         ],
         "y0": " ",
         "yaxis": "y"
        }
       ],
       "layout": {
        "boxmode": "group",
        "height": 300,
        "legend": {
         "tracegroupgap": 0
        },
        "margin": {
         "t": 60
        },
        "template": {
         "data": {
          "bar": [
           {
            "error_x": {
             "color": "#2a3f5f"
            },
            "error_y": {
             "color": "#2a3f5f"
            },
            "marker": {
             "line": {
              "color": "#E5ECF6",
              "width": 0.5
             },
             "pattern": {
              "fillmode": "overlay",
              "size": 10,
              "solidity": 0.2
             }
            },
            "type": "bar"
           }
          ],
          "barpolar": [
           {
            "marker": {
             "line": {
              "color": "#E5ECF6",
              "width": 0.5
             },
             "pattern": {
              "fillmode": "overlay",
              "size": 10,
              "solidity": 0.2
             }
            },
            "type": "barpolar"
           }
          ],
          "carpet": [
           {
            "aaxis": {
             "endlinecolor": "#2a3f5f",
             "gridcolor": "white",
             "linecolor": "white",
             "minorgridcolor": "white",
             "startlinecolor": "#2a3f5f"
            },
            "baxis": {
             "endlinecolor": "#2a3f5f",
             "gridcolor": "white",
             "linecolor": "white",
             "minorgridcolor": "white",
             "startlinecolor": "#2a3f5f"
            },
            "type": "carpet"
           }
          ],
          "choropleth": [
           {
            "colorbar": {
             "outlinewidth": 0,
             "ticks": ""
            },
            "type": "choropleth"
           }
          ],
          "contour": [
           {
            "colorbar": {
             "outlinewidth": 0,
             "ticks": ""
            },
            "colorscale": [
             [
              0,
              "#0d0887"
             ],
             [
              0.1111111111111111,
              "#46039f"
             ],
             [
              0.2222222222222222,
              "#7201a8"
             ],
             [
              0.3333333333333333,
              "#9c179e"
             ],
             [
              0.4444444444444444,
              "#bd3786"
             ],
             [
              0.5555555555555556,
              "#d8576b"
             ],
             [
              0.6666666666666666,
              "#ed7953"
             ],
             [
              0.7777777777777778,
              "#fb9f3a"
             ],
             [
              0.8888888888888888,
              "#fdca26"
             ],
             [
              1,
              "#f0f921"
             ]
            ],
            "type": "contour"
           }
          ],
          "contourcarpet": [
           {
            "colorbar": {
             "outlinewidth": 0,
             "ticks": ""
            },
            "type": "contourcarpet"
           }
          ],
          "heatmap": [
           {
            "colorbar": {
             "outlinewidth": 0,
             "ticks": ""
            },
            "colorscale": [
             [
              0,
              "#0d0887"
             ],
             [
              0.1111111111111111,
              "#46039f"
             ],
             [
              0.2222222222222222,
              "#7201a8"
             ],
             [
              0.3333333333333333,
              "#9c179e"
             ],
             [
              0.4444444444444444,
              "#bd3786"
             ],
             [
              0.5555555555555556,
              "#d8576b"
             ],
             [
              0.6666666666666666,
              "#ed7953"
             ],
             [
              0.7777777777777778,
              "#fb9f3a"
             ],
             [
              0.8888888888888888,
              "#fdca26"
             ],
             [
              1,
              "#f0f921"
             ]
            ],
            "type": "heatmap"
           }
          ],
          "heatmapgl": [
           {
            "colorbar": {
             "outlinewidth": 0,
             "ticks": ""
            },
            "colorscale": [
             [
              0,
              "#0d0887"
             ],
             [
              0.1111111111111111,
              "#46039f"
             ],
             [
              0.2222222222222222,
              "#7201a8"
             ],
             [
              0.3333333333333333,
              "#9c179e"
             ],
             [
              0.4444444444444444,
              "#bd3786"
             ],
             [
              0.5555555555555556,
              "#d8576b"
             ],
             [
              0.6666666666666666,
              "#ed7953"
             ],
             [
              0.7777777777777778,
              "#fb9f3a"
             ],
             [
              0.8888888888888888,
              "#fdca26"
             ],
             [
              1,
              "#f0f921"
             ]
            ],
            "type": "heatmapgl"
           }
          ],
          "histogram": [
           {
            "marker": {
             "pattern": {
              "fillmode": "overlay",
              "size": 10,
              "solidity": 0.2
             }
            },
            "type": "histogram"
           }
          ],
          "histogram2d": [
           {
            "colorbar": {
             "outlinewidth": 0,
             "ticks": ""
            },
            "colorscale": [
             [
              0,
              "#0d0887"
             ],
             [
              0.1111111111111111,
              "#46039f"
             ],
             [
              0.2222222222222222,
              "#7201a8"
             ],
             [
              0.3333333333333333,
              "#9c179e"
             ],
             [
              0.4444444444444444,
              "#bd3786"
             ],
             [
              0.5555555555555556,
              "#d8576b"
             ],
             [
              0.6666666666666666,
              "#ed7953"
             ],
             [
              0.7777777777777778,
              "#fb9f3a"
             ],
             [
              0.8888888888888888,
              "#fdca26"
             ],
             [
              1,
              "#f0f921"
             ]
            ],
            "type": "histogram2d"
           }
          ],
          "histogram2dcontour": [
           {
            "colorbar": {
             "outlinewidth": 0,
             "ticks": ""
            },
            "colorscale": [
             [
              0,
              "#0d0887"
             ],
             [
              0.1111111111111111,
              "#46039f"
             ],
             [
              0.2222222222222222,
              "#7201a8"
             ],
             [
              0.3333333333333333,
              "#9c179e"
             ],
             [
              0.4444444444444444,
              "#bd3786"
             ],
             [
              0.5555555555555556,
              "#d8576b"
             ],
             [
              0.6666666666666666,
              "#ed7953"
             ],
             [
              0.7777777777777778,
              "#fb9f3a"
             ],
             [
              0.8888888888888888,
              "#fdca26"
             ],
             [
              1,
              "#f0f921"
             ]
            ],
            "type": "histogram2dcontour"
           }
          ],
          "mesh3d": [
           {
            "colorbar": {
             "outlinewidth": 0,
             "ticks": ""
            },
            "type": "mesh3d"
           }
          ],
          "parcoords": [
           {
            "line": {
             "colorbar": {
              "outlinewidth": 0,
              "ticks": ""
             }
            },
            "type": "parcoords"
           }
          ],
          "pie": [
           {
            "automargin": true,
            "type": "pie"
           }
          ],
          "scatter": [
           {
            "fillpattern": {
             "fillmode": "overlay",
             "size": 10,
             "solidity": 0.2
            },
            "type": "scatter"
           }
          ],
          "scatter3d": [
           {
            "line": {
             "colorbar": {
              "outlinewidth": 0,
              "ticks": ""
             }
            },
            "marker": {
             "colorbar": {
              "outlinewidth": 0,
              "ticks": ""
             }
            },
            "type": "scatter3d"
           }
          ],
          "scattercarpet": [
           {
            "marker": {
             "colorbar": {
              "outlinewidth": 0,
              "ticks": ""
             }
            },
            "type": "scattercarpet"
           }
          ],
          "scattergeo": [
           {
            "marker": {
             "colorbar": {
              "outlinewidth": 0,
              "ticks": ""
             }
            },
            "type": "scattergeo"
           }
          ],
          "scattergl": [
           {
            "marker": {
             "colorbar": {
              "outlinewidth": 0,
              "ticks": ""
             }
            },
            "type": "scattergl"
           }
          ],
          "scattermapbox": [
           {
            "marker": {
             "colorbar": {
              "outlinewidth": 0,
              "ticks": ""
             }
            },
            "type": "scattermapbox"
           }
          ],
          "scatterpolar": [
           {
            "marker": {
             "colorbar": {
              "outlinewidth": 0,
              "ticks": ""
             }
            },
            "type": "scatterpolar"
           }
          ],
          "scatterpolargl": [
           {
            "marker": {
             "colorbar": {
              "outlinewidth": 0,
              "ticks": ""
             }
            },
            "type": "scatterpolargl"
           }
          ],
          "scatterternary": [
           {
            "marker": {
             "colorbar": {
              "outlinewidth": 0,
              "ticks": ""
             }
            },
            "type": "scatterternary"
           }
          ],
          "surface": [
           {
            "colorbar": {
             "outlinewidth": 0,
             "ticks": ""
            },
            "colorscale": [
             [
              0,
              "#0d0887"
             ],
             [
              0.1111111111111111,
              "#46039f"
             ],
             [
              0.2222222222222222,
              "#7201a8"
             ],
             [
              0.3333333333333333,
              "#9c179e"
             ],
             [
              0.4444444444444444,
              "#bd3786"
             ],
             [
              0.5555555555555556,
              "#d8576b"
             ],
             [
              0.6666666666666666,
              "#ed7953"
             ],
             [
              0.7777777777777778,
              "#fb9f3a"
             ],
             [
              0.8888888888888888,
              "#fdca26"
             ],
             [
              1,
              "#f0f921"
             ]
            ],
            "type": "surface"
           }
          ],
          "table": [
           {
            "cells": {
             "fill": {
              "color": "#EBF0F8"
             },
             "line": {
              "color": "white"
             }
            },
            "header": {
             "fill": {
              "color": "#C8D4E3"
             },
             "line": {
              "color": "white"
             }
            },
            "type": "table"
           }
          ]
         },
         "layout": {
          "annotationdefaults": {
           "arrowcolor": "#2a3f5f",
           "arrowhead": 0,
           "arrowwidth": 1
          },
          "autotypenumbers": "strict",
          "coloraxis": {
           "colorbar": {
            "outlinewidth": 0,
            "ticks": ""
           }
          },
          "colorscale": {
           "diverging": [
            [
             0,
             "#8e0152"
            ],
            [
             0.1,
             "#c51b7d"
            ],
            [
             0.2,
             "#de77ae"
            ],
            [
             0.3,
             "#f1b6da"
            ],
            [
             0.4,
             "#fde0ef"
            ],
            [
             0.5,
             "#f7f7f7"
            ],
            [
             0.6,
             "#e6f5d0"
            ],
            [
             0.7,
             "#b8e186"
            ],
            [
             0.8,
             "#7fbc41"
            ],
            [
             0.9,
             "#4d9221"
            ],
            [
             1,
             "#276419"
            ]
           ],
           "sequential": [
            [
             0,
             "#0d0887"
            ],
            [
             0.1111111111111111,
             "#46039f"
            ],
            [
             0.2222222222222222,
             "#7201a8"
            ],
            [
             0.3333333333333333,
             "#9c179e"
            ],
            [
             0.4444444444444444,
             "#bd3786"
            ],
            [
             0.5555555555555556,
             "#d8576b"
            ],
            [
             0.6666666666666666,
             "#ed7953"
            ],
            [
             0.7777777777777778,
             "#fb9f3a"
            ],
            [
             0.8888888888888888,
             "#fdca26"
            ],
            [
             1,
             "#f0f921"
            ]
           ],
           "sequentialminus": [
            [
             0,
             "#0d0887"
            ],
            [
             0.1111111111111111,
             "#46039f"
            ],
            [
             0.2222222222222222,
             "#7201a8"
            ],
            [
             0.3333333333333333,
             "#9c179e"
            ],
            [
             0.4444444444444444,
             "#bd3786"
            ],
            [
             0.5555555555555556,
             "#d8576b"
            ],
            [
             0.6666666666666666,
             "#ed7953"
            ],
            [
             0.7777777777777778,
             "#fb9f3a"
            ],
            [
             0.8888888888888888,
             "#fdca26"
            ],
            [
             1,
             "#f0f921"
            ]
           ]
          },
          "colorway": [
           "#636efa",
           "#EF553B",
           "#00cc96",
           "#ab63fa",
           "#FFA15A",
           "#19d3f3",
           "#FF6692",
           "#B6E880",
           "#FF97FF",
           "#FECB52"
          ],
          "font": {
           "color": "#2a3f5f"
          },
          "geo": {
           "bgcolor": "white",
           "lakecolor": "white",
           "landcolor": "#E5ECF6",
           "showlakes": true,
           "showland": true,
           "subunitcolor": "white"
          },
          "hoverlabel": {
           "align": "left"
          },
          "hovermode": "closest",
          "mapbox": {
           "style": "light"
          },
          "paper_bgcolor": "white",
          "plot_bgcolor": "#E5ECF6",
          "polar": {
           "angularaxis": {
            "gridcolor": "white",
            "linecolor": "white",
            "ticks": ""
           },
           "bgcolor": "#E5ECF6",
           "radialaxis": {
            "gridcolor": "white",
            "linecolor": "white",
            "ticks": ""
           }
          },
          "scene": {
           "xaxis": {
            "backgroundcolor": "#E5ECF6",
            "gridcolor": "white",
            "gridwidth": 2,
            "linecolor": "white",
            "showbackground": true,
            "ticks": "",
            "zerolinecolor": "white"
           },
           "yaxis": {
            "backgroundcolor": "#E5ECF6",
            "gridcolor": "white",
            "gridwidth": 2,
            "linecolor": "white",
            "showbackground": true,
            "ticks": "",
            "zerolinecolor": "white"
           },
           "zaxis": {
            "backgroundcolor": "#E5ECF6",
            "gridcolor": "white",
            "gridwidth": 2,
            "linecolor": "white",
            "showbackground": true,
            "ticks": "",
            "zerolinecolor": "white"
           }
          },
          "shapedefaults": {
           "line": {
            "color": "#2a3f5f"
           }
          },
          "ternary": {
           "aaxis": {
            "gridcolor": "white",
            "linecolor": "white",
            "ticks": ""
           },
           "baxis": {
            "gridcolor": "white",
            "linecolor": "white",
            "ticks": ""
           },
           "bgcolor": "#E5ECF6",
           "caxis": {
            "gridcolor": "white",
            "linecolor": "white",
            "ticks": ""
           }
          },
          "title": {
           "x": 0.05
          },
          "xaxis": {
           "automargin": true,
           "gridcolor": "white",
           "linecolor": "white",
           "ticks": "",
           "title": {
            "standoff": 15
           },
           "zerolinecolor": "white",
           "zerolinewidth": 2
          },
          "yaxis": {
           "automargin": true,
           "gridcolor": "white",
           "linecolor": "white",
           "ticks": "",
           "title": {
            "standoff": 15
           },
           "zerolinecolor": "white",
           "zerolinewidth": 2
          }
         }
        },
        "title": {
         "text": "Box Plot <b>SkorKepuasanPegawai</b>"
        },
        "width": 700,
        "xaxis": {
         "anchor": "y",
         "domain": [
          0,
          1
         ],
         "showgrid": false,
         "title": {
          "text": "Total"
         }
        },
        "yaxis": {
         "anchor": "x",
         "domain": [
          0,
          1
         ],
         "showgrid": false,
         "title": {}
        }
       }
      }
     },
     "metadata": {},
     "output_type": "display_data"
    },
    {
     "data": {
      "application/vnd.plotly.v1+json": {
       "config": {
        "plotlyServerURL": "https://plot.ly"
       },
       "data": [
        {
         "alignmentgroup": "True",
         "hovertemplate": "value=%{x}<br>variable=%{y}<extra></extra>",
         "legendgroup": "",
         "marker": {
          "color": "#ff9e00"
         },
         "name": "",
         "notched": false,
         "offsetgroup": "",
         "orientation": "h",
         "showlegend": false,
         "type": "box",
         "x": [
          0,
          4,
          0,
          0,
          0,
          6,
          4,
          0,
          0,
          6,
          0,
          0,
          0,
          0,
          0,
          0,
          0,
          0,
          0,
          0,
          0,
          null,
          0,
          0,
          0,
          6,
          0,
          0,
          0,
          7,
          0,
          0,
          0,
          6,
          0,
          0,
          0,
          0,
          0,
          0,
          0,
          0,
          0,
          0,
          0,
          0,
          0,
          0,
          0,
          0,
          0,
          0,
          0,
          3,
          0,
          null,
          0,
          0,
          0,
          0,
          4,
          0,
          0,
          0,
          0,
          5,
          0,
          0,
          0,
          0,
          6,
          0,
          0,
          0,
          5,
          0,
          0,
          0,
          0,
          0,
          5,
          0,
          0,
          6,
          0,
          0,
          7,
          6,
          0,
          0,
          3,
          0,
          0,
          0,
          0,
          0,
          0,
          5,
          0,
          0,
          0,
          0,
          0,
          0,
          0,
          0,
          0,
          5,
          0,
          0,
          6,
          0,
          0,
          0,
          0,
          0,
          0,
          0,
          0,
          5,
          6,
          7,
          null,
          0,
          0,
          0,
          0,
          0,
          0,
          0,
          0,
          0,
          5,
          0,
          0,
          0,
          6,
          5,
          0,
          0,
          5,
          0,
          0,
          6,
          0,
          0,
          0,
          0,
          0,
          0,
          1,
          0,
          0,
          0,
          0,
          0,
          0,
          6,
          0,
          0,
          0,
          4,
          0,
          0,
          0,
          7,
          0,
          0,
          6,
          6,
          0,
          0,
          0,
          5,
          0,
          0,
          5,
          2,
          5,
          6,
          0,
          0,
          0,
          0,
          0,
          0,
          0,
          0,
          0,
          0,
          0,
          0,
          0,
          0,
          0,
          0,
          5,
          0,
          5,
          6,
          0,
          0,
          5,
          0,
          0,
          0,
          0,
          5,
          0,
          0,
          0,
          0,
          0,
          0,
          0,
          0,
          7,
          0,
          0,
          6,
          0,
          0,
          0,
          0,
          0,
          0,
          4,
          0,
          0,
          0,
          6,
          0,
          0,
          0,
          0,
          0,
          5,
          0,
          6,
          0,
          6,
          4,
          4,
          0,
          0,
          0,
          5,
          5,
          0,
          0,
          7,
          0,
          0,
          0,
          4,
          0,
          8,
          0,
          7,
          0,
          0,
          0,
          0,
          0,
          5,
          0,
          0,
          3,
          0,
          0,
          0,
          0,
          0,
          0,
          0,
          0,
          0,
          0,
          0,
          0,
          7,
          7,
          0,
          0,
          0,
          0,
          0
         ],
         "x0": " ",
         "xaxis": "x",
         "y": [
          "JumlahKeikutsertaanProjek",
          "JumlahKeikutsertaanProjek",
          "JumlahKeikutsertaanProjek",
          "JumlahKeikutsertaanProjek",
          "JumlahKeikutsertaanProjek",
          "JumlahKeikutsertaanProjek",
          "JumlahKeikutsertaanProjek",
          "JumlahKeikutsertaanProjek",
          "JumlahKeikutsertaanProjek",
          "JumlahKeikutsertaanProjek",
          "JumlahKeikutsertaanProjek",
          "JumlahKeikutsertaanProjek",
          "JumlahKeikutsertaanProjek",
          "JumlahKeikutsertaanProjek",
          "JumlahKeikutsertaanProjek",
          "JumlahKeikutsertaanProjek",
          "JumlahKeikutsertaanProjek",
          "JumlahKeikutsertaanProjek",
          "JumlahKeikutsertaanProjek",
          "JumlahKeikutsertaanProjek",
          "JumlahKeikutsertaanProjek",
          "JumlahKeikutsertaanProjek",
          "JumlahKeikutsertaanProjek",
          "JumlahKeikutsertaanProjek",
          "JumlahKeikutsertaanProjek",
          "JumlahKeikutsertaanProjek",
          "JumlahKeikutsertaanProjek",
          "JumlahKeikutsertaanProjek",
          "JumlahKeikutsertaanProjek",
          "JumlahKeikutsertaanProjek",
          "JumlahKeikutsertaanProjek",
          "JumlahKeikutsertaanProjek",
          "JumlahKeikutsertaanProjek",
          "JumlahKeikutsertaanProjek",
          "JumlahKeikutsertaanProjek",
          "JumlahKeikutsertaanProjek",
          "JumlahKeikutsertaanProjek",
          "JumlahKeikutsertaanProjek",
          "JumlahKeikutsertaanProjek",
          "JumlahKeikutsertaanProjek",
          "JumlahKeikutsertaanProjek",
          "JumlahKeikutsertaanProjek",
          "JumlahKeikutsertaanProjek",
          "JumlahKeikutsertaanProjek",
          "JumlahKeikutsertaanProjek",
          "JumlahKeikutsertaanProjek",
          "JumlahKeikutsertaanProjek",
          "JumlahKeikutsertaanProjek",
          "JumlahKeikutsertaanProjek",
          "JumlahKeikutsertaanProjek",
          "JumlahKeikutsertaanProjek",
          "JumlahKeikutsertaanProjek",
          "JumlahKeikutsertaanProjek",
          "JumlahKeikutsertaanProjek",
          "JumlahKeikutsertaanProjek",
          "JumlahKeikutsertaanProjek",
          "JumlahKeikutsertaanProjek",
          "JumlahKeikutsertaanProjek",
          "JumlahKeikutsertaanProjek",
          "JumlahKeikutsertaanProjek",
          "JumlahKeikutsertaanProjek",
          "JumlahKeikutsertaanProjek",
          "JumlahKeikutsertaanProjek",
          "JumlahKeikutsertaanProjek",
          "JumlahKeikutsertaanProjek",
          "JumlahKeikutsertaanProjek",
          "JumlahKeikutsertaanProjek",
          "JumlahKeikutsertaanProjek",
          "JumlahKeikutsertaanProjek",
          "JumlahKeikutsertaanProjek",
          "JumlahKeikutsertaanProjek",
          "JumlahKeikutsertaanProjek",
          "JumlahKeikutsertaanProjek",
          "JumlahKeikutsertaanProjek",
          "JumlahKeikutsertaanProjek",
          "JumlahKeikutsertaanProjek",
          "JumlahKeikutsertaanProjek",
          "JumlahKeikutsertaanProjek",
          "JumlahKeikutsertaanProjek",
          "JumlahKeikutsertaanProjek",
          "JumlahKeikutsertaanProjek",
          "JumlahKeikutsertaanProjek",
          "JumlahKeikutsertaanProjek",
          "JumlahKeikutsertaanProjek",
          "JumlahKeikutsertaanProjek",
          "JumlahKeikutsertaanProjek",
          "JumlahKeikutsertaanProjek",
          "JumlahKeikutsertaanProjek",
          "JumlahKeikutsertaanProjek",
          "JumlahKeikutsertaanProjek",
          "JumlahKeikutsertaanProjek",
          "JumlahKeikutsertaanProjek",
          "JumlahKeikutsertaanProjek",
          "JumlahKeikutsertaanProjek",
          "JumlahKeikutsertaanProjek",
          "JumlahKeikutsertaanProjek",
          "JumlahKeikutsertaanProjek",
          "JumlahKeikutsertaanProjek",
          "JumlahKeikutsertaanProjek",
          "JumlahKeikutsertaanProjek",
          "JumlahKeikutsertaanProjek",
          "JumlahKeikutsertaanProjek",
          "JumlahKeikutsertaanProjek",
          "JumlahKeikutsertaanProjek",
          "JumlahKeikutsertaanProjek",
          "JumlahKeikutsertaanProjek",
          "JumlahKeikutsertaanProjek",
          "JumlahKeikutsertaanProjek",
          "JumlahKeikutsertaanProjek",
          "JumlahKeikutsertaanProjek",
          "JumlahKeikutsertaanProjek",
          "JumlahKeikutsertaanProjek",
          "JumlahKeikutsertaanProjek",
          "JumlahKeikutsertaanProjek",
          "JumlahKeikutsertaanProjek",
          "JumlahKeikutsertaanProjek",
          "JumlahKeikutsertaanProjek",
          "JumlahKeikutsertaanProjek",
          "JumlahKeikutsertaanProjek",
          "JumlahKeikutsertaanProjek",
          "JumlahKeikutsertaanProjek",
          "JumlahKeikutsertaanProjek",
          "JumlahKeikutsertaanProjek",
          "JumlahKeikutsertaanProjek",
          "JumlahKeikutsertaanProjek",
          "JumlahKeikutsertaanProjek",
          "JumlahKeikutsertaanProjek",
          "JumlahKeikutsertaanProjek",
          "JumlahKeikutsertaanProjek",
          "JumlahKeikutsertaanProjek",
          "JumlahKeikutsertaanProjek",
          "JumlahKeikutsertaanProjek",
          "JumlahKeikutsertaanProjek",
          "JumlahKeikutsertaanProjek",
          "JumlahKeikutsertaanProjek",
          "JumlahKeikutsertaanProjek",
          "JumlahKeikutsertaanProjek",
          "JumlahKeikutsertaanProjek",
          "JumlahKeikutsertaanProjek",
          "JumlahKeikutsertaanProjek",
          "JumlahKeikutsertaanProjek",
          "JumlahKeikutsertaanProjek",
          "JumlahKeikutsertaanProjek",
          "JumlahKeikutsertaanProjek",
          "JumlahKeikutsertaanProjek",
          "JumlahKeikutsertaanProjek",
          "JumlahKeikutsertaanProjek",
          "JumlahKeikutsertaanProjek",
          "JumlahKeikutsertaanProjek",
          "JumlahKeikutsertaanProjek",
          "JumlahKeikutsertaanProjek",
          "JumlahKeikutsertaanProjek",
          "JumlahKeikutsertaanProjek",
          "JumlahKeikutsertaanProjek",
          "JumlahKeikutsertaanProjek",
          "JumlahKeikutsertaanProjek",
          "JumlahKeikutsertaanProjek",
          "JumlahKeikutsertaanProjek",
          "JumlahKeikutsertaanProjek",
          "JumlahKeikutsertaanProjek",
          "JumlahKeikutsertaanProjek",
          "JumlahKeikutsertaanProjek",
          "JumlahKeikutsertaanProjek",
          "JumlahKeikutsertaanProjek",
          "JumlahKeikutsertaanProjek",
          "JumlahKeikutsertaanProjek",
          "JumlahKeikutsertaanProjek",
          "JumlahKeikutsertaanProjek",
          "JumlahKeikutsertaanProjek",
          "JumlahKeikutsertaanProjek",
          "JumlahKeikutsertaanProjek",
          "JumlahKeikutsertaanProjek",
          "JumlahKeikutsertaanProjek",
          "JumlahKeikutsertaanProjek",
          "JumlahKeikutsertaanProjek",
          "JumlahKeikutsertaanProjek",
          "JumlahKeikutsertaanProjek",
          "JumlahKeikutsertaanProjek",
          "JumlahKeikutsertaanProjek",
          "JumlahKeikutsertaanProjek",
          "JumlahKeikutsertaanProjek",
          "JumlahKeikutsertaanProjek",
          "JumlahKeikutsertaanProjek",
          "JumlahKeikutsertaanProjek",
          "JumlahKeikutsertaanProjek",
          "JumlahKeikutsertaanProjek",
          "JumlahKeikutsertaanProjek",
          "JumlahKeikutsertaanProjek",
          "JumlahKeikutsertaanProjek",
          "JumlahKeikutsertaanProjek",
          "JumlahKeikutsertaanProjek",
          "JumlahKeikutsertaanProjek",
          "JumlahKeikutsertaanProjek",
          "JumlahKeikutsertaanProjek",
          "JumlahKeikutsertaanProjek",
          "JumlahKeikutsertaanProjek",
          "JumlahKeikutsertaanProjek",
          "JumlahKeikutsertaanProjek",
          "JumlahKeikutsertaanProjek",
          "JumlahKeikutsertaanProjek",
          "JumlahKeikutsertaanProjek",
          "JumlahKeikutsertaanProjek",
          "JumlahKeikutsertaanProjek",
          "JumlahKeikutsertaanProjek",
          "JumlahKeikutsertaanProjek",
          "JumlahKeikutsertaanProjek",
          "JumlahKeikutsertaanProjek",
          "JumlahKeikutsertaanProjek",
          "JumlahKeikutsertaanProjek",
          "JumlahKeikutsertaanProjek",
          "JumlahKeikutsertaanProjek",
          "JumlahKeikutsertaanProjek",
          "JumlahKeikutsertaanProjek",
          "JumlahKeikutsertaanProjek",
          "JumlahKeikutsertaanProjek",
          "JumlahKeikutsertaanProjek",
          "JumlahKeikutsertaanProjek",
          "JumlahKeikutsertaanProjek",
          "JumlahKeikutsertaanProjek",
          "JumlahKeikutsertaanProjek",
          "JumlahKeikutsertaanProjek",
          "JumlahKeikutsertaanProjek",
          "JumlahKeikutsertaanProjek",
          "JumlahKeikutsertaanProjek",
          "JumlahKeikutsertaanProjek",
          "JumlahKeikutsertaanProjek",
          "JumlahKeikutsertaanProjek",
          "JumlahKeikutsertaanProjek",
          "JumlahKeikutsertaanProjek",
          "JumlahKeikutsertaanProjek",
          "JumlahKeikutsertaanProjek",
          "JumlahKeikutsertaanProjek",
          "JumlahKeikutsertaanProjek",
          "JumlahKeikutsertaanProjek",
          "JumlahKeikutsertaanProjek",
          "JumlahKeikutsertaanProjek",
          "JumlahKeikutsertaanProjek",
          "JumlahKeikutsertaanProjek",
          "JumlahKeikutsertaanProjek",
          "JumlahKeikutsertaanProjek",
          "JumlahKeikutsertaanProjek",
          "JumlahKeikutsertaanProjek",
          "JumlahKeikutsertaanProjek",
          "JumlahKeikutsertaanProjek",
          "JumlahKeikutsertaanProjek",
          "JumlahKeikutsertaanProjek",
          "JumlahKeikutsertaanProjek",
          "JumlahKeikutsertaanProjek",
          "JumlahKeikutsertaanProjek",
          "JumlahKeikutsertaanProjek",
          "JumlahKeikutsertaanProjek",
          "JumlahKeikutsertaanProjek",
          "JumlahKeikutsertaanProjek",
          "JumlahKeikutsertaanProjek",
          "JumlahKeikutsertaanProjek",
          "JumlahKeikutsertaanProjek",
          "JumlahKeikutsertaanProjek",
          "JumlahKeikutsertaanProjek",
          "JumlahKeikutsertaanProjek",
          "JumlahKeikutsertaanProjek",
          "JumlahKeikutsertaanProjek",
          "JumlahKeikutsertaanProjek",
          "JumlahKeikutsertaanProjek",
          "JumlahKeikutsertaanProjek",
          "JumlahKeikutsertaanProjek",
          "JumlahKeikutsertaanProjek",
          "JumlahKeikutsertaanProjek",
          "JumlahKeikutsertaanProjek",
          "JumlahKeikutsertaanProjek",
          "JumlahKeikutsertaanProjek",
          "JumlahKeikutsertaanProjek",
          "JumlahKeikutsertaanProjek",
          "JumlahKeikutsertaanProjek",
          "JumlahKeikutsertaanProjek",
          "JumlahKeikutsertaanProjek",
          "JumlahKeikutsertaanProjek",
          "JumlahKeikutsertaanProjek",
          "JumlahKeikutsertaanProjek",
          "JumlahKeikutsertaanProjek",
          "JumlahKeikutsertaanProjek",
          "JumlahKeikutsertaanProjek",
          "JumlahKeikutsertaanProjek",
          "JumlahKeikutsertaanProjek",
          "JumlahKeikutsertaanProjek",
          "JumlahKeikutsertaanProjek",
          "JumlahKeikutsertaanProjek",
          "JumlahKeikutsertaanProjek"
         ],
         "y0": " ",
         "yaxis": "y"
        }
       ],
       "layout": {
        "boxmode": "group",
        "height": 300,
        "legend": {
         "tracegroupgap": 0
        },
        "margin": {
         "t": 60
        },
        "template": {
         "data": {
          "bar": [
           {
            "error_x": {
             "color": "#2a3f5f"
            },
            "error_y": {
             "color": "#2a3f5f"
            },
            "marker": {
             "line": {
              "color": "#E5ECF6",
              "width": 0.5
             },
             "pattern": {
              "fillmode": "overlay",
              "size": 10,
              "solidity": 0.2
             }
            },
            "type": "bar"
           }
          ],
          "barpolar": [
           {
            "marker": {
             "line": {
              "color": "#E5ECF6",
              "width": 0.5
             },
             "pattern": {
              "fillmode": "overlay",
              "size": 10,
              "solidity": 0.2
             }
            },
            "type": "barpolar"
           }
          ],
          "carpet": [
           {
            "aaxis": {
             "endlinecolor": "#2a3f5f",
             "gridcolor": "white",
             "linecolor": "white",
             "minorgridcolor": "white",
             "startlinecolor": "#2a3f5f"
            },
            "baxis": {
             "endlinecolor": "#2a3f5f",
             "gridcolor": "white",
             "linecolor": "white",
             "minorgridcolor": "white",
             "startlinecolor": "#2a3f5f"
            },
            "type": "carpet"
           }
          ],
          "choropleth": [
           {
            "colorbar": {
             "outlinewidth": 0,
             "ticks": ""
            },
            "type": "choropleth"
           }
          ],
          "contour": [
           {
            "colorbar": {
             "outlinewidth": 0,
             "ticks": ""
            },
            "colorscale": [
             [
              0,
              "#0d0887"
             ],
             [
              0.1111111111111111,
              "#46039f"
             ],
             [
              0.2222222222222222,
              "#7201a8"
             ],
             [
              0.3333333333333333,
              "#9c179e"
             ],
             [
              0.4444444444444444,
              "#bd3786"
             ],
             [
              0.5555555555555556,
              "#d8576b"
             ],
             [
              0.6666666666666666,
              "#ed7953"
             ],
             [
              0.7777777777777778,
              "#fb9f3a"
             ],
             [
              0.8888888888888888,
              "#fdca26"
             ],
             [
              1,
              "#f0f921"
             ]
            ],
            "type": "contour"
           }
          ],
          "contourcarpet": [
           {
            "colorbar": {
             "outlinewidth": 0,
             "ticks": ""
            },
            "type": "contourcarpet"
           }
          ],
          "heatmap": [
           {
            "colorbar": {
             "outlinewidth": 0,
             "ticks": ""
            },
            "colorscale": [
             [
              0,
              "#0d0887"
             ],
             [
              0.1111111111111111,
              "#46039f"
             ],
             [
              0.2222222222222222,
              "#7201a8"
             ],
             [
              0.3333333333333333,
              "#9c179e"
             ],
             [
              0.4444444444444444,
              "#bd3786"
             ],
             [
              0.5555555555555556,
              "#d8576b"
             ],
             [
              0.6666666666666666,
              "#ed7953"
             ],
             [
              0.7777777777777778,
              "#fb9f3a"
             ],
             [
              0.8888888888888888,
              "#fdca26"
             ],
             [
              1,
              "#f0f921"
             ]
            ],
            "type": "heatmap"
           }
          ],
          "heatmapgl": [
           {
            "colorbar": {
             "outlinewidth": 0,
             "ticks": ""
            },
            "colorscale": [
             [
              0,
              "#0d0887"
             ],
             [
              0.1111111111111111,
              "#46039f"
             ],
             [
              0.2222222222222222,
              "#7201a8"
             ],
             [
              0.3333333333333333,
              "#9c179e"
             ],
             [
              0.4444444444444444,
              "#bd3786"
             ],
             [
              0.5555555555555556,
              "#d8576b"
             ],
             [
              0.6666666666666666,
              "#ed7953"
             ],
             [
              0.7777777777777778,
              "#fb9f3a"
             ],
             [
              0.8888888888888888,
              "#fdca26"
             ],
             [
              1,
              "#f0f921"
             ]
            ],
            "type": "heatmapgl"
           }
          ],
          "histogram": [
           {
            "marker": {
             "pattern": {
              "fillmode": "overlay",
              "size": 10,
              "solidity": 0.2
             }
            },
            "type": "histogram"
           }
          ],
          "histogram2d": [
           {
            "colorbar": {
             "outlinewidth": 0,
             "ticks": ""
            },
            "colorscale": [
             [
              0,
              "#0d0887"
             ],
             [
              0.1111111111111111,
              "#46039f"
             ],
             [
              0.2222222222222222,
              "#7201a8"
             ],
             [
              0.3333333333333333,
              "#9c179e"
             ],
             [
              0.4444444444444444,
              "#bd3786"
             ],
             [
              0.5555555555555556,
              "#d8576b"
             ],
             [
              0.6666666666666666,
              "#ed7953"
             ],
             [
              0.7777777777777778,
              "#fb9f3a"
             ],
             [
              0.8888888888888888,
              "#fdca26"
             ],
             [
              1,
              "#f0f921"
             ]
            ],
            "type": "histogram2d"
           }
          ],
          "histogram2dcontour": [
           {
            "colorbar": {
             "outlinewidth": 0,
             "ticks": ""
            },
            "colorscale": [
             [
              0,
              "#0d0887"
             ],
             [
              0.1111111111111111,
              "#46039f"
             ],
             [
              0.2222222222222222,
              "#7201a8"
             ],
             [
              0.3333333333333333,
              "#9c179e"
             ],
             [
              0.4444444444444444,
              "#bd3786"
             ],
             [
              0.5555555555555556,
              "#d8576b"
             ],
             [
              0.6666666666666666,
              "#ed7953"
             ],
             [
              0.7777777777777778,
              "#fb9f3a"
             ],
             [
              0.8888888888888888,
              "#fdca26"
             ],
             [
              1,
              "#f0f921"
             ]
            ],
            "type": "histogram2dcontour"
           }
          ],
          "mesh3d": [
           {
            "colorbar": {
             "outlinewidth": 0,
             "ticks": ""
            },
            "type": "mesh3d"
           }
          ],
          "parcoords": [
           {
            "line": {
             "colorbar": {
              "outlinewidth": 0,
              "ticks": ""
             }
            },
            "type": "parcoords"
           }
          ],
          "pie": [
           {
            "automargin": true,
            "type": "pie"
           }
          ],
          "scatter": [
           {
            "fillpattern": {
             "fillmode": "overlay",
             "size": 10,
             "solidity": 0.2
            },
            "type": "scatter"
           }
          ],
          "scatter3d": [
           {
            "line": {
             "colorbar": {
              "outlinewidth": 0,
              "ticks": ""
             }
            },
            "marker": {
             "colorbar": {
              "outlinewidth": 0,
              "ticks": ""
             }
            },
            "type": "scatter3d"
           }
          ],
          "scattercarpet": [
           {
            "marker": {
             "colorbar": {
              "outlinewidth": 0,
              "ticks": ""
             }
            },
            "type": "scattercarpet"
           }
          ],
          "scattergeo": [
           {
            "marker": {
             "colorbar": {
              "outlinewidth": 0,
              "ticks": ""
             }
            },
            "type": "scattergeo"
           }
          ],
          "scattergl": [
           {
            "marker": {
             "colorbar": {
              "outlinewidth": 0,
              "ticks": ""
             }
            },
            "type": "scattergl"
           }
          ],
          "scattermapbox": [
           {
            "marker": {
             "colorbar": {
              "outlinewidth": 0,
              "ticks": ""
             }
            },
            "type": "scattermapbox"
           }
          ],
          "scatterpolar": [
           {
            "marker": {
             "colorbar": {
              "outlinewidth": 0,
              "ticks": ""
             }
            },
            "type": "scatterpolar"
           }
          ],
          "scatterpolargl": [
           {
            "marker": {
             "colorbar": {
              "outlinewidth": 0,
              "ticks": ""
             }
            },
            "type": "scatterpolargl"
           }
          ],
          "scatterternary": [
           {
            "marker": {
             "colorbar": {
              "outlinewidth": 0,
              "ticks": ""
             }
            },
            "type": "scatterternary"
           }
          ],
          "surface": [
           {
            "colorbar": {
             "outlinewidth": 0,
             "ticks": ""
            },
            "colorscale": [
             [
              0,
              "#0d0887"
             ],
             [
              0.1111111111111111,
              "#46039f"
             ],
             [
              0.2222222222222222,
              "#7201a8"
             ],
             [
              0.3333333333333333,
              "#9c179e"
             ],
             [
              0.4444444444444444,
              "#bd3786"
             ],
             [
              0.5555555555555556,
              "#d8576b"
             ],
             [
              0.6666666666666666,
              "#ed7953"
             ],
             [
              0.7777777777777778,
              "#fb9f3a"
             ],
             [
              0.8888888888888888,
              "#fdca26"
             ],
             [
              1,
              "#f0f921"
             ]
            ],
            "type": "surface"
           }
          ],
          "table": [
           {
            "cells": {
             "fill": {
              "color": "#EBF0F8"
             },
             "line": {
              "color": "white"
             }
            },
            "header": {
             "fill": {
              "color": "#C8D4E3"
             },
             "line": {
              "color": "white"
             }
            },
            "type": "table"
           }
          ]
         },
         "layout": {
          "annotationdefaults": {
           "arrowcolor": "#2a3f5f",
           "arrowhead": 0,
           "arrowwidth": 1
          },
          "autotypenumbers": "strict",
          "coloraxis": {
           "colorbar": {
            "outlinewidth": 0,
            "ticks": ""
           }
          },
          "colorscale": {
           "diverging": [
            [
             0,
             "#8e0152"
            ],
            [
             0.1,
             "#c51b7d"
            ],
            [
             0.2,
             "#de77ae"
            ],
            [
             0.3,
             "#f1b6da"
            ],
            [
             0.4,
             "#fde0ef"
            ],
            [
             0.5,
             "#f7f7f7"
            ],
            [
             0.6,
             "#e6f5d0"
            ],
            [
             0.7,
             "#b8e186"
            ],
            [
             0.8,
             "#7fbc41"
            ],
            [
             0.9,
             "#4d9221"
            ],
            [
             1,
             "#276419"
            ]
           ],
           "sequential": [
            [
             0,
             "#0d0887"
            ],
            [
             0.1111111111111111,
             "#46039f"
            ],
            [
             0.2222222222222222,
             "#7201a8"
            ],
            [
             0.3333333333333333,
             "#9c179e"
            ],
            [
             0.4444444444444444,
             "#bd3786"
            ],
            [
             0.5555555555555556,
             "#d8576b"
            ],
            [
             0.6666666666666666,
             "#ed7953"
            ],
            [
             0.7777777777777778,
             "#fb9f3a"
            ],
            [
             0.8888888888888888,
             "#fdca26"
            ],
            [
             1,
             "#f0f921"
            ]
           ],
           "sequentialminus": [
            [
             0,
             "#0d0887"
            ],
            [
             0.1111111111111111,
             "#46039f"
            ],
            [
             0.2222222222222222,
             "#7201a8"
            ],
            [
             0.3333333333333333,
             "#9c179e"
            ],
            [
             0.4444444444444444,
             "#bd3786"
            ],
            [
             0.5555555555555556,
             "#d8576b"
            ],
            [
             0.6666666666666666,
             "#ed7953"
            ],
            [
             0.7777777777777778,
             "#fb9f3a"
            ],
            [
             0.8888888888888888,
             "#fdca26"
            ],
            [
             1,
             "#f0f921"
            ]
           ]
          },
          "colorway": [
           "#636efa",
           "#EF553B",
           "#00cc96",
           "#ab63fa",
           "#FFA15A",
           "#19d3f3",
           "#FF6692",
           "#B6E880",
           "#FF97FF",
           "#FECB52"
          ],
          "font": {
           "color": "#2a3f5f"
          },
          "geo": {
           "bgcolor": "white",
           "lakecolor": "white",
           "landcolor": "#E5ECF6",
           "showlakes": true,
           "showland": true,
           "subunitcolor": "white"
          },
          "hoverlabel": {
           "align": "left"
          },
          "hovermode": "closest",
          "mapbox": {
           "style": "light"
          },
          "paper_bgcolor": "white",
          "plot_bgcolor": "#E5ECF6",
          "polar": {
           "angularaxis": {
            "gridcolor": "white",
            "linecolor": "white",
            "ticks": ""
           },
           "bgcolor": "#E5ECF6",
           "radialaxis": {
            "gridcolor": "white",
            "linecolor": "white",
            "ticks": ""
           }
          },
          "scene": {
           "xaxis": {
            "backgroundcolor": "#E5ECF6",
            "gridcolor": "white",
            "gridwidth": 2,
            "linecolor": "white",
            "showbackground": true,
            "ticks": "",
            "zerolinecolor": "white"
           },
           "yaxis": {
            "backgroundcolor": "#E5ECF6",
            "gridcolor": "white",
            "gridwidth": 2,
            "linecolor": "white",
            "showbackground": true,
            "ticks": "",
            "zerolinecolor": "white"
           },
           "zaxis": {
            "backgroundcolor": "#E5ECF6",
            "gridcolor": "white",
            "gridwidth": 2,
            "linecolor": "white",
            "showbackground": true,
            "ticks": "",
            "zerolinecolor": "white"
           }
          },
          "shapedefaults": {
           "line": {
            "color": "#2a3f5f"
           }
          },
          "ternary": {
           "aaxis": {
            "gridcolor": "white",
            "linecolor": "white",
            "ticks": ""
           },
           "baxis": {
            "gridcolor": "white",
            "linecolor": "white",
            "ticks": ""
           },
           "bgcolor": "#E5ECF6",
           "caxis": {
            "gridcolor": "white",
            "linecolor": "white",
            "ticks": ""
           }
          },
          "title": {
           "x": 0.05
          },
          "xaxis": {
           "automargin": true,
           "gridcolor": "white",
           "linecolor": "white",
           "ticks": "",
           "title": {
            "standoff": 15
           },
           "zerolinecolor": "white",
           "zerolinewidth": 2
          },
          "yaxis": {
           "automargin": true,
           "gridcolor": "white",
           "linecolor": "white",
           "ticks": "",
           "title": {
            "standoff": 15
           },
           "zerolinecolor": "white",
           "zerolinewidth": 2
          }
         }
        },
        "title": {
         "text": "Box Plot <b>JumlahKeikutsertaanProjek</b>"
        },
        "width": 700,
        "xaxis": {
         "anchor": "y",
         "domain": [
          0,
          1
         ],
         "showgrid": false,
         "title": {
          "text": "Total"
         }
        },
        "yaxis": {
         "anchor": "x",
         "domain": [
          0,
          1
         ],
         "showgrid": false,
         "title": {}
        }
       }
      }
     },
     "metadata": {},
     "output_type": "display_data"
    },
    {
     "data": {
      "application/vnd.plotly.v1+json": {
       "config": {
        "plotlyServerURL": "https://plot.ly"
       },
       "data": [
        {
         "alignmentgroup": "True",
         "hovertemplate": "value=%{x}<br>variable=%{y}<extra></extra>",
         "legendgroup": "",
         "marker": {
          "color": "#9d4edd"
         },
         "name": "",
         "notched": false,
         "offsetgroup": "",
         "orientation": "h",
         "showlegend": false,
         "type": "box",
         "x": [
          0,
          0,
          0,
          4,
          0,
          0,
          0,
          0,
          0,
          0,
          3,
          5,
          0,
          0,
          0,
          0,
          0,
          0,
          0,
          4,
          0,
          0,
          0,
          0,
          2,
          4,
          0,
          0,
          0,
          0,
          0,
          0,
          6,
          0,
          0,
          0,
          1,
          0,
          0,
          0,
          0,
          0,
          0,
          0,
          5,
          0,
          0,
          0,
          0,
          0,
          0,
          0,
          0,
          0,
          0,
          0,
          0,
          6,
          0,
          0,
          0,
          0,
          4,
          0,
          0,
          0,
          2,
          0,
          0,
          0,
          0,
          0,
          6,
          0,
          0,
          0,
          0,
          0,
          0,
          0,
          0,
          0,
          0,
          0,
          5,
          0,
          0,
          0,
          0,
          0,
          2,
          0,
          0,
          0,
          0,
          0,
          0,
          0,
          2,
          0,
          0,
          0,
          0,
          0,
          0,
          0,
          0,
          0,
          0,
          0,
          0,
          0,
          0,
          0,
          0,
          0,
          0,
          0,
          0,
          0,
          0,
          0,
          0,
          0,
          0,
          0,
          0,
          0,
          0,
          0,
          0,
          0,
          0,
          5,
          0,
          2,
          3,
          0,
          0,
          4,
          0,
          0,
          0,
          0,
          0,
          0,
          0,
          0,
          0,
          0,
          6,
          0,
          0,
          0,
          0,
          3,
          0,
          0,
          0,
          0,
          0,
          0,
          0,
          0,
          5,
          0,
          0,
          0,
          0,
          0,
          0,
          6,
          0,
          0,
          0,
          0,
          null,
          0,
          0,
          0,
          0,
          0,
          0,
          0,
          0,
          0,
          0,
          3,
          0,
          0,
          0,
          0,
          4,
          0,
          0,
          0,
          0,
          0,
          0,
          0,
          0,
          0,
          0,
          0,
          0,
          0,
          0,
          0,
          0,
          0,
          0,
          2,
          0,
          0,
          0,
          0,
          0,
          3,
          0,
          0,
          0,
          0,
          0,
          0,
          0,
          0,
          4,
          0,
          0,
          0,
          0,
          0,
          0,
          0,
          0,
          0,
          0,
          0,
          0,
          0,
          0,
          0,
          0,
          0,
          0,
          0,
          0,
          0,
          0,
          0,
          0,
          0,
          0,
          0,
          0,
          0,
          0,
          0,
          0,
          0,
          0,
          4,
          0,
          0,
          0,
          3,
          0,
          0,
          0,
          0,
          0,
          0,
          0,
          0,
          0,
          0,
          0,
          0,
          0,
          0,
          0,
          0,
          0,
          0,
          0,
          0,
          0
         ],
         "x0": " ",
         "xaxis": "x",
         "y": [
          "JumlahKeterlambatanSebulanTerakhir",
          "JumlahKeterlambatanSebulanTerakhir",
          "JumlahKeterlambatanSebulanTerakhir",
          "JumlahKeterlambatanSebulanTerakhir",
          "JumlahKeterlambatanSebulanTerakhir",
          "JumlahKeterlambatanSebulanTerakhir",
          "JumlahKeterlambatanSebulanTerakhir",
          "JumlahKeterlambatanSebulanTerakhir",
          "JumlahKeterlambatanSebulanTerakhir",
          "JumlahKeterlambatanSebulanTerakhir",
          "JumlahKeterlambatanSebulanTerakhir",
          "JumlahKeterlambatanSebulanTerakhir",
          "JumlahKeterlambatanSebulanTerakhir",
          "JumlahKeterlambatanSebulanTerakhir",
          "JumlahKeterlambatanSebulanTerakhir",
          "JumlahKeterlambatanSebulanTerakhir",
          "JumlahKeterlambatanSebulanTerakhir",
          "JumlahKeterlambatanSebulanTerakhir",
          "JumlahKeterlambatanSebulanTerakhir",
          "JumlahKeterlambatanSebulanTerakhir",
          "JumlahKeterlambatanSebulanTerakhir",
          "JumlahKeterlambatanSebulanTerakhir",
          "JumlahKeterlambatanSebulanTerakhir",
          "JumlahKeterlambatanSebulanTerakhir",
          "JumlahKeterlambatanSebulanTerakhir",
          "JumlahKeterlambatanSebulanTerakhir",
          "JumlahKeterlambatanSebulanTerakhir",
          "JumlahKeterlambatanSebulanTerakhir",
          "JumlahKeterlambatanSebulanTerakhir",
          "JumlahKeterlambatanSebulanTerakhir",
          "JumlahKeterlambatanSebulanTerakhir",
          "JumlahKeterlambatanSebulanTerakhir",
          "JumlahKeterlambatanSebulanTerakhir",
          "JumlahKeterlambatanSebulanTerakhir",
          "JumlahKeterlambatanSebulanTerakhir",
          "JumlahKeterlambatanSebulanTerakhir",
          "JumlahKeterlambatanSebulanTerakhir",
          "JumlahKeterlambatanSebulanTerakhir",
          "JumlahKeterlambatanSebulanTerakhir",
          "JumlahKeterlambatanSebulanTerakhir",
          "JumlahKeterlambatanSebulanTerakhir",
          "JumlahKeterlambatanSebulanTerakhir",
          "JumlahKeterlambatanSebulanTerakhir",
          "JumlahKeterlambatanSebulanTerakhir",
          "JumlahKeterlambatanSebulanTerakhir",
          "JumlahKeterlambatanSebulanTerakhir",
          "JumlahKeterlambatanSebulanTerakhir",
          "JumlahKeterlambatanSebulanTerakhir",
          "JumlahKeterlambatanSebulanTerakhir",
          "JumlahKeterlambatanSebulanTerakhir",
          "JumlahKeterlambatanSebulanTerakhir",
          "JumlahKeterlambatanSebulanTerakhir",
          "JumlahKeterlambatanSebulanTerakhir",
          "JumlahKeterlambatanSebulanTerakhir",
          "JumlahKeterlambatanSebulanTerakhir",
          "JumlahKeterlambatanSebulanTerakhir",
          "JumlahKeterlambatanSebulanTerakhir",
          "JumlahKeterlambatanSebulanTerakhir",
          "JumlahKeterlambatanSebulanTerakhir",
          "JumlahKeterlambatanSebulanTerakhir",
          "JumlahKeterlambatanSebulanTerakhir",
          "JumlahKeterlambatanSebulanTerakhir",
          "JumlahKeterlambatanSebulanTerakhir",
          "JumlahKeterlambatanSebulanTerakhir",
          "JumlahKeterlambatanSebulanTerakhir",
          "JumlahKeterlambatanSebulanTerakhir",
          "JumlahKeterlambatanSebulanTerakhir",
          "JumlahKeterlambatanSebulanTerakhir",
          "JumlahKeterlambatanSebulanTerakhir",
          "JumlahKeterlambatanSebulanTerakhir",
          "JumlahKeterlambatanSebulanTerakhir",
          "JumlahKeterlambatanSebulanTerakhir",
          "JumlahKeterlambatanSebulanTerakhir",
          "JumlahKeterlambatanSebulanTerakhir",
          "JumlahKeterlambatanSebulanTerakhir",
          "JumlahKeterlambatanSebulanTerakhir",
          "JumlahKeterlambatanSebulanTerakhir",
          "JumlahKeterlambatanSebulanTerakhir",
          "JumlahKeterlambatanSebulanTerakhir",
          "JumlahKeterlambatanSebulanTerakhir",
          "JumlahKeterlambatanSebulanTerakhir",
          "JumlahKeterlambatanSebulanTerakhir",
          "JumlahKeterlambatanSebulanTerakhir",
          "JumlahKeterlambatanSebulanTerakhir",
          "JumlahKeterlambatanSebulanTerakhir",
          "JumlahKeterlambatanSebulanTerakhir",
          "JumlahKeterlambatanSebulanTerakhir",
          "JumlahKeterlambatanSebulanTerakhir",
          "JumlahKeterlambatanSebulanTerakhir",
          "JumlahKeterlambatanSebulanTerakhir",
          "JumlahKeterlambatanSebulanTerakhir",
          "JumlahKeterlambatanSebulanTerakhir",
          "JumlahKeterlambatanSebulanTerakhir",
          "JumlahKeterlambatanSebulanTerakhir",
          "JumlahKeterlambatanSebulanTerakhir",
          "JumlahKeterlambatanSebulanTerakhir",
          "JumlahKeterlambatanSebulanTerakhir",
          "JumlahKeterlambatanSebulanTerakhir",
          "JumlahKeterlambatanSebulanTerakhir",
          "JumlahKeterlambatanSebulanTerakhir",
          "JumlahKeterlambatanSebulanTerakhir",
          "JumlahKeterlambatanSebulanTerakhir",
          "JumlahKeterlambatanSebulanTerakhir",
          "JumlahKeterlambatanSebulanTerakhir",
          "JumlahKeterlambatanSebulanTerakhir",
          "JumlahKeterlambatanSebulanTerakhir",
          "JumlahKeterlambatanSebulanTerakhir",
          "JumlahKeterlambatanSebulanTerakhir",
          "JumlahKeterlambatanSebulanTerakhir",
          "JumlahKeterlambatanSebulanTerakhir",
          "JumlahKeterlambatanSebulanTerakhir",
          "JumlahKeterlambatanSebulanTerakhir",
          "JumlahKeterlambatanSebulanTerakhir",
          "JumlahKeterlambatanSebulanTerakhir",
          "JumlahKeterlambatanSebulanTerakhir",
          "JumlahKeterlambatanSebulanTerakhir",
          "JumlahKeterlambatanSebulanTerakhir",
          "JumlahKeterlambatanSebulanTerakhir",
          "JumlahKeterlambatanSebulanTerakhir",
          "JumlahKeterlambatanSebulanTerakhir",
          "JumlahKeterlambatanSebulanTerakhir",
          "JumlahKeterlambatanSebulanTerakhir",
          "JumlahKeterlambatanSebulanTerakhir",
          "JumlahKeterlambatanSebulanTerakhir",
          "JumlahKeterlambatanSebulanTerakhir",
          "JumlahKeterlambatanSebulanTerakhir",
          "JumlahKeterlambatanSebulanTerakhir",
          "JumlahKeterlambatanSebulanTerakhir",
          "JumlahKeterlambatanSebulanTerakhir",
          "JumlahKeterlambatanSebulanTerakhir",
          "JumlahKeterlambatanSebulanTerakhir",
          "JumlahKeterlambatanSebulanTerakhir",
          "JumlahKeterlambatanSebulanTerakhir",
          "JumlahKeterlambatanSebulanTerakhir",
          "JumlahKeterlambatanSebulanTerakhir",
          "JumlahKeterlambatanSebulanTerakhir",
          "JumlahKeterlambatanSebulanTerakhir",
          "JumlahKeterlambatanSebulanTerakhir",
          "JumlahKeterlambatanSebulanTerakhir",
          "JumlahKeterlambatanSebulanTerakhir",
          "JumlahKeterlambatanSebulanTerakhir",
          "JumlahKeterlambatanSebulanTerakhir",
          "JumlahKeterlambatanSebulanTerakhir",
          "JumlahKeterlambatanSebulanTerakhir",
          "JumlahKeterlambatanSebulanTerakhir",
          "JumlahKeterlambatanSebulanTerakhir",
          "JumlahKeterlambatanSebulanTerakhir",
          "JumlahKeterlambatanSebulanTerakhir",
          "JumlahKeterlambatanSebulanTerakhir",
          "JumlahKeterlambatanSebulanTerakhir",
          "JumlahKeterlambatanSebulanTerakhir",
          "JumlahKeterlambatanSebulanTerakhir",
          "JumlahKeterlambatanSebulanTerakhir",
          "JumlahKeterlambatanSebulanTerakhir",
          "JumlahKeterlambatanSebulanTerakhir",
          "JumlahKeterlambatanSebulanTerakhir",
          "JumlahKeterlambatanSebulanTerakhir",
          "JumlahKeterlambatanSebulanTerakhir",
          "JumlahKeterlambatanSebulanTerakhir",
          "JumlahKeterlambatanSebulanTerakhir",
          "JumlahKeterlambatanSebulanTerakhir",
          "JumlahKeterlambatanSebulanTerakhir",
          "JumlahKeterlambatanSebulanTerakhir",
          "JumlahKeterlambatanSebulanTerakhir",
          "JumlahKeterlambatanSebulanTerakhir",
          "JumlahKeterlambatanSebulanTerakhir",
          "JumlahKeterlambatanSebulanTerakhir",
          "JumlahKeterlambatanSebulanTerakhir",
          "JumlahKeterlambatanSebulanTerakhir",
          "JumlahKeterlambatanSebulanTerakhir",
          "JumlahKeterlambatanSebulanTerakhir",
          "JumlahKeterlambatanSebulanTerakhir",
          "JumlahKeterlambatanSebulanTerakhir",
          "JumlahKeterlambatanSebulanTerakhir",
          "JumlahKeterlambatanSebulanTerakhir",
          "JumlahKeterlambatanSebulanTerakhir",
          "JumlahKeterlambatanSebulanTerakhir",
          "JumlahKeterlambatanSebulanTerakhir",
          "JumlahKeterlambatanSebulanTerakhir",
          "JumlahKeterlambatanSebulanTerakhir",
          "JumlahKeterlambatanSebulanTerakhir",
          "JumlahKeterlambatanSebulanTerakhir",
          "JumlahKeterlambatanSebulanTerakhir",
          "JumlahKeterlambatanSebulanTerakhir",
          "JumlahKeterlambatanSebulanTerakhir",
          "JumlahKeterlambatanSebulanTerakhir",
          "JumlahKeterlambatanSebulanTerakhir",
          "JumlahKeterlambatanSebulanTerakhir",
          "JumlahKeterlambatanSebulanTerakhir",
          "JumlahKeterlambatanSebulanTerakhir",
          "JumlahKeterlambatanSebulanTerakhir",
          "JumlahKeterlambatanSebulanTerakhir",
          "JumlahKeterlambatanSebulanTerakhir",
          "JumlahKeterlambatanSebulanTerakhir",
          "JumlahKeterlambatanSebulanTerakhir",
          "JumlahKeterlambatanSebulanTerakhir",
          "JumlahKeterlambatanSebulanTerakhir",
          "JumlahKeterlambatanSebulanTerakhir",
          "JumlahKeterlambatanSebulanTerakhir",
          "JumlahKeterlambatanSebulanTerakhir",
          "JumlahKeterlambatanSebulanTerakhir",
          "JumlahKeterlambatanSebulanTerakhir",
          "JumlahKeterlambatanSebulanTerakhir",
          "JumlahKeterlambatanSebulanTerakhir",
          "JumlahKeterlambatanSebulanTerakhir",
          "JumlahKeterlambatanSebulanTerakhir",
          "JumlahKeterlambatanSebulanTerakhir",
          "JumlahKeterlambatanSebulanTerakhir",
          "JumlahKeterlambatanSebulanTerakhir",
          "JumlahKeterlambatanSebulanTerakhir",
          "JumlahKeterlambatanSebulanTerakhir",
          "JumlahKeterlambatanSebulanTerakhir",
          "JumlahKeterlambatanSebulanTerakhir",
          "JumlahKeterlambatanSebulanTerakhir",
          "JumlahKeterlambatanSebulanTerakhir",
          "JumlahKeterlambatanSebulanTerakhir",
          "JumlahKeterlambatanSebulanTerakhir",
          "JumlahKeterlambatanSebulanTerakhir",
          "JumlahKeterlambatanSebulanTerakhir",
          "JumlahKeterlambatanSebulanTerakhir",
          "JumlahKeterlambatanSebulanTerakhir",
          "JumlahKeterlambatanSebulanTerakhir",
          "JumlahKeterlambatanSebulanTerakhir",
          "JumlahKeterlambatanSebulanTerakhir",
          "JumlahKeterlambatanSebulanTerakhir",
          "JumlahKeterlambatanSebulanTerakhir",
          "JumlahKeterlambatanSebulanTerakhir",
          "JumlahKeterlambatanSebulanTerakhir",
          "JumlahKeterlambatanSebulanTerakhir",
          "JumlahKeterlambatanSebulanTerakhir",
          "JumlahKeterlambatanSebulanTerakhir",
          "JumlahKeterlambatanSebulanTerakhir",
          "JumlahKeterlambatanSebulanTerakhir",
          "JumlahKeterlambatanSebulanTerakhir",
          "JumlahKeterlambatanSebulanTerakhir",
          "JumlahKeterlambatanSebulanTerakhir",
          "JumlahKeterlambatanSebulanTerakhir",
          "JumlahKeterlambatanSebulanTerakhir",
          "JumlahKeterlambatanSebulanTerakhir",
          "JumlahKeterlambatanSebulanTerakhir",
          "JumlahKeterlambatanSebulanTerakhir",
          "JumlahKeterlambatanSebulanTerakhir",
          "JumlahKeterlambatanSebulanTerakhir",
          "JumlahKeterlambatanSebulanTerakhir",
          "JumlahKeterlambatanSebulanTerakhir",
          "JumlahKeterlambatanSebulanTerakhir",
          "JumlahKeterlambatanSebulanTerakhir",
          "JumlahKeterlambatanSebulanTerakhir",
          "JumlahKeterlambatanSebulanTerakhir",
          "JumlahKeterlambatanSebulanTerakhir",
          "JumlahKeterlambatanSebulanTerakhir",
          "JumlahKeterlambatanSebulanTerakhir",
          "JumlahKeterlambatanSebulanTerakhir",
          "JumlahKeterlambatanSebulanTerakhir",
          "JumlahKeterlambatanSebulanTerakhir",
          "JumlahKeterlambatanSebulanTerakhir",
          "JumlahKeterlambatanSebulanTerakhir",
          "JumlahKeterlambatanSebulanTerakhir",
          "JumlahKeterlambatanSebulanTerakhir",
          "JumlahKeterlambatanSebulanTerakhir",
          "JumlahKeterlambatanSebulanTerakhir",
          "JumlahKeterlambatanSebulanTerakhir",
          "JumlahKeterlambatanSebulanTerakhir",
          "JumlahKeterlambatanSebulanTerakhir",
          "JumlahKeterlambatanSebulanTerakhir",
          "JumlahKeterlambatanSebulanTerakhir",
          "JumlahKeterlambatanSebulanTerakhir",
          "JumlahKeterlambatanSebulanTerakhir",
          "JumlahKeterlambatanSebulanTerakhir",
          "JumlahKeterlambatanSebulanTerakhir",
          "JumlahKeterlambatanSebulanTerakhir",
          "JumlahKeterlambatanSebulanTerakhir",
          "JumlahKeterlambatanSebulanTerakhir",
          "JumlahKeterlambatanSebulanTerakhir",
          "JumlahKeterlambatanSebulanTerakhir",
          "JumlahKeterlambatanSebulanTerakhir",
          "JumlahKeterlambatanSebulanTerakhir",
          "JumlahKeterlambatanSebulanTerakhir",
          "JumlahKeterlambatanSebulanTerakhir",
          "JumlahKeterlambatanSebulanTerakhir",
          "JumlahKeterlambatanSebulanTerakhir",
          "JumlahKeterlambatanSebulanTerakhir",
          "JumlahKeterlambatanSebulanTerakhir",
          "JumlahKeterlambatanSebulanTerakhir",
          "JumlahKeterlambatanSebulanTerakhir",
          "JumlahKeterlambatanSebulanTerakhir",
          "JumlahKeterlambatanSebulanTerakhir"
         ],
         "y0": " ",
         "yaxis": "y"
        }
       ],
       "layout": {
        "boxmode": "group",
        "height": 300,
        "legend": {
         "tracegroupgap": 0
        },
        "margin": {
         "t": 60
        },
        "template": {
         "data": {
          "bar": [
           {
            "error_x": {
             "color": "#2a3f5f"
            },
            "error_y": {
             "color": "#2a3f5f"
            },
            "marker": {
             "line": {
              "color": "#E5ECF6",
              "width": 0.5
             },
             "pattern": {
              "fillmode": "overlay",
              "size": 10,
              "solidity": 0.2
             }
            },
            "type": "bar"
           }
          ],
          "barpolar": [
           {
            "marker": {
             "line": {
              "color": "#E5ECF6",
              "width": 0.5
             },
             "pattern": {
              "fillmode": "overlay",
              "size": 10,
              "solidity": 0.2
             }
            },
            "type": "barpolar"
           }
          ],
          "carpet": [
           {
            "aaxis": {
             "endlinecolor": "#2a3f5f",
             "gridcolor": "white",
             "linecolor": "white",
             "minorgridcolor": "white",
             "startlinecolor": "#2a3f5f"
            },
            "baxis": {
             "endlinecolor": "#2a3f5f",
             "gridcolor": "white",
             "linecolor": "white",
             "minorgridcolor": "white",
             "startlinecolor": "#2a3f5f"
            },
            "type": "carpet"
           }
          ],
          "choropleth": [
           {
            "colorbar": {
             "outlinewidth": 0,
             "ticks": ""
            },
            "type": "choropleth"
           }
          ],
          "contour": [
           {
            "colorbar": {
             "outlinewidth": 0,
             "ticks": ""
            },
            "colorscale": [
             [
              0,
              "#0d0887"
             ],
             [
              0.1111111111111111,
              "#46039f"
             ],
             [
              0.2222222222222222,
              "#7201a8"
             ],
             [
              0.3333333333333333,
              "#9c179e"
             ],
             [
              0.4444444444444444,
              "#bd3786"
             ],
             [
              0.5555555555555556,
              "#d8576b"
             ],
             [
              0.6666666666666666,
              "#ed7953"
             ],
             [
              0.7777777777777778,
              "#fb9f3a"
             ],
             [
              0.8888888888888888,
              "#fdca26"
             ],
             [
              1,
              "#f0f921"
             ]
            ],
            "type": "contour"
           }
          ],
          "contourcarpet": [
           {
            "colorbar": {
             "outlinewidth": 0,
             "ticks": ""
            },
            "type": "contourcarpet"
           }
          ],
          "heatmap": [
           {
            "colorbar": {
             "outlinewidth": 0,
             "ticks": ""
            },
            "colorscale": [
             [
              0,
              "#0d0887"
             ],
             [
              0.1111111111111111,
              "#46039f"
             ],
             [
              0.2222222222222222,
              "#7201a8"
             ],
             [
              0.3333333333333333,
              "#9c179e"
             ],
             [
              0.4444444444444444,
              "#bd3786"
             ],
             [
              0.5555555555555556,
              "#d8576b"
             ],
             [
              0.6666666666666666,
              "#ed7953"
             ],
             [
              0.7777777777777778,
              "#fb9f3a"
             ],
             [
              0.8888888888888888,
              "#fdca26"
             ],
             [
              1,
              "#f0f921"
             ]
            ],
            "type": "heatmap"
           }
          ],
          "heatmapgl": [
           {
            "colorbar": {
             "outlinewidth": 0,
             "ticks": ""
            },
            "colorscale": [
             [
              0,
              "#0d0887"
             ],
             [
              0.1111111111111111,
              "#46039f"
             ],
             [
              0.2222222222222222,
              "#7201a8"
             ],
             [
              0.3333333333333333,
              "#9c179e"
             ],
             [
              0.4444444444444444,
              "#bd3786"
             ],
             [
              0.5555555555555556,
              "#d8576b"
             ],
             [
              0.6666666666666666,
              "#ed7953"
             ],
             [
              0.7777777777777778,
              "#fb9f3a"
             ],
             [
              0.8888888888888888,
              "#fdca26"
             ],
             [
              1,
              "#f0f921"
             ]
            ],
            "type": "heatmapgl"
           }
          ],
          "histogram": [
           {
            "marker": {
             "pattern": {
              "fillmode": "overlay",
              "size": 10,
              "solidity": 0.2
             }
            },
            "type": "histogram"
           }
          ],
          "histogram2d": [
           {
            "colorbar": {
             "outlinewidth": 0,
             "ticks": ""
            },
            "colorscale": [
             [
              0,
              "#0d0887"
             ],
             [
              0.1111111111111111,
              "#46039f"
             ],
             [
              0.2222222222222222,
              "#7201a8"
             ],
             [
              0.3333333333333333,
              "#9c179e"
             ],
             [
              0.4444444444444444,
              "#bd3786"
             ],
             [
              0.5555555555555556,
              "#d8576b"
             ],
             [
              0.6666666666666666,
              "#ed7953"
             ],
             [
              0.7777777777777778,
              "#fb9f3a"
             ],
             [
              0.8888888888888888,
              "#fdca26"
             ],
             [
              1,
              "#f0f921"
             ]
            ],
            "type": "histogram2d"
           }
          ],
          "histogram2dcontour": [
           {
            "colorbar": {
             "outlinewidth": 0,
             "ticks": ""
            },
            "colorscale": [
             [
              0,
              "#0d0887"
             ],
             [
              0.1111111111111111,
              "#46039f"
             ],
             [
              0.2222222222222222,
              "#7201a8"
             ],
             [
              0.3333333333333333,
              "#9c179e"
             ],
             [
              0.4444444444444444,
              "#bd3786"
             ],
             [
              0.5555555555555556,
              "#d8576b"
             ],
             [
              0.6666666666666666,
              "#ed7953"
             ],
             [
              0.7777777777777778,
              "#fb9f3a"
             ],
             [
              0.8888888888888888,
              "#fdca26"
             ],
             [
              1,
              "#f0f921"
             ]
            ],
            "type": "histogram2dcontour"
           }
          ],
          "mesh3d": [
           {
            "colorbar": {
             "outlinewidth": 0,
             "ticks": ""
            },
            "type": "mesh3d"
           }
          ],
          "parcoords": [
           {
            "line": {
             "colorbar": {
              "outlinewidth": 0,
              "ticks": ""
             }
            },
            "type": "parcoords"
           }
          ],
          "pie": [
           {
            "automargin": true,
            "type": "pie"
           }
          ],
          "scatter": [
           {
            "fillpattern": {
             "fillmode": "overlay",
             "size": 10,
             "solidity": 0.2
            },
            "type": "scatter"
           }
          ],
          "scatter3d": [
           {
            "line": {
             "colorbar": {
              "outlinewidth": 0,
              "ticks": ""
             }
            },
            "marker": {
             "colorbar": {
              "outlinewidth": 0,
              "ticks": ""
             }
            },
            "type": "scatter3d"
           }
          ],
          "scattercarpet": [
           {
            "marker": {
             "colorbar": {
              "outlinewidth": 0,
              "ticks": ""
             }
            },
            "type": "scattercarpet"
           }
          ],
          "scattergeo": [
           {
            "marker": {
             "colorbar": {
              "outlinewidth": 0,
              "ticks": ""
             }
            },
            "type": "scattergeo"
           }
          ],
          "scattergl": [
           {
            "marker": {
             "colorbar": {
              "outlinewidth": 0,
              "ticks": ""
             }
            },
            "type": "scattergl"
           }
          ],
          "scattermapbox": [
           {
            "marker": {
             "colorbar": {
              "outlinewidth": 0,
              "ticks": ""
             }
            },
            "type": "scattermapbox"
           }
          ],
          "scatterpolar": [
           {
            "marker": {
             "colorbar": {
              "outlinewidth": 0,
              "ticks": ""
             }
            },
            "type": "scatterpolar"
           }
          ],
          "scatterpolargl": [
           {
            "marker": {
             "colorbar": {
              "outlinewidth": 0,
              "ticks": ""
             }
            },
            "type": "scatterpolargl"
           }
          ],
          "scatterternary": [
           {
            "marker": {
             "colorbar": {
              "outlinewidth": 0,
              "ticks": ""
             }
            },
            "type": "scatterternary"
           }
          ],
          "surface": [
           {
            "colorbar": {
             "outlinewidth": 0,
             "ticks": ""
            },
            "colorscale": [
             [
              0,
              "#0d0887"
             ],
             [
              0.1111111111111111,
              "#46039f"
             ],
             [
              0.2222222222222222,
              "#7201a8"
             ],
             [
              0.3333333333333333,
              "#9c179e"
             ],
             [
              0.4444444444444444,
              "#bd3786"
             ],
             [
              0.5555555555555556,
              "#d8576b"
             ],
             [
              0.6666666666666666,
              "#ed7953"
             ],
             [
              0.7777777777777778,
              "#fb9f3a"
             ],
             [
              0.8888888888888888,
              "#fdca26"
             ],
             [
              1,
              "#f0f921"
             ]
            ],
            "type": "surface"
           }
          ],
          "table": [
           {
            "cells": {
             "fill": {
              "color": "#EBF0F8"
             },
             "line": {
              "color": "white"
             }
            },
            "header": {
             "fill": {
              "color": "#C8D4E3"
             },
             "line": {
              "color": "white"
             }
            },
            "type": "table"
           }
          ]
         },
         "layout": {
          "annotationdefaults": {
           "arrowcolor": "#2a3f5f",
           "arrowhead": 0,
           "arrowwidth": 1
          },
          "autotypenumbers": "strict",
          "coloraxis": {
           "colorbar": {
            "outlinewidth": 0,
            "ticks": ""
           }
          },
          "colorscale": {
           "diverging": [
            [
             0,
             "#8e0152"
            ],
            [
             0.1,
             "#c51b7d"
            ],
            [
             0.2,
             "#de77ae"
            ],
            [
             0.3,
             "#f1b6da"
            ],
            [
             0.4,
             "#fde0ef"
            ],
            [
             0.5,
             "#f7f7f7"
            ],
            [
             0.6,
             "#e6f5d0"
            ],
            [
             0.7,
             "#b8e186"
            ],
            [
             0.8,
             "#7fbc41"
            ],
            [
             0.9,
             "#4d9221"
            ],
            [
             1,
             "#276419"
            ]
           ],
           "sequential": [
            [
             0,
             "#0d0887"
            ],
            [
             0.1111111111111111,
             "#46039f"
            ],
            [
             0.2222222222222222,
             "#7201a8"
            ],
            [
             0.3333333333333333,
             "#9c179e"
            ],
            [
             0.4444444444444444,
             "#bd3786"
            ],
            [
             0.5555555555555556,
             "#d8576b"
            ],
            [
             0.6666666666666666,
             "#ed7953"
            ],
            [
             0.7777777777777778,
             "#fb9f3a"
            ],
            [
             0.8888888888888888,
             "#fdca26"
            ],
            [
             1,
             "#f0f921"
            ]
           ],
           "sequentialminus": [
            [
             0,
             "#0d0887"
            ],
            [
             0.1111111111111111,
             "#46039f"
            ],
            [
             0.2222222222222222,
             "#7201a8"
            ],
            [
             0.3333333333333333,
             "#9c179e"
            ],
            [
             0.4444444444444444,
             "#bd3786"
            ],
            [
             0.5555555555555556,
             "#d8576b"
            ],
            [
             0.6666666666666666,
             "#ed7953"
            ],
            [
             0.7777777777777778,
             "#fb9f3a"
            ],
            [
             0.8888888888888888,
             "#fdca26"
            ],
            [
             1,
             "#f0f921"
            ]
           ]
          },
          "colorway": [
           "#636efa",
           "#EF553B",
           "#00cc96",
           "#ab63fa",
           "#FFA15A",
           "#19d3f3",
           "#FF6692",
           "#B6E880",
           "#FF97FF",
           "#FECB52"
          ],
          "font": {
           "color": "#2a3f5f"
          },
          "geo": {
           "bgcolor": "white",
           "lakecolor": "white",
           "landcolor": "#E5ECF6",
           "showlakes": true,
           "showland": true,
           "subunitcolor": "white"
          },
          "hoverlabel": {
           "align": "left"
          },
          "hovermode": "closest",
          "mapbox": {
           "style": "light"
          },
          "paper_bgcolor": "white",
          "plot_bgcolor": "#E5ECF6",
          "polar": {
           "angularaxis": {
            "gridcolor": "white",
            "linecolor": "white",
            "ticks": ""
           },
           "bgcolor": "#E5ECF6",
           "radialaxis": {
            "gridcolor": "white",
            "linecolor": "white",
            "ticks": ""
           }
          },
          "scene": {
           "xaxis": {
            "backgroundcolor": "#E5ECF6",
            "gridcolor": "white",
            "gridwidth": 2,
            "linecolor": "white",
            "showbackground": true,
            "ticks": "",
            "zerolinecolor": "white"
           },
           "yaxis": {
            "backgroundcolor": "#E5ECF6",
            "gridcolor": "white",
            "gridwidth": 2,
            "linecolor": "white",
            "showbackground": true,
            "ticks": "",
            "zerolinecolor": "white"
           },
           "zaxis": {
            "backgroundcolor": "#E5ECF6",
            "gridcolor": "white",
            "gridwidth": 2,
            "linecolor": "white",
            "showbackground": true,
            "ticks": "",
            "zerolinecolor": "white"
           }
          },
          "shapedefaults": {
           "line": {
            "color": "#2a3f5f"
           }
          },
          "ternary": {
           "aaxis": {
            "gridcolor": "white",
            "linecolor": "white",
            "ticks": ""
           },
           "baxis": {
            "gridcolor": "white",
            "linecolor": "white",
            "ticks": ""
           },
           "bgcolor": "#E5ECF6",
           "caxis": {
            "gridcolor": "white",
            "linecolor": "white",
            "ticks": ""
           }
          },
          "title": {
           "x": 0.05
          },
          "xaxis": {
           "automargin": true,
           "gridcolor": "white",
           "linecolor": "white",
           "ticks": "",
           "title": {
            "standoff": 15
           },
           "zerolinecolor": "white",
           "zerolinewidth": 2
          },
          "yaxis": {
           "automargin": true,
           "gridcolor": "white",
           "linecolor": "white",
           "ticks": "",
           "title": {
            "standoff": 15
           },
           "zerolinecolor": "white",
           "zerolinewidth": 2
          }
         }
        },
        "title": {
         "text": "Box Plot <b>JumlahKeterlambatanSebulanTerakhir</b>"
        },
        "width": 700,
        "xaxis": {
         "anchor": "y",
         "domain": [
          0,
          1
         ],
         "showgrid": false,
         "title": {
          "text": "Total"
         }
        },
        "yaxis": {
         "anchor": "x",
         "domain": [
          0,
          1
         ],
         "showgrid": false,
         "title": {}
        }
       }
      }
     },
     "metadata": {},
     "output_type": "display_data"
    },
    {
     "data": {
      "application/vnd.plotly.v1+json": {
       "config": {
        "plotlyServerURL": "https://plot.ly"
       },
       "data": [
        {
         "alignmentgroup": "True",
         "hovertemplate": "value=%{x}<br>variable=%{y}<extra></extra>",
         "legendgroup": "",
         "marker": {
          "color": "#ff9e00"
         },
         "name": "",
         "notched": false,
         "offsetgroup": "",
         "orientation": "h",
         "showlegend": false,
         "type": "box",
         "x": [
          9,
          3,
          11,
          6,
          11,
          10,
          19,
          4,
          5,
          4,
          3,
          2,
          50,
          12,
          3,
          null,
          12,
          11,
          17,
          9,
          15,
          null,
          7,
          19,
          3,
          13,
          15,
          15,
          16,
          null,
          14,
          4,
          15,
          7,
          2,
          20,
          19,
          7,
          15,
          19,
          13,
          4,
          12,
          4,
          16,
          18,
          17,
          6,
          18,
          19,
          2,
          1,
          7,
          null,
          null,
          10,
          8,
          3,
          14,
          11,
          6,
          20,
          18,
          14,
          6,
          4,
          7,
          null,
          6,
          9,
          2,
          3,
          5,
          7,
          8,
          2,
          4,
          4,
          19,
          4,
          9,
          3,
          3,
          6,
          16,
          7,
          2,
          14,
          15,
          6,
          2,
          9,
          17,
          9,
          10,
          9,
          19,
          15,
          17,
          17,
          14,
          18,
          20,
          2,
          14,
          1,
          20,
          8,
          10,
          1,
          16,
          16,
          15,
          2,
          6,
          55,
          6,
          7,
          15,
          11,
          17,
          8,
          14,
          5,
          19,
          9,
          8,
          3,
          4,
          6,
          6,
          9,
          1,
          4,
          16,
          16,
          2,
          14,
          7,
          15,
          11,
          13,
          12,
          2,
          17,
          16,
          16,
          20,
          11,
          8,
          20,
          1,
          18,
          4,
          16,
          15,
          19,
          7,
          12,
          14,
          5,
          9,
          20,
          14,
          19,
          13,
          13,
          7,
          14,
          3,
          11,
          6,
          8,
          19,
          18,
          10,
          1,
          3,
          19,
          16,
          1,
          13,
          10,
          6,
          2,
          1,
          14,
          10,
          7,
          4,
          3,
          18,
          7,
          17,
          20,
          2,
          2,
          1,
          8,
          2,
          13,
          1,
          2,
          9,
          12,
          14,
          7,
          17,
          13,
          3,
          20,
          5,
          5,
          1,
          4,
          17,
          2,
          5,
          8,
          8,
          11,
          6,
          14,
          1,
          1,
          15,
          19,
          4,
          20,
          15,
          15,
          16,
          13,
          4,
          19,
          6,
          9,
          6,
          17,
          2,
          7,
          17,
          5,
          3,
          4,
          3,
          2,
          4,
          20,
          15,
          16,
          17,
          5,
          13,
          14,
          12,
          19,
          15,
          20,
          11,
          10,
          16,
          16,
          1,
          13,
          4,
          15,
          13,
          3,
          7,
          10,
          4,
          11,
          10,
          7,
          14,
          13,
          13,
          15,
          13,
          16,
          15,
          16,
          11,
          17,
          20,
          2
         ],
         "x0": " ",
         "xaxis": "x",
         "y": [
          "JumlahKetidakhadiran",
          "JumlahKetidakhadiran",
          "JumlahKetidakhadiran",
          "JumlahKetidakhadiran",
          "JumlahKetidakhadiran",
          "JumlahKetidakhadiran",
          "JumlahKetidakhadiran",
          "JumlahKetidakhadiran",
          "JumlahKetidakhadiran",
          "JumlahKetidakhadiran",
          "JumlahKetidakhadiran",
          "JumlahKetidakhadiran",
          "JumlahKetidakhadiran",
          "JumlahKetidakhadiran",
          "JumlahKetidakhadiran",
          "JumlahKetidakhadiran",
          "JumlahKetidakhadiran",
          "JumlahKetidakhadiran",
          "JumlahKetidakhadiran",
          "JumlahKetidakhadiran",
          "JumlahKetidakhadiran",
          "JumlahKetidakhadiran",
          "JumlahKetidakhadiran",
          "JumlahKetidakhadiran",
          "JumlahKetidakhadiran",
          "JumlahKetidakhadiran",
          "JumlahKetidakhadiran",
          "JumlahKetidakhadiran",
          "JumlahKetidakhadiran",
          "JumlahKetidakhadiran",
          "JumlahKetidakhadiran",
          "JumlahKetidakhadiran",
          "JumlahKetidakhadiran",
          "JumlahKetidakhadiran",
          "JumlahKetidakhadiran",
          "JumlahKetidakhadiran",
          "JumlahKetidakhadiran",
          "JumlahKetidakhadiran",
          "JumlahKetidakhadiran",
          "JumlahKetidakhadiran",
          "JumlahKetidakhadiran",
          "JumlahKetidakhadiran",
          "JumlahKetidakhadiran",
          "JumlahKetidakhadiran",
          "JumlahKetidakhadiran",
          "JumlahKetidakhadiran",
          "JumlahKetidakhadiran",
          "JumlahKetidakhadiran",
          "JumlahKetidakhadiran",
          "JumlahKetidakhadiran",
          "JumlahKetidakhadiran",
          "JumlahKetidakhadiran",
          "JumlahKetidakhadiran",
          "JumlahKetidakhadiran",
          "JumlahKetidakhadiran",
          "JumlahKetidakhadiran",
          "JumlahKetidakhadiran",
          "JumlahKetidakhadiran",
          "JumlahKetidakhadiran",
          "JumlahKetidakhadiran",
          "JumlahKetidakhadiran",
          "JumlahKetidakhadiran",
          "JumlahKetidakhadiran",
          "JumlahKetidakhadiran",
          "JumlahKetidakhadiran",
          "JumlahKetidakhadiran",
          "JumlahKetidakhadiran",
          "JumlahKetidakhadiran",
          "JumlahKetidakhadiran",
          "JumlahKetidakhadiran",
          "JumlahKetidakhadiran",
          "JumlahKetidakhadiran",
          "JumlahKetidakhadiran",
          "JumlahKetidakhadiran",
          "JumlahKetidakhadiran",
          "JumlahKetidakhadiran",
          "JumlahKetidakhadiran",
          "JumlahKetidakhadiran",
          "JumlahKetidakhadiran",
          "JumlahKetidakhadiran",
          "JumlahKetidakhadiran",
          "JumlahKetidakhadiran",
          "JumlahKetidakhadiran",
          "JumlahKetidakhadiran",
          "JumlahKetidakhadiran",
          "JumlahKetidakhadiran",
          "JumlahKetidakhadiran",
          "JumlahKetidakhadiran",
          "JumlahKetidakhadiran",
          "JumlahKetidakhadiran",
          "JumlahKetidakhadiran",
          "JumlahKetidakhadiran",
          "JumlahKetidakhadiran",
          "JumlahKetidakhadiran",
          "JumlahKetidakhadiran",
          "JumlahKetidakhadiran",
          "JumlahKetidakhadiran",
          "JumlahKetidakhadiran",
          "JumlahKetidakhadiran",
          "JumlahKetidakhadiran",
          "JumlahKetidakhadiran",
          "JumlahKetidakhadiran",
          "JumlahKetidakhadiran",
          "JumlahKetidakhadiran",
          "JumlahKetidakhadiran",
          "JumlahKetidakhadiran",
          "JumlahKetidakhadiran",
          "JumlahKetidakhadiran",
          "JumlahKetidakhadiran",
          "JumlahKetidakhadiran",
          "JumlahKetidakhadiran",
          "JumlahKetidakhadiran",
          "JumlahKetidakhadiran",
          "JumlahKetidakhadiran",
          "JumlahKetidakhadiran",
          "JumlahKetidakhadiran",
          "JumlahKetidakhadiran",
          "JumlahKetidakhadiran",
          "JumlahKetidakhadiran",
          "JumlahKetidakhadiran",
          "JumlahKetidakhadiran",
          "JumlahKetidakhadiran",
          "JumlahKetidakhadiran",
          "JumlahKetidakhadiran",
          "JumlahKetidakhadiran",
          "JumlahKetidakhadiran",
          "JumlahKetidakhadiran",
          "JumlahKetidakhadiran",
          "JumlahKetidakhadiran",
          "JumlahKetidakhadiran",
          "JumlahKetidakhadiran",
          "JumlahKetidakhadiran",
          "JumlahKetidakhadiran",
          "JumlahKetidakhadiran",
          "JumlahKetidakhadiran",
          "JumlahKetidakhadiran",
          "JumlahKetidakhadiran",
          "JumlahKetidakhadiran",
          "JumlahKetidakhadiran",
          "JumlahKetidakhadiran",
          "JumlahKetidakhadiran",
          "JumlahKetidakhadiran",
          "JumlahKetidakhadiran",
          "JumlahKetidakhadiran",
          "JumlahKetidakhadiran",
          "JumlahKetidakhadiran",
          "JumlahKetidakhadiran",
          "JumlahKetidakhadiran",
          "JumlahKetidakhadiran",
          "JumlahKetidakhadiran",
          "JumlahKetidakhadiran",
          "JumlahKetidakhadiran",
          "JumlahKetidakhadiran",
          "JumlahKetidakhadiran",
          "JumlahKetidakhadiran",
          "JumlahKetidakhadiran",
          "JumlahKetidakhadiran",
          "JumlahKetidakhadiran",
          "JumlahKetidakhadiran",
          "JumlahKetidakhadiran",
          "JumlahKetidakhadiran",
          "JumlahKetidakhadiran",
          "JumlahKetidakhadiran",
          "JumlahKetidakhadiran",
          "JumlahKetidakhadiran",
          "JumlahKetidakhadiran",
          "JumlahKetidakhadiran",
          "JumlahKetidakhadiran",
          "JumlahKetidakhadiran",
          "JumlahKetidakhadiran",
          "JumlahKetidakhadiran",
          "JumlahKetidakhadiran",
          "JumlahKetidakhadiran",
          "JumlahKetidakhadiran",
          "JumlahKetidakhadiran",
          "JumlahKetidakhadiran",
          "JumlahKetidakhadiran",
          "JumlahKetidakhadiran",
          "JumlahKetidakhadiran",
          "JumlahKetidakhadiran",
          "JumlahKetidakhadiran",
          "JumlahKetidakhadiran",
          "JumlahKetidakhadiran",
          "JumlahKetidakhadiran",
          "JumlahKetidakhadiran",
          "JumlahKetidakhadiran",
          "JumlahKetidakhadiran",
          "JumlahKetidakhadiran",
          "JumlahKetidakhadiran",
          "JumlahKetidakhadiran",
          "JumlahKetidakhadiran",
          "JumlahKetidakhadiran",
          "JumlahKetidakhadiran",
          "JumlahKetidakhadiran",
          "JumlahKetidakhadiran",
          "JumlahKetidakhadiran",
          "JumlahKetidakhadiran",
          "JumlahKetidakhadiran",
          "JumlahKetidakhadiran",
          "JumlahKetidakhadiran",
          "JumlahKetidakhadiran",
          "JumlahKetidakhadiran",
          "JumlahKetidakhadiran",
          "JumlahKetidakhadiran",
          "JumlahKetidakhadiran",
          "JumlahKetidakhadiran",
          "JumlahKetidakhadiran",
          "JumlahKetidakhadiran",
          "JumlahKetidakhadiran",
          "JumlahKetidakhadiran",
          "JumlahKetidakhadiran",
          "JumlahKetidakhadiran",
          "JumlahKetidakhadiran",
          "JumlahKetidakhadiran",
          "JumlahKetidakhadiran",
          "JumlahKetidakhadiran",
          "JumlahKetidakhadiran",
          "JumlahKetidakhadiran",
          "JumlahKetidakhadiran",
          "JumlahKetidakhadiran",
          "JumlahKetidakhadiran",
          "JumlahKetidakhadiran",
          "JumlahKetidakhadiran",
          "JumlahKetidakhadiran",
          "JumlahKetidakhadiran",
          "JumlahKetidakhadiran",
          "JumlahKetidakhadiran",
          "JumlahKetidakhadiran",
          "JumlahKetidakhadiran",
          "JumlahKetidakhadiran",
          "JumlahKetidakhadiran",
          "JumlahKetidakhadiran",
          "JumlahKetidakhadiran",
          "JumlahKetidakhadiran",
          "JumlahKetidakhadiran",
          "JumlahKetidakhadiran",
          "JumlahKetidakhadiran",
          "JumlahKetidakhadiran",
          "JumlahKetidakhadiran",
          "JumlahKetidakhadiran",
          "JumlahKetidakhadiran",
          "JumlahKetidakhadiran",
          "JumlahKetidakhadiran",
          "JumlahKetidakhadiran",
          "JumlahKetidakhadiran",
          "JumlahKetidakhadiran",
          "JumlahKetidakhadiran",
          "JumlahKetidakhadiran",
          "JumlahKetidakhadiran",
          "JumlahKetidakhadiran",
          "JumlahKetidakhadiran",
          "JumlahKetidakhadiran",
          "JumlahKetidakhadiran",
          "JumlahKetidakhadiran",
          "JumlahKetidakhadiran",
          "JumlahKetidakhadiran",
          "JumlahKetidakhadiran",
          "JumlahKetidakhadiran",
          "JumlahKetidakhadiran",
          "JumlahKetidakhadiran",
          "JumlahKetidakhadiran",
          "JumlahKetidakhadiran",
          "JumlahKetidakhadiran",
          "JumlahKetidakhadiran",
          "JumlahKetidakhadiran",
          "JumlahKetidakhadiran",
          "JumlahKetidakhadiran",
          "JumlahKetidakhadiran",
          "JumlahKetidakhadiran",
          "JumlahKetidakhadiran",
          "JumlahKetidakhadiran",
          "JumlahKetidakhadiran",
          "JumlahKetidakhadiran",
          "JumlahKetidakhadiran",
          "JumlahKetidakhadiran",
          "JumlahKetidakhadiran",
          "JumlahKetidakhadiran",
          "JumlahKetidakhadiran",
          "JumlahKetidakhadiran",
          "JumlahKetidakhadiran",
          "JumlahKetidakhadiran",
          "JumlahKetidakhadiran",
          "JumlahKetidakhadiran",
          "JumlahKetidakhadiran",
          "JumlahKetidakhadiran",
          "JumlahKetidakhadiran",
          "JumlahKetidakhadiran"
         ],
         "y0": " ",
         "yaxis": "y"
        }
       ],
       "layout": {
        "boxmode": "group",
        "height": 300,
        "legend": {
         "tracegroupgap": 0
        },
        "margin": {
         "t": 60
        },
        "template": {
         "data": {
          "bar": [
           {
            "error_x": {
             "color": "#2a3f5f"
            },
            "error_y": {
             "color": "#2a3f5f"
            },
            "marker": {
             "line": {
              "color": "#E5ECF6",
              "width": 0.5
             },
             "pattern": {
              "fillmode": "overlay",
              "size": 10,
              "solidity": 0.2
             }
            },
            "type": "bar"
           }
          ],
          "barpolar": [
           {
            "marker": {
             "line": {
              "color": "#E5ECF6",
              "width": 0.5
             },
             "pattern": {
              "fillmode": "overlay",
              "size": 10,
              "solidity": 0.2
             }
            },
            "type": "barpolar"
           }
          ],
          "carpet": [
           {
            "aaxis": {
             "endlinecolor": "#2a3f5f",
             "gridcolor": "white",
             "linecolor": "white",
             "minorgridcolor": "white",
             "startlinecolor": "#2a3f5f"
            },
            "baxis": {
             "endlinecolor": "#2a3f5f",
             "gridcolor": "white",
             "linecolor": "white",
             "minorgridcolor": "white",
             "startlinecolor": "#2a3f5f"
            },
            "type": "carpet"
           }
          ],
          "choropleth": [
           {
            "colorbar": {
             "outlinewidth": 0,
             "ticks": ""
            },
            "type": "choropleth"
           }
          ],
          "contour": [
           {
            "colorbar": {
             "outlinewidth": 0,
             "ticks": ""
            },
            "colorscale": [
             [
              0,
              "#0d0887"
             ],
             [
              0.1111111111111111,
              "#46039f"
             ],
             [
              0.2222222222222222,
              "#7201a8"
             ],
             [
              0.3333333333333333,
              "#9c179e"
             ],
             [
              0.4444444444444444,
              "#bd3786"
             ],
             [
              0.5555555555555556,
              "#d8576b"
             ],
             [
              0.6666666666666666,
              "#ed7953"
             ],
             [
              0.7777777777777778,
              "#fb9f3a"
             ],
             [
              0.8888888888888888,
              "#fdca26"
             ],
             [
              1,
              "#f0f921"
             ]
            ],
            "type": "contour"
           }
          ],
          "contourcarpet": [
           {
            "colorbar": {
             "outlinewidth": 0,
             "ticks": ""
            },
            "type": "contourcarpet"
           }
          ],
          "heatmap": [
           {
            "colorbar": {
             "outlinewidth": 0,
             "ticks": ""
            },
            "colorscale": [
             [
              0,
              "#0d0887"
             ],
             [
              0.1111111111111111,
              "#46039f"
             ],
             [
              0.2222222222222222,
              "#7201a8"
             ],
             [
              0.3333333333333333,
              "#9c179e"
             ],
             [
              0.4444444444444444,
              "#bd3786"
             ],
             [
              0.5555555555555556,
              "#d8576b"
             ],
             [
              0.6666666666666666,
              "#ed7953"
             ],
             [
              0.7777777777777778,
              "#fb9f3a"
             ],
             [
              0.8888888888888888,
              "#fdca26"
             ],
             [
              1,
              "#f0f921"
             ]
            ],
            "type": "heatmap"
           }
          ],
          "heatmapgl": [
           {
            "colorbar": {
             "outlinewidth": 0,
             "ticks": ""
            },
            "colorscale": [
             [
              0,
              "#0d0887"
             ],
             [
              0.1111111111111111,
              "#46039f"
             ],
             [
              0.2222222222222222,
              "#7201a8"
             ],
             [
              0.3333333333333333,
              "#9c179e"
             ],
             [
              0.4444444444444444,
              "#bd3786"
             ],
             [
              0.5555555555555556,
              "#d8576b"
             ],
             [
              0.6666666666666666,
              "#ed7953"
             ],
             [
              0.7777777777777778,
              "#fb9f3a"
             ],
             [
              0.8888888888888888,
              "#fdca26"
             ],
             [
              1,
              "#f0f921"
             ]
            ],
            "type": "heatmapgl"
           }
          ],
          "histogram": [
           {
            "marker": {
             "pattern": {
              "fillmode": "overlay",
              "size": 10,
              "solidity": 0.2
             }
            },
            "type": "histogram"
           }
          ],
          "histogram2d": [
           {
            "colorbar": {
             "outlinewidth": 0,
             "ticks": ""
            },
            "colorscale": [
             [
              0,
              "#0d0887"
             ],
             [
              0.1111111111111111,
              "#46039f"
             ],
             [
              0.2222222222222222,
              "#7201a8"
             ],
             [
              0.3333333333333333,
              "#9c179e"
             ],
             [
              0.4444444444444444,
              "#bd3786"
             ],
             [
              0.5555555555555556,
              "#d8576b"
             ],
             [
              0.6666666666666666,
              "#ed7953"
             ],
             [
              0.7777777777777778,
              "#fb9f3a"
             ],
             [
              0.8888888888888888,
              "#fdca26"
             ],
             [
              1,
              "#f0f921"
             ]
            ],
            "type": "histogram2d"
           }
          ],
          "histogram2dcontour": [
           {
            "colorbar": {
             "outlinewidth": 0,
             "ticks": ""
            },
            "colorscale": [
             [
              0,
              "#0d0887"
             ],
             [
              0.1111111111111111,
              "#46039f"
             ],
             [
              0.2222222222222222,
              "#7201a8"
             ],
             [
              0.3333333333333333,
              "#9c179e"
             ],
             [
              0.4444444444444444,
              "#bd3786"
             ],
             [
              0.5555555555555556,
              "#d8576b"
             ],
             [
              0.6666666666666666,
              "#ed7953"
             ],
             [
              0.7777777777777778,
              "#fb9f3a"
             ],
             [
              0.8888888888888888,
              "#fdca26"
             ],
             [
              1,
              "#f0f921"
             ]
            ],
            "type": "histogram2dcontour"
           }
          ],
          "mesh3d": [
           {
            "colorbar": {
             "outlinewidth": 0,
             "ticks": ""
            },
            "type": "mesh3d"
           }
          ],
          "parcoords": [
           {
            "line": {
             "colorbar": {
              "outlinewidth": 0,
              "ticks": ""
             }
            },
            "type": "parcoords"
           }
          ],
          "pie": [
           {
            "automargin": true,
            "type": "pie"
           }
          ],
          "scatter": [
           {
            "fillpattern": {
             "fillmode": "overlay",
             "size": 10,
             "solidity": 0.2
            },
            "type": "scatter"
           }
          ],
          "scatter3d": [
           {
            "line": {
             "colorbar": {
              "outlinewidth": 0,
              "ticks": ""
             }
            },
            "marker": {
             "colorbar": {
              "outlinewidth": 0,
              "ticks": ""
             }
            },
            "type": "scatter3d"
           }
          ],
          "scattercarpet": [
           {
            "marker": {
             "colorbar": {
              "outlinewidth": 0,
              "ticks": ""
             }
            },
            "type": "scattercarpet"
           }
          ],
          "scattergeo": [
           {
            "marker": {
             "colorbar": {
              "outlinewidth": 0,
              "ticks": ""
             }
            },
            "type": "scattergeo"
           }
          ],
          "scattergl": [
           {
            "marker": {
             "colorbar": {
              "outlinewidth": 0,
              "ticks": ""
             }
            },
            "type": "scattergl"
           }
          ],
          "scattermapbox": [
           {
            "marker": {
             "colorbar": {
              "outlinewidth": 0,
              "ticks": ""
             }
            },
            "type": "scattermapbox"
           }
          ],
          "scatterpolar": [
           {
            "marker": {
             "colorbar": {
              "outlinewidth": 0,
              "ticks": ""
             }
            },
            "type": "scatterpolar"
           }
          ],
          "scatterpolargl": [
           {
            "marker": {
             "colorbar": {
              "outlinewidth": 0,
              "ticks": ""
             }
            },
            "type": "scatterpolargl"
           }
          ],
          "scatterternary": [
           {
            "marker": {
             "colorbar": {
              "outlinewidth": 0,
              "ticks": ""
             }
            },
            "type": "scatterternary"
           }
          ],
          "surface": [
           {
            "colorbar": {
             "outlinewidth": 0,
             "ticks": ""
            },
            "colorscale": [
             [
              0,
              "#0d0887"
             ],
             [
              0.1111111111111111,
              "#46039f"
             ],
             [
              0.2222222222222222,
              "#7201a8"
             ],
             [
              0.3333333333333333,
              "#9c179e"
             ],
             [
              0.4444444444444444,
              "#bd3786"
             ],
             [
              0.5555555555555556,
              "#d8576b"
             ],
             [
              0.6666666666666666,
              "#ed7953"
             ],
             [
              0.7777777777777778,
              "#fb9f3a"
             ],
             [
              0.8888888888888888,
              "#fdca26"
             ],
             [
              1,
              "#f0f921"
             ]
            ],
            "type": "surface"
           }
          ],
          "table": [
           {
            "cells": {
             "fill": {
              "color": "#EBF0F8"
             },
             "line": {
              "color": "white"
             }
            },
            "header": {
             "fill": {
              "color": "#C8D4E3"
             },
             "line": {
              "color": "white"
             }
            },
            "type": "table"
           }
          ]
         },
         "layout": {
          "annotationdefaults": {
           "arrowcolor": "#2a3f5f",
           "arrowhead": 0,
           "arrowwidth": 1
          },
          "autotypenumbers": "strict",
          "coloraxis": {
           "colorbar": {
            "outlinewidth": 0,
            "ticks": ""
           }
          },
          "colorscale": {
           "diverging": [
            [
             0,
             "#8e0152"
            ],
            [
             0.1,
             "#c51b7d"
            ],
            [
             0.2,
             "#de77ae"
            ],
            [
             0.3,
             "#f1b6da"
            ],
            [
             0.4,
             "#fde0ef"
            ],
            [
             0.5,
             "#f7f7f7"
            ],
            [
             0.6,
             "#e6f5d0"
            ],
            [
             0.7,
             "#b8e186"
            ],
            [
             0.8,
             "#7fbc41"
            ],
            [
             0.9,
             "#4d9221"
            ],
            [
             1,
             "#276419"
            ]
           ],
           "sequential": [
            [
             0,
             "#0d0887"
            ],
            [
             0.1111111111111111,
             "#46039f"
            ],
            [
             0.2222222222222222,
             "#7201a8"
            ],
            [
             0.3333333333333333,
             "#9c179e"
            ],
            [
             0.4444444444444444,
             "#bd3786"
            ],
            [
             0.5555555555555556,
             "#d8576b"
            ],
            [
             0.6666666666666666,
             "#ed7953"
            ],
            [
             0.7777777777777778,
             "#fb9f3a"
            ],
            [
             0.8888888888888888,
             "#fdca26"
            ],
            [
             1,
             "#f0f921"
            ]
           ],
           "sequentialminus": [
            [
             0,
             "#0d0887"
            ],
            [
             0.1111111111111111,
             "#46039f"
            ],
            [
             0.2222222222222222,
             "#7201a8"
            ],
            [
             0.3333333333333333,
             "#9c179e"
            ],
            [
             0.4444444444444444,
             "#bd3786"
            ],
            [
             0.5555555555555556,
             "#d8576b"
            ],
            [
             0.6666666666666666,
             "#ed7953"
            ],
            [
             0.7777777777777778,
             "#fb9f3a"
            ],
            [
             0.8888888888888888,
             "#fdca26"
            ],
            [
             1,
             "#f0f921"
            ]
           ]
          },
          "colorway": [
           "#636efa",
           "#EF553B",
           "#00cc96",
           "#ab63fa",
           "#FFA15A",
           "#19d3f3",
           "#FF6692",
           "#B6E880",
           "#FF97FF",
           "#FECB52"
          ],
          "font": {
           "color": "#2a3f5f"
          },
          "geo": {
           "bgcolor": "white",
           "lakecolor": "white",
           "landcolor": "#E5ECF6",
           "showlakes": true,
           "showland": true,
           "subunitcolor": "white"
          },
          "hoverlabel": {
           "align": "left"
          },
          "hovermode": "closest",
          "mapbox": {
           "style": "light"
          },
          "paper_bgcolor": "white",
          "plot_bgcolor": "#E5ECF6",
          "polar": {
           "angularaxis": {
            "gridcolor": "white",
            "linecolor": "white",
            "ticks": ""
           },
           "bgcolor": "#E5ECF6",
           "radialaxis": {
            "gridcolor": "white",
            "linecolor": "white",
            "ticks": ""
           }
          },
          "scene": {
           "xaxis": {
            "backgroundcolor": "#E5ECF6",
            "gridcolor": "white",
            "gridwidth": 2,
            "linecolor": "white",
            "showbackground": true,
            "ticks": "",
            "zerolinecolor": "white"
           },
           "yaxis": {
            "backgroundcolor": "#E5ECF6",
            "gridcolor": "white",
            "gridwidth": 2,
            "linecolor": "white",
            "showbackground": true,
            "ticks": "",
            "zerolinecolor": "white"
           },
           "zaxis": {
            "backgroundcolor": "#E5ECF6",
            "gridcolor": "white",
            "gridwidth": 2,
            "linecolor": "white",
            "showbackground": true,
            "ticks": "",
            "zerolinecolor": "white"
           }
          },
          "shapedefaults": {
           "line": {
            "color": "#2a3f5f"
           }
          },
          "ternary": {
           "aaxis": {
            "gridcolor": "white",
            "linecolor": "white",
            "ticks": ""
           },
           "baxis": {
            "gridcolor": "white",
            "linecolor": "white",
            "ticks": ""
           },
           "bgcolor": "#E5ECF6",
           "caxis": {
            "gridcolor": "white",
            "linecolor": "white",
            "ticks": ""
           }
          },
          "title": {
           "x": 0.05
          },
          "xaxis": {
           "automargin": true,
           "gridcolor": "white",
           "linecolor": "white",
           "ticks": "",
           "title": {
            "standoff": 15
           },
           "zerolinecolor": "white",
           "zerolinewidth": 2
          },
          "yaxis": {
           "automargin": true,
           "gridcolor": "white",
           "linecolor": "white",
           "ticks": "",
           "title": {
            "standoff": 15
           },
           "zerolinecolor": "white",
           "zerolinewidth": 2
          }
         }
        },
        "title": {
         "text": "Box Plot <b>JumlahKetidakhadiran</b>"
        },
        "width": 700,
        "xaxis": {
         "anchor": "y",
         "domain": [
          0,
          1
         ],
         "showgrid": false,
         "title": {
          "text": "Total"
         }
        },
        "yaxis": {
         "anchor": "x",
         "domain": [
          0,
          1
         ],
         "showgrid": false,
         "title": {}
        }
       }
      }
     },
     "metadata": {},
     "output_type": "display_data"
    },
    {
     "data": {
      "application/vnd.plotly.v1+json": {
       "config": {
        "plotlyServerURL": "https://plot.ly"
       },
       "data": [
        {
         "alignmentgroup": "True",
         "hovertemplate": "value=%{x}<br>variable=%{y}<extra></extra>",
         "legendgroup": "",
         "marker": {
          "color": "#9d4edd"
         },
         "name": "",
         "notched": false,
         "offsetgroup": "",
         "orientation": "h",
         "showlegend": false,
         "type": "box",
         "x": [
          1,
          1,
          1,
          0,
          0,
          0,
          null,
          null,
          null,
          null,
          1,
          null,
          null,
          null,
          null,
          null,
          null,
          null,
          1,
          null,
          null,
          null,
          null,
          null,
          null,
          null,
          null,
          null,
          null,
          null,
          null,
          null,
          null,
          null,
          null,
          null,
          null,
          null,
          null,
          null,
          null,
          null,
          1,
          0,
          null,
          null,
          null,
          null,
          null,
          null,
          null,
          null,
          null,
          null,
          null,
          0,
          null,
          null,
          null,
          null,
          null,
          null,
          null,
          null,
          null,
          null,
          null,
          null,
          null,
          0,
          null,
          null,
          null,
          null,
          null,
          null,
          null,
          null,
          null,
          null,
          null,
          null,
          null,
          null,
          null,
          null,
          null,
          null,
          null,
          null,
          null,
          null,
          null,
          null,
          null,
          null,
          null,
          null,
          null,
          null,
          null,
          null,
          null,
          null,
          0,
          null,
          null,
          null,
          0,
          null,
          null,
          null,
          null,
          null,
          null,
          null,
          null,
          0,
          null,
          null,
          null,
          null,
          null,
          null,
          null,
          null,
          null,
          null,
          null,
          null,
          null,
          null,
          null,
          null,
          null,
          null,
          null,
          null,
          null,
          null,
          null,
          null,
          null,
          null,
          null,
          null,
          null,
          null,
          null,
          null,
          null,
          null,
          null,
          null,
          null,
          null,
          null,
          null,
          null,
          1,
          null,
          null,
          null,
          null,
          null,
          null,
          null,
          0,
          1,
          0,
          1,
          0,
          1,
          1,
          1,
          1,
          1,
          null,
          null,
          null,
          null,
          null,
          null,
          null,
          null,
          null,
          null,
          null,
          null,
          null,
          null,
          null,
          null,
          null,
          null,
          null,
          null,
          null,
          null,
          null,
          null,
          null,
          null,
          null,
          null,
          null,
          null,
          null,
          null,
          null,
          null,
          null,
          null,
          null,
          null,
          null,
          null,
          null,
          null,
          null,
          null,
          null,
          null,
          null,
          null,
          null,
          null,
          null,
          null,
          null,
          null,
          null,
          null,
          null,
          null,
          null,
          null,
          null,
          null,
          null,
          null,
          null,
          null,
          null,
          null,
          null,
          null,
          null,
          null,
          null,
          null,
          null,
          null,
          null,
          null,
          0,
          null,
          null,
          null,
          null,
          null,
          null,
          null,
          null,
          null,
          null,
          null,
          null,
          null,
          null,
          null,
          null,
          null,
          null,
          null,
          null,
          null,
          null,
          null,
          null,
          null,
          null,
          null,
          null,
          1,
          0,
          null
         ],
         "x0": " ",
         "xaxis": "x",
         "y": [
          "IkutProgramLOP",
          "IkutProgramLOP",
          "IkutProgramLOP",
          "IkutProgramLOP",
          "IkutProgramLOP",
          "IkutProgramLOP",
          "IkutProgramLOP",
          "IkutProgramLOP",
          "IkutProgramLOP",
          "IkutProgramLOP",
          "IkutProgramLOP",
          "IkutProgramLOP",
          "IkutProgramLOP",
          "IkutProgramLOP",
          "IkutProgramLOP",
          "IkutProgramLOP",
          "IkutProgramLOP",
          "IkutProgramLOP",
          "IkutProgramLOP",
          "IkutProgramLOP",
          "IkutProgramLOP",
          "IkutProgramLOP",
          "IkutProgramLOP",
          "IkutProgramLOP",
          "IkutProgramLOP",
          "IkutProgramLOP",
          "IkutProgramLOP",
          "IkutProgramLOP",
          "IkutProgramLOP",
          "IkutProgramLOP",
          "IkutProgramLOP",
          "IkutProgramLOP",
          "IkutProgramLOP",
          "IkutProgramLOP",
          "IkutProgramLOP",
          "IkutProgramLOP",
          "IkutProgramLOP",
          "IkutProgramLOP",
          "IkutProgramLOP",
          "IkutProgramLOP",
          "IkutProgramLOP",
          "IkutProgramLOP",
          "IkutProgramLOP",
          "IkutProgramLOP",
          "IkutProgramLOP",
          "IkutProgramLOP",
          "IkutProgramLOP",
          "IkutProgramLOP",
          "IkutProgramLOP",
          "IkutProgramLOP",
          "IkutProgramLOP",
          "IkutProgramLOP",
          "IkutProgramLOP",
          "IkutProgramLOP",
          "IkutProgramLOP",
          "IkutProgramLOP",
          "IkutProgramLOP",
          "IkutProgramLOP",
          "IkutProgramLOP",
          "IkutProgramLOP",
          "IkutProgramLOP",
          "IkutProgramLOP",
          "IkutProgramLOP",
          "IkutProgramLOP",
          "IkutProgramLOP",
          "IkutProgramLOP",
          "IkutProgramLOP",
          "IkutProgramLOP",
          "IkutProgramLOP",
          "IkutProgramLOP",
          "IkutProgramLOP",
          "IkutProgramLOP",
          "IkutProgramLOP",
          "IkutProgramLOP",
          "IkutProgramLOP",
          "IkutProgramLOP",
          "IkutProgramLOP",
          "IkutProgramLOP",
          "IkutProgramLOP",
          "IkutProgramLOP",
          "IkutProgramLOP",
          "IkutProgramLOP",
          "IkutProgramLOP",
          "IkutProgramLOP",
          "IkutProgramLOP",
          "IkutProgramLOP",
          "IkutProgramLOP",
          "IkutProgramLOP",
          "IkutProgramLOP",
          "IkutProgramLOP",
          "IkutProgramLOP",
          "IkutProgramLOP",
          "IkutProgramLOP",
          "IkutProgramLOP",
          "IkutProgramLOP",
          "IkutProgramLOP",
          "IkutProgramLOP",
          "IkutProgramLOP",
          "IkutProgramLOP",
          "IkutProgramLOP",
          "IkutProgramLOP",
          "IkutProgramLOP",
          "IkutProgramLOP",
          "IkutProgramLOP",
          "IkutProgramLOP",
          "IkutProgramLOP",
          "IkutProgramLOP",
          "IkutProgramLOP",
          "IkutProgramLOP",
          "IkutProgramLOP",
          "IkutProgramLOP",
          "IkutProgramLOP",
          "IkutProgramLOP",
          "IkutProgramLOP",
          "IkutProgramLOP",
          "IkutProgramLOP",
          "IkutProgramLOP",
          "IkutProgramLOP",
          "IkutProgramLOP",
          "IkutProgramLOP",
          "IkutProgramLOP",
          "IkutProgramLOP",
          "IkutProgramLOP",
          "IkutProgramLOP",
          "IkutProgramLOP",
          "IkutProgramLOP",
          "IkutProgramLOP",
          "IkutProgramLOP",
          "IkutProgramLOP",
          "IkutProgramLOP",
          "IkutProgramLOP",
          "IkutProgramLOP",
          "IkutProgramLOP",
          "IkutProgramLOP",
          "IkutProgramLOP",
          "IkutProgramLOP",
          "IkutProgramLOP",
          "IkutProgramLOP",
          "IkutProgramLOP",
          "IkutProgramLOP",
          "IkutProgramLOP",
          "IkutProgramLOP",
          "IkutProgramLOP",
          "IkutProgramLOP",
          "IkutProgramLOP",
          "IkutProgramLOP",
          "IkutProgramLOP",
          "IkutProgramLOP",
          "IkutProgramLOP",
          "IkutProgramLOP",
          "IkutProgramLOP",
          "IkutProgramLOP",
          "IkutProgramLOP",
          "IkutProgramLOP",
          "IkutProgramLOP",
          "IkutProgramLOP",
          "IkutProgramLOP",
          "IkutProgramLOP",
          "IkutProgramLOP",
          "IkutProgramLOP",
          "IkutProgramLOP",
          "IkutProgramLOP",
          "IkutProgramLOP",
          "IkutProgramLOP",
          "IkutProgramLOP",
          "IkutProgramLOP",
          "IkutProgramLOP",
          "IkutProgramLOP",
          "IkutProgramLOP",
          "IkutProgramLOP",
          "IkutProgramLOP",
          "IkutProgramLOP",
          "IkutProgramLOP",
          "IkutProgramLOP",
          "IkutProgramLOP",
          "IkutProgramLOP",
          "IkutProgramLOP",
          "IkutProgramLOP",
          "IkutProgramLOP",
          "IkutProgramLOP",
          "IkutProgramLOP",
          "IkutProgramLOP",
          "IkutProgramLOP",
          "IkutProgramLOP",
          "IkutProgramLOP",
          "IkutProgramLOP",
          "IkutProgramLOP",
          "IkutProgramLOP",
          "IkutProgramLOP",
          "IkutProgramLOP",
          "IkutProgramLOP",
          "IkutProgramLOP",
          "IkutProgramLOP",
          "IkutProgramLOP",
          "IkutProgramLOP",
          "IkutProgramLOP",
          "IkutProgramLOP",
          "IkutProgramLOP",
          "IkutProgramLOP",
          "IkutProgramLOP",
          "IkutProgramLOP",
          "IkutProgramLOP",
          "IkutProgramLOP",
          "IkutProgramLOP",
          "IkutProgramLOP",
          "IkutProgramLOP",
          "IkutProgramLOP",
          "IkutProgramLOP",
          "IkutProgramLOP",
          "IkutProgramLOP",
          "IkutProgramLOP",
          "IkutProgramLOP",
          "IkutProgramLOP",
          "IkutProgramLOP",
          "IkutProgramLOP",
          "IkutProgramLOP",
          "IkutProgramLOP",
          "IkutProgramLOP",
          "IkutProgramLOP",
          "IkutProgramLOP",
          "IkutProgramLOP",
          "IkutProgramLOP",
          "IkutProgramLOP",
          "IkutProgramLOP",
          "IkutProgramLOP",
          "IkutProgramLOP",
          "IkutProgramLOP",
          "IkutProgramLOP",
          "IkutProgramLOP",
          "IkutProgramLOP",
          "IkutProgramLOP",
          "IkutProgramLOP",
          "IkutProgramLOP",
          "IkutProgramLOP",
          "IkutProgramLOP",
          "IkutProgramLOP",
          "IkutProgramLOP",
          "IkutProgramLOP",
          "IkutProgramLOP",
          "IkutProgramLOP",
          "IkutProgramLOP",
          "IkutProgramLOP",
          "IkutProgramLOP",
          "IkutProgramLOP",
          "IkutProgramLOP",
          "IkutProgramLOP",
          "IkutProgramLOP",
          "IkutProgramLOP",
          "IkutProgramLOP",
          "IkutProgramLOP",
          "IkutProgramLOP",
          "IkutProgramLOP",
          "IkutProgramLOP",
          "IkutProgramLOP",
          "IkutProgramLOP",
          "IkutProgramLOP",
          "IkutProgramLOP",
          "IkutProgramLOP",
          "IkutProgramLOP",
          "IkutProgramLOP",
          "IkutProgramLOP",
          "IkutProgramLOP",
          "IkutProgramLOP",
          "IkutProgramLOP",
          "IkutProgramLOP",
          "IkutProgramLOP",
          "IkutProgramLOP",
          "IkutProgramLOP",
          "IkutProgramLOP",
          "IkutProgramLOP",
          "IkutProgramLOP",
          "IkutProgramLOP",
          "IkutProgramLOP",
          "IkutProgramLOP",
          "IkutProgramLOP",
          "IkutProgramLOP",
          "IkutProgramLOP",
          "IkutProgramLOP",
          "IkutProgramLOP",
          "IkutProgramLOP",
          "IkutProgramLOP",
          "IkutProgramLOP",
          "IkutProgramLOP",
          "IkutProgramLOP",
          "IkutProgramLOP",
          "IkutProgramLOP",
          "IkutProgramLOP"
         ],
         "y0": " ",
         "yaxis": "y"
        }
       ],
       "layout": {
        "boxmode": "group",
        "height": 300,
        "legend": {
         "tracegroupgap": 0
        },
        "margin": {
         "t": 60
        },
        "template": {
         "data": {
          "bar": [
           {
            "error_x": {
             "color": "#2a3f5f"
            },
            "error_y": {
             "color": "#2a3f5f"
            },
            "marker": {
             "line": {
              "color": "#E5ECF6",
              "width": 0.5
             },
             "pattern": {
              "fillmode": "overlay",
              "size": 10,
              "solidity": 0.2
             }
            },
            "type": "bar"
           }
          ],
          "barpolar": [
           {
            "marker": {
             "line": {
              "color": "#E5ECF6",
              "width": 0.5
             },
             "pattern": {
              "fillmode": "overlay",
              "size": 10,
              "solidity": 0.2
             }
            },
            "type": "barpolar"
           }
          ],
          "carpet": [
           {
            "aaxis": {
             "endlinecolor": "#2a3f5f",
             "gridcolor": "white",
             "linecolor": "white",
             "minorgridcolor": "white",
             "startlinecolor": "#2a3f5f"
            },
            "baxis": {
             "endlinecolor": "#2a3f5f",
             "gridcolor": "white",
             "linecolor": "white",
             "minorgridcolor": "white",
             "startlinecolor": "#2a3f5f"
            },
            "type": "carpet"
           }
          ],
          "choropleth": [
           {
            "colorbar": {
             "outlinewidth": 0,
             "ticks": ""
            },
            "type": "choropleth"
           }
          ],
          "contour": [
           {
            "colorbar": {
             "outlinewidth": 0,
             "ticks": ""
            },
            "colorscale": [
             [
              0,
              "#0d0887"
             ],
             [
              0.1111111111111111,
              "#46039f"
             ],
             [
              0.2222222222222222,
              "#7201a8"
             ],
             [
              0.3333333333333333,
              "#9c179e"
             ],
             [
              0.4444444444444444,
              "#bd3786"
             ],
             [
              0.5555555555555556,
              "#d8576b"
             ],
             [
              0.6666666666666666,
              "#ed7953"
             ],
             [
              0.7777777777777778,
              "#fb9f3a"
             ],
             [
              0.8888888888888888,
              "#fdca26"
             ],
             [
              1,
              "#f0f921"
             ]
            ],
            "type": "contour"
           }
          ],
          "contourcarpet": [
           {
            "colorbar": {
             "outlinewidth": 0,
             "ticks": ""
            },
            "type": "contourcarpet"
           }
          ],
          "heatmap": [
           {
            "colorbar": {
             "outlinewidth": 0,
             "ticks": ""
            },
            "colorscale": [
             [
              0,
              "#0d0887"
             ],
             [
              0.1111111111111111,
              "#46039f"
             ],
             [
              0.2222222222222222,
              "#7201a8"
             ],
             [
              0.3333333333333333,
              "#9c179e"
             ],
             [
              0.4444444444444444,
              "#bd3786"
             ],
             [
              0.5555555555555556,
              "#d8576b"
             ],
             [
              0.6666666666666666,
              "#ed7953"
             ],
             [
              0.7777777777777778,
              "#fb9f3a"
             ],
             [
              0.8888888888888888,
              "#fdca26"
             ],
             [
              1,
              "#f0f921"
             ]
            ],
            "type": "heatmap"
           }
          ],
          "heatmapgl": [
           {
            "colorbar": {
             "outlinewidth": 0,
             "ticks": ""
            },
            "colorscale": [
             [
              0,
              "#0d0887"
             ],
             [
              0.1111111111111111,
              "#46039f"
             ],
             [
              0.2222222222222222,
              "#7201a8"
             ],
             [
              0.3333333333333333,
              "#9c179e"
             ],
             [
              0.4444444444444444,
              "#bd3786"
             ],
             [
              0.5555555555555556,
              "#d8576b"
             ],
             [
              0.6666666666666666,
              "#ed7953"
             ],
             [
              0.7777777777777778,
              "#fb9f3a"
             ],
             [
              0.8888888888888888,
              "#fdca26"
             ],
             [
              1,
              "#f0f921"
             ]
            ],
            "type": "heatmapgl"
           }
          ],
          "histogram": [
           {
            "marker": {
             "pattern": {
              "fillmode": "overlay",
              "size": 10,
              "solidity": 0.2
             }
            },
            "type": "histogram"
           }
          ],
          "histogram2d": [
           {
            "colorbar": {
             "outlinewidth": 0,
             "ticks": ""
            },
            "colorscale": [
             [
              0,
              "#0d0887"
             ],
             [
              0.1111111111111111,
              "#46039f"
             ],
             [
              0.2222222222222222,
              "#7201a8"
             ],
             [
              0.3333333333333333,
              "#9c179e"
             ],
             [
              0.4444444444444444,
              "#bd3786"
             ],
             [
              0.5555555555555556,
              "#d8576b"
             ],
             [
              0.6666666666666666,
              "#ed7953"
             ],
             [
              0.7777777777777778,
              "#fb9f3a"
             ],
             [
              0.8888888888888888,
              "#fdca26"
             ],
             [
              1,
              "#f0f921"
             ]
            ],
            "type": "histogram2d"
           }
          ],
          "histogram2dcontour": [
           {
            "colorbar": {
             "outlinewidth": 0,
             "ticks": ""
            },
            "colorscale": [
             [
              0,
              "#0d0887"
             ],
             [
              0.1111111111111111,
              "#46039f"
             ],
             [
              0.2222222222222222,
              "#7201a8"
             ],
             [
              0.3333333333333333,
              "#9c179e"
             ],
             [
              0.4444444444444444,
              "#bd3786"
             ],
             [
              0.5555555555555556,
              "#d8576b"
             ],
             [
              0.6666666666666666,
              "#ed7953"
             ],
             [
              0.7777777777777778,
              "#fb9f3a"
             ],
             [
              0.8888888888888888,
              "#fdca26"
             ],
             [
              1,
              "#f0f921"
             ]
            ],
            "type": "histogram2dcontour"
           }
          ],
          "mesh3d": [
           {
            "colorbar": {
             "outlinewidth": 0,
             "ticks": ""
            },
            "type": "mesh3d"
           }
          ],
          "parcoords": [
           {
            "line": {
             "colorbar": {
              "outlinewidth": 0,
              "ticks": ""
             }
            },
            "type": "parcoords"
           }
          ],
          "pie": [
           {
            "automargin": true,
            "type": "pie"
           }
          ],
          "scatter": [
           {
            "fillpattern": {
             "fillmode": "overlay",
             "size": 10,
             "solidity": 0.2
            },
            "type": "scatter"
           }
          ],
          "scatter3d": [
           {
            "line": {
             "colorbar": {
              "outlinewidth": 0,
              "ticks": ""
             }
            },
            "marker": {
             "colorbar": {
              "outlinewidth": 0,
              "ticks": ""
             }
            },
            "type": "scatter3d"
           }
          ],
          "scattercarpet": [
           {
            "marker": {
             "colorbar": {
              "outlinewidth": 0,
              "ticks": ""
             }
            },
            "type": "scattercarpet"
           }
          ],
          "scattergeo": [
           {
            "marker": {
             "colorbar": {
              "outlinewidth": 0,
              "ticks": ""
             }
            },
            "type": "scattergeo"
           }
          ],
          "scattergl": [
           {
            "marker": {
             "colorbar": {
              "outlinewidth": 0,
              "ticks": ""
             }
            },
            "type": "scattergl"
           }
          ],
          "scattermapbox": [
           {
            "marker": {
             "colorbar": {
              "outlinewidth": 0,
              "ticks": ""
             }
            },
            "type": "scattermapbox"
           }
          ],
          "scatterpolar": [
           {
            "marker": {
             "colorbar": {
              "outlinewidth": 0,
              "ticks": ""
             }
            },
            "type": "scatterpolar"
           }
          ],
          "scatterpolargl": [
           {
            "marker": {
             "colorbar": {
              "outlinewidth": 0,
              "ticks": ""
             }
            },
            "type": "scatterpolargl"
           }
          ],
          "scatterternary": [
           {
            "marker": {
             "colorbar": {
              "outlinewidth": 0,
              "ticks": ""
             }
            },
            "type": "scatterternary"
           }
          ],
          "surface": [
           {
            "colorbar": {
             "outlinewidth": 0,
             "ticks": ""
            },
            "colorscale": [
             [
              0,
              "#0d0887"
             ],
             [
              0.1111111111111111,
              "#46039f"
             ],
             [
              0.2222222222222222,
              "#7201a8"
             ],
             [
              0.3333333333333333,
              "#9c179e"
             ],
             [
              0.4444444444444444,
              "#bd3786"
             ],
             [
              0.5555555555555556,
              "#d8576b"
             ],
             [
              0.6666666666666666,
              "#ed7953"
             ],
             [
              0.7777777777777778,
              "#fb9f3a"
             ],
             [
              0.8888888888888888,
              "#fdca26"
             ],
             [
              1,
              "#f0f921"
             ]
            ],
            "type": "surface"
           }
          ],
          "table": [
           {
            "cells": {
             "fill": {
              "color": "#EBF0F8"
             },
             "line": {
              "color": "white"
             }
            },
            "header": {
             "fill": {
              "color": "#C8D4E3"
             },
             "line": {
              "color": "white"
             }
            },
            "type": "table"
           }
          ]
         },
         "layout": {
          "annotationdefaults": {
           "arrowcolor": "#2a3f5f",
           "arrowhead": 0,
           "arrowwidth": 1
          },
          "autotypenumbers": "strict",
          "coloraxis": {
           "colorbar": {
            "outlinewidth": 0,
            "ticks": ""
           }
          },
          "colorscale": {
           "diverging": [
            [
             0,
             "#8e0152"
            ],
            [
             0.1,
             "#c51b7d"
            ],
            [
             0.2,
             "#de77ae"
            ],
            [
             0.3,
             "#f1b6da"
            ],
            [
             0.4,
             "#fde0ef"
            ],
            [
             0.5,
             "#f7f7f7"
            ],
            [
             0.6,
             "#e6f5d0"
            ],
            [
             0.7,
             "#b8e186"
            ],
            [
             0.8,
             "#7fbc41"
            ],
            [
             0.9,
             "#4d9221"
            ],
            [
             1,
             "#276419"
            ]
           ],
           "sequential": [
            [
             0,
             "#0d0887"
            ],
            [
             0.1111111111111111,
             "#46039f"
            ],
            [
             0.2222222222222222,
             "#7201a8"
            ],
            [
             0.3333333333333333,
             "#9c179e"
            ],
            [
             0.4444444444444444,
             "#bd3786"
            ],
            [
             0.5555555555555556,
             "#d8576b"
            ],
            [
             0.6666666666666666,
             "#ed7953"
            ],
            [
             0.7777777777777778,
             "#fb9f3a"
            ],
            [
             0.8888888888888888,
             "#fdca26"
            ],
            [
             1,
             "#f0f921"
            ]
           ],
           "sequentialminus": [
            [
             0,
             "#0d0887"
            ],
            [
             0.1111111111111111,
             "#46039f"
            ],
            [
             0.2222222222222222,
             "#7201a8"
            ],
            [
             0.3333333333333333,
             "#9c179e"
            ],
            [
             0.4444444444444444,
             "#bd3786"
            ],
            [
             0.5555555555555556,
             "#d8576b"
            ],
            [
             0.6666666666666666,
             "#ed7953"
            ],
            [
             0.7777777777777778,
             "#fb9f3a"
            ],
            [
             0.8888888888888888,
             "#fdca26"
            ],
            [
             1,
             "#f0f921"
            ]
           ]
          },
          "colorway": [
           "#636efa",
           "#EF553B",
           "#00cc96",
           "#ab63fa",
           "#FFA15A",
           "#19d3f3",
           "#FF6692",
           "#B6E880",
           "#FF97FF",
           "#FECB52"
          ],
          "font": {
           "color": "#2a3f5f"
          },
          "geo": {
           "bgcolor": "white",
           "lakecolor": "white",
           "landcolor": "#E5ECF6",
           "showlakes": true,
           "showland": true,
           "subunitcolor": "white"
          },
          "hoverlabel": {
           "align": "left"
          },
          "hovermode": "closest",
          "mapbox": {
           "style": "light"
          },
          "paper_bgcolor": "white",
          "plot_bgcolor": "#E5ECF6",
          "polar": {
           "angularaxis": {
            "gridcolor": "white",
            "linecolor": "white",
            "ticks": ""
           },
           "bgcolor": "#E5ECF6",
           "radialaxis": {
            "gridcolor": "white",
            "linecolor": "white",
            "ticks": ""
           }
          },
          "scene": {
           "xaxis": {
            "backgroundcolor": "#E5ECF6",
            "gridcolor": "white",
            "gridwidth": 2,
            "linecolor": "white",
            "showbackground": true,
            "ticks": "",
            "zerolinecolor": "white"
           },
           "yaxis": {
            "backgroundcolor": "#E5ECF6",
            "gridcolor": "white",
            "gridwidth": 2,
            "linecolor": "white",
            "showbackground": true,
            "ticks": "",
            "zerolinecolor": "white"
           },
           "zaxis": {
            "backgroundcolor": "#E5ECF6",
            "gridcolor": "white",
            "gridwidth": 2,
            "linecolor": "white",
            "showbackground": true,
            "ticks": "",
            "zerolinecolor": "white"
           }
          },
          "shapedefaults": {
           "line": {
            "color": "#2a3f5f"
           }
          },
          "ternary": {
           "aaxis": {
            "gridcolor": "white",
            "linecolor": "white",
            "ticks": ""
           },
           "baxis": {
            "gridcolor": "white",
            "linecolor": "white",
            "ticks": ""
           },
           "bgcolor": "#E5ECF6",
           "caxis": {
            "gridcolor": "white",
            "linecolor": "white",
            "ticks": ""
           }
          },
          "title": {
           "x": 0.05
          },
          "xaxis": {
           "automargin": true,
           "gridcolor": "white",
           "linecolor": "white",
           "ticks": "",
           "title": {
            "standoff": 15
           },
           "zerolinecolor": "white",
           "zerolinewidth": 2
          },
          "yaxis": {
           "automargin": true,
           "gridcolor": "white",
           "linecolor": "white",
           "ticks": "",
           "title": {
            "standoff": 15
           },
           "zerolinecolor": "white",
           "zerolinewidth": 2
          }
         }
        },
        "title": {
         "text": "Box Plot <b>IkutProgramLOP</b>"
        },
        "width": 700,
        "xaxis": {
         "anchor": "y",
         "domain": [
          0,
          1
         ],
         "showgrid": false,
         "title": {
          "text": "Total"
         }
        },
        "yaxis": {
         "anchor": "x",
         "domain": [
          0,
          1
         ],
         "showgrid": false,
         "title": {}
        }
       }
      }
     },
     "metadata": {},
     "output_type": "display_data"
    }
   ],
   "source": [
    "# Pilih kolom dengan tipe data numerik saja\n",
    "col_numeric = [\n",
    "            'SkorSurveyEngagement',\n",
    "            'SkorKepuasanPegawai',\n",
    "            'JumlahKeikutsertaanProjek',\n",
    "            'JumlahKeterlambatanSebulanTerakhir',\n",
    "            'JumlahKetidakhadiran',\n",
    "            'IkutProgramLOP'\n",
    "            ]\n",
    "# Definisikan warna yang digunakan\n",
    "color = ['#ff6d00', '#9d4edd', '#ff9e00', '#9d4edd', '#ff9e00', '#9d4edd']\n",
    "\n",
    "for i in range(len(col_numeric)):\n",
    "    # Create the horizontal box plot\n",
    "    fig = px.box(\n",
    "        df[col_numeric[i]],\n",
    "        orientation = 'h',\n",
    "        width=700,\n",
    "        height=300,\n",
    "        color_discrete_sequence  = [color[i]]\n",
    "    )\n",
    "\n",
    "    # Update layout and display the plot\n",
    "    fig.update_layout(\n",
    "        title = f'Box Plot <b>{col_numeric[i]}</b>',\n",
    "        yaxis = dict(\n",
    "            title    = None,\n",
    "            showgrid = False,\n",
    "        ),\n",
    "        xaxis = dict(\n",
    "            title    = 'Total',\n",
    "            showgrid = False,\n",
    "        )\n",
    "    )\n",
    "\n",
    "    fig.show()"
   ]
  },
  {
   "cell_type": "markdown",
   "metadata": {},
   "source": [
    "## **Correlation**"
   ]
  },
  {
   "cell_type": "code",
   "execution_count": 11,
   "metadata": {},
   "outputs": [
    {
     "data": {
      "image/png": "[encoded data removed]",
      "text/plain": [
       "<Figure size 900x700 with 2 Axes>"
      ]
     },
     "metadata": {},
     "output_type": "display_data"
    }
   ],
   "source": [
    "plt.figure(figsize=(9, 7))\n",
    "sns.heatmap(df.corr(numeric_only=True), cmap='coolwarm', annot=True, fmt='.3f')\n",
    "plt.show()"
   ]
  },
  {
   "cell_type": "code",
   "execution_count": 12,
   "metadata": {},
   "outputs": [],
   "source": [
    "cats = df.select_dtypes(include=['object']).columns.tolist()"
   ]
  },
  {
   "cell_type": "code",
   "execution_count": 13,
   "metadata": {},
   "outputs": [
    {
     "data": {
      "image/png": "[encoded data removed]",
      "text/plain": [
       "<Figure size 1000x3000 with 15 Axes>"
      ]
     },
     "metadata": {},
     "output_type": "display_data"
    }
   ],
   "source": [
    "plt.figure(figsize=(10, 30))\n",
    "num_plots = len(cats)\n",
    "num_cols = 1\n",
    "num_rows = math.ceil(num_plots / num_cols)\n",
    "\n",
    "for i in range(num_plots):\n",
    "    plt.subplot(num_rows, num_cols, i + 1)\n",
    "    sns.countplot(x=df[cats[i]], palette = 'icefire')\n",
    "    \n",
    "plt.tight_layout()\n",
    "plt.show()"
   ]
  },
  {
   "cell_type": "markdown",
   "metadata": {},
   "source": [
    "# Ubah data type tanggal dari object ke datetime"
   ]
  },
  {
   "cell_type": "code",
   "execution_count": 14,
   "metadata": {},
   "outputs": [],
   "source": [
    "df_nan_alasan = df.copy()\n",
    "\n",
    "# ubah value '-' menjadi nan supaya bisa diubah type datanya\n",
    "df_nan_alasan = df_nan_alasan.replace('-',np.nan)\n",
    "\n",
    "df_nan_alasan['TanggalResign'] = pd.to_datetime(df_nan_alasan['TanggalResign'])\n",
    "df_nan_alasan['TanggalHiring'] = pd.to_datetime(df_nan_alasan['TanggalHiring'])\n",
    "df_nan_alasan['TanggalPenilaianKaryawan'] = pd.to_datetime(df_nan_alasan['TanggalPenilaianKaryawan'])\n",
    "df_nan_alasan['TanggalLahir'] = pd.to_datetime(df_nan_alasan['TanggalLahir'])\n",
    "\n",
    "df_nan_alasan['TahunResign'] = df_nan_alasan['TanggalResign'].dt.year\n",
    "df_nan_alasan['TahunHiring'] = df_nan_alasan['TanggalHiring'].dt.year\n",
    "df_nan_alasan['TahunPenilaianKaryawan'] = df_nan_alasan['TanggalPenilaianKaryawan'].dt.year\n",
    "df_nan_alasan['TahunLahir'] = df_nan_alasan['TanggalLahir'].dt.year\n",
    "\n",
    "df_nan_alasan['Umur'] = 2021 - df_nan_alasan['TahunLahir']"
   ]
  },
  {
   "cell_type": "markdown",
   "metadata": {},
   "source": [
    "# Tambah fitur baru dari tanggal resign dikurang dengan tanggal masuk pada tahap selanjutnya"
   ]
  },
  {
   "cell_type": "code",
   "execution_count": 15,
   "metadata": {},
   "outputs": [
    {
     "data": {
      "text/html": [
       "<style type=\"text/css\">\n",
       "#T_5bd11_row0_col0, #T_5bd11_row0_col1, #T_5bd11_row12_col1 {\n",
       "  background-color: #f7fcf5;\n",
       "  color: #000000;\n",
       "}\n",
       "#T_5bd11_row1_col0 {\n",
       "  background-color: #ebf7e7;\n",
       "  color: #000000;\n",
       "}\n",
       "#T_5bd11_row1_col1, #T_5bd11_row2_col1 {\n",
       "  background-color: #f5fbf3;\n",
       "  color: #000000;\n",
       "}\n",
       "#T_5bd11_row2_col0 {\n",
       "  background-color: #dbf1d6;\n",
       "  color: #000000;\n",
       "}\n",
       "#T_5bd11_row3_col0 {\n",
       "  background-color: #c7e9c0;\n",
       "  color: #000000;\n",
       "}\n",
       "#T_5bd11_row3_col1 {\n",
       "  background-color: #ecf8e8;\n",
       "  color: #000000;\n",
       "}\n",
       "#T_5bd11_row4_col0 {\n",
       "  background-color: #aedea7;\n",
       "  color: #000000;\n",
       "}\n",
       "#T_5bd11_row4_col1 {\n",
       "  background-color: #eaf7e6;\n",
       "  color: #000000;\n",
       "}\n",
       "#T_5bd11_row5_col0 {\n",
       "  background-color: #92d28f;\n",
       "  color: #000000;\n",
       "}\n",
       "#T_5bd11_row5_col1, #T_5bd11_row12_col0 {\n",
       "  background-color: #00441b;\n",
       "  color: #f1f1f1;\n",
       "}\n",
       "#T_5bd11_row6_col0 {\n",
       "  background-color: #73c476;\n",
       "  color: #000000;\n",
       "}\n",
       "#T_5bd11_row6_col1 {\n",
       "  background-color: #66bd6f;\n",
       "  color: #f1f1f1;\n",
       "}\n",
       "#T_5bd11_row7_col0 {\n",
       "  background-color: #52b365;\n",
       "  color: #f1f1f1;\n",
       "}\n",
       "#T_5bd11_row7_col1 {\n",
       "  background-color: #5bb86a;\n",
       "  color: #f1f1f1;\n",
       "}\n",
       "#T_5bd11_row8_col0 {\n",
       "  background-color: #37a055;\n",
       "  color: #f1f1f1;\n",
       "}\n",
       "#T_5bd11_row8_col1 {\n",
       "  background-color: #278f48;\n",
       "  color: #f1f1f1;\n",
       "}\n",
       "#T_5bd11_row9_col0 {\n",
       "  background-color: #228a44;\n",
       "  color: #f1f1f1;\n",
       "}\n",
       "#T_5bd11_row9_col1 {\n",
       "  background-color: #98d594;\n",
       "  color: #000000;\n",
       "}\n",
       "#T_5bd11_row10_col0 {\n",
       "  background-color: #0b7734;\n",
       "  color: #f1f1f1;\n",
       "}\n",
       "#T_5bd11_row10_col1 {\n",
       "  background-color: #daf0d4;\n",
       "  color: #000000;\n",
       "}\n",
       "#T_5bd11_row11_col0 {\n",
       "  background-color: #005f26;\n",
       "  color: #f1f1f1;\n",
       "}\n",
       "#T_5bd11_row11_col1 {\n",
       "  background-color: #f0f9ec;\n",
       "  color: #000000;\n",
       "}\n",
       "</style>\n",
       "<table id=\"T_5bd11\">\n",
       "  <thead>\n",
       "    <tr>\n",
       "      <th class=\"blank level0\" >&nbsp;</th>\n",
       "      <th id=\"T_5bd11_level0_col0\" class=\"col_heading level0 col0\" >Tahun</th>\n",
       "      <th id=\"T_5bd11_level0_col1\" class=\"col_heading level0 col1\" >Hiring</th>\n",
       "    </tr>\n",
       "  </thead>\n",
       "  <tbody>\n",
       "    <tr>\n",
       "      <th id=\"T_5bd11_level0_row0\" class=\"row_heading level0 row0\" >0</th>\n",
       "      <td id=\"T_5bd11_row0_col0\" class=\"data row0 col0\" >2006</td>\n",
       "      <td id=\"T_5bd11_row0_col1\" class=\"data row0 col1\" >1</td>\n",
       "    </tr>\n",
       "    <tr>\n",
       "      <th id=\"T_5bd11_level0_row1\" class=\"row_heading level0 row1\" >1</th>\n",
       "      <td id=\"T_5bd11_row1_col0\" class=\"data row1 col0\" >2007</td>\n",
       "      <td id=\"T_5bd11_row1_col1\" class=\"data row1 col1\" >2</td>\n",
       "    </tr>\n",
       "    <tr>\n",
       "      <th id=\"T_5bd11_level0_row2\" class=\"row_heading level0 row2\" >2</th>\n",
       "      <td id=\"T_5bd11_row2_col0\" class=\"data row2 col0\" >2008</td>\n",
       "      <td id=\"T_5bd11_row2_col1\" class=\"data row2 col1\" >2</td>\n",
       "    </tr>\n",
       "    <tr>\n",
       "      <th id=\"T_5bd11_level0_row3\" class=\"row_heading level0 row3\" >3</th>\n",
       "      <td id=\"T_5bd11_row3_col0\" class=\"data row3 col0\" >2009</td>\n",
       "      <td id=\"T_5bd11_row3_col1\" class=\"data row3 col1\" >7</td>\n",
       "    </tr>\n",
       "    <tr>\n",
       "      <th id=\"T_5bd11_level0_row4\" class=\"row_heading level0 row4\" >4</th>\n",
       "      <td id=\"T_5bd11_row4_col0\" class=\"data row4 col0\" >2010</td>\n",
       "      <td id=\"T_5bd11_row4_col1\" class=\"data row4 col1\" >8</td>\n",
       "    </tr>\n",
       "    <tr>\n",
       "      <th id=\"T_5bd11_level0_row5\" class=\"row_heading level0 row5\" >5</th>\n",
       "      <td id=\"T_5bd11_row5_col0\" class=\"data row5 col0\" >2011</td>\n",
       "      <td id=\"T_5bd11_row5_col1\" class=\"data row5 col1\" >76</td>\n",
       "    </tr>\n",
       "    <tr>\n",
       "      <th id=\"T_5bd11_level0_row6\" class=\"row_heading level0 row6\" >6</th>\n",
       "      <td id=\"T_5bd11_row6_col0\" class=\"data row6 col0\" >2012</td>\n",
       "      <td id=\"T_5bd11_row6_col1\" class=\"data row6 col1\" >41</td>\n",
       "    </tr>\n",
       "    <tr>\n",
       "      <th id=\"T_5bd11_level0_row7\" class=\"row_heading level0 row7\" >7</th>\n",
       "      <td id=\"T_5bd11_row7_col0\" class=\"data row7 col0\" >2013</td>\n",
       "      <td id=\"T_5bd11_row7_col1\" class=\"data row7 col1\" >43</td>\n",
       "    </tr>\n",
       "    <tr>\n",
       "      <th id=\"T_5bd11_level0_row8\" class=\"row_heading level0 row8\" >8</th>\n",
       "      <td id=\"T_5bd11_row8_col0\" class=\"data row8 col0\" >2014</td>\n",
       "      <td id=\"T_5bd11_row8_col1\" class=\"data row8 col1\" >56</td>\n",
       "    </tr>\n",
       "    <tr>\n",
       "      <th id=\"T_5bd11_level0_row9\" class=\"row_heading level0 row9\" >9</th>\n",
       "      <td id=\"T_5bd11_row9_col0\" class=\"data row9 col0\" >2015</td>\n",
       "      <td id=\"T_5bd11_row9_col1\" class=\"data row9 col1\" >31</td>\n",
       "    </tr>\n",
       "    <tr>\n",
       "      <th id=\"T_5bd11_level0_row10\" class=\"row_heading level0 row10\" >10</th>\n",
       "      <td id=\"T_5bd11_row10_col0\" class=\"data row10 col0\" >2016</td>\n",
       "      <td id=\"T_5bd11_row10_col1\" class=\"data row10 col1\" >14</td>\n",
       "    </tr>\n",
       "    <tr>\n",
       "      <th id=\"T_5bd11_level0_row11\" class=\"row_heading level0 row11\" >11</th>\n",
       "      <td id=\"T_5bd11_row11_col0\" class=\"data row11 col0\" >2017</td>\n",
       "      <td id=\"T_5bd11_row11_col1\" class=\"data row11 col1\" >5</td>\n",
       "    </tr>\n",
       "    <tr>\n",
       "      <th id=\"T_5bd11_level0_row12\" class=\"row_heading level0 row12\" >12</th>\n",
       "      <td id=\"T_5bd11_row12_col0\" class=\"data row12 col0\" >2018</td>\n",
       "      <td id=\"T_5bd11_row12_col1\" class=\"data row12 col1\" >1</td>\n",
       "    </tr>\n",
       "  </tbody>\n",
       "</table>\n"
      ],
      "text/plain": [
       "<pandas.io.formats.style.Styler at 0x188b34ebad0>"
      ]
     },
     "execution_count": 15,
     "metadata": {},
     "output_type": "execute_result"
    }
   ],
   "source": [
    "df_hiring = df_nan_alasan.groupby(['TahunHiring'])['TanggalLahir'].count().reset_index()\n",
    "df_hiring.columns = (['Tahun','Hiring'])\n",
    "df_hiring.style.background_gradient(cmap='Greens')"
   ]
  },
  {
   "cell_type": "markdown",
   "metadata": {},
   "source": [
    "# **Exploratory Data Analysis (EDA)**"
   ]
  },
  {
   "cell_type": "markdown",
   "metadata": {},
   "source": [
    "# ** Perusahaan banyak menghire pegawai di tahun 2011 sebanyak 76 pegawai, diikuti di tahun 2014 sebanyak 56 pegawai"
   ]
  },
  {
   "cell_type": "code",
   "execution_count": 16,
   "metadata": {},
   "outputs": [
    {
     "data": {
      "text/html": [
       "<style type=\"text/css\">\n",
       "#T_5dac2_row0_col0, #T_5dac2_row0_col1 {\n",
       "  background-color: #f7fcf5;\n",
       "  color: #000000;\n",
       "}\n",
       "#T_5dac2_row1_col0 {\n",
       "  background-color: #e7f6e3;\n",
       "  color: #000000;\n",
       "}\n",
       "#T_5dac2_row1_col1 {\n",
       "  background-color: #f6fcf4;\n",
       "  color: #000000;\n",
       "}\n",
       "#T_5dac2_row2_col0 {\n",
       "  background-color: #ceecc8;\n",
       "  color: #000000;\n",
       "}\n",
       "#T_5dac2_row2_col1, #T_5dac2_row7_col1, #T_5dac2_row8_col1 {\n",
       "  background-color: #f1faee;\n",
       "  color: #000000;\n",
       "}\n",
       "#T_5dac2_row3_col0 {\n",
       "  background-color: #aedea7;\n",
       "  color: #000000;\n",
       "}\n",
       "#T_5dac2_row3_col1 {\n",
       "  background-color: #ebf7e7;\n",
       "  color: #000000;\n",
       "}\n",
       "#T_5dac2_row4_col0 {\n",
       "  background-color: #88ce87;\n",
       "  color: #000000;\n",
       "}\n",
       "#T_5dac2_row4_col1 {\n",
       "  background-color: #f3faf0;\n",
       "  color: #000000;\n",
       "}\n",
       "#T_5dac2_row5_col0 {\n",
       "  background-color: #5db96b;\n",
       "  color: #f1f1f1;\n",
       "}\n",
       "#T_5dac2_row5_col1 {\n",
       "  background-color: #e9f7e5;\n",
       "  color: #000000;\n",
       "}\n",
       "#T_5dac2_row6_col0 {\n",
       "  background-color: #37a055;\n",
       "  color: #f1f1f1;\n",
       "}\n",
       "#T_5dac2_row6_col1 {\n",
       "  background-color: #ecf8e8;\n",
       "  color: #000000;\n",
       "}\n",
       "#T_5dac2_row7_col0 {\n",
       "  background-color: #1a843f;\n",
       "  color: #f1f1f1;\n",
       "}\n",
       "#T_5dac2_row8_col0 {\n",
       "  background-color: #00682a;\n",
       "  color: #f1f1f1;\n",
       "}\n",
       "#T_5dac2_row9_col0, #T_5dac2_row9_col1 {\n",
       "  background-color: #00441b;\n",
       "  color: #f1f1f1;\n",
       "}\n",
       "</style>\n",
       "<table id=\"T_5dac2\">\n",
       "  <thead>\n",
       "    <tr>\n",
       "      <th class=\"blank level0\" >&nbsp;</th>\n",
       "      <th id=\"T_5dac2_level0_col0\" class=\"col_heading level0 col0\" >Tahun</th>\n",
       "      <th id=\"T_5dac2_level0_col1\" class=\"col_heading level0 col1\" >Penilaian</th>\n",
       "    </tr>\n",
       "  </thead>\n",
       "  <tbody>\n",
       "    <tr>\n",
       "      <th id=\"T_5dac2_level0_row0\" class=\"row_heading level0 row0\" >0</th>\n",
       "      <td id=\"T_5dac2_row0_col0\" class=\"data row0 col0\" >2011</td>\n",
       "      <td id=\"T_5dac2_row0_col1\" class=\"data row0 col1\" >1</td>\n",
       "    </tr>\n",
       "    <tr>\n",
       "      <th id=\"T_5dac2_level0_row1\" class=\"row_heading level0 row1\" >1</th>\n",
       "      <td id=\"T_5dac2_row1_col0\" class=\"data row1 col0\" >2012</td>\n",
       "      <td id=\"T_5dac2_row1_col1\" class=\"data row1 col1\" >3</td>\n",
       "    </tr>\n",
       "    <tr>\n",
       "      <th id=\"T_5dac2_level0_row2\" class=\"row_heading level0 row2\" >2</th>\n",
       "      <td id=\"T_5dac2_row2_col0\" class=\"data row2 col0\" >2013</td>\n",
       "      <td id=\"T_5dac2_row2_col1\" class=\"data row2 col1\" >10</td>\n",
       "    </tr>\n",
       "    <tr>\n",
       "      <th id=\"T_5dac2_level0_row3\" class=\"row_heading level0 row3\" >3</th>\n",
       "      <td id=\"T_5dac2_row3_col0\" class=\"data row3 col0\" >2014</td>\n",
       "      <td id=\"T_5dac2_row3_col1\" class=\"data row3 col1\" >17</td>\n",
       "    </tr>\n",
       "    <tr>\n",
       "      <th id=\"T_5dac2_level0_row4\" class=\"row_heading level0 row4\" >4</th>\n",
       "      <td id=\"T_5dac2_row4_col0\" class=\"data row4 col0\" >2015</td>\n",
       "      <td id=\"T_5dac2_row4_col1\" class=\"data row4 col1\" >7</td>\n",
       "    </tr>\n",
       "    <tr>\n",
       "      <th id=\"T_5dac2_level0_row5\" class=\"row_heading level0 row5\" >5</th>\n",
       "      <td id=\"T_5dac2_row5_col0\" class=\"data row5 col0\" >2016</td>\n",
       "      <td id=\"T_5dac2_row5_col1\" class=\"data row5 col1\" >20</td>\n",
       "    </tr>\n",
       "    <tr>\n",
       "      <th id=\"T_5dac2_level0_row6\" class=\"row_heading level0 row6\" >6</th>\n",
       "      <td id=\"T_5dac2_row6_col0\" class=\"data row6 col0\" >2017</td>\n",
       "      <td id=\"T_5dac2_row6_col1\" class=\"data row6 col1\" >16</td>\n",
       "    </tr>\n",
       "    <tr>\n",
       "      <th id=\"T_5dac2_level0_row7\" class=\"row_heading level0 row7\" >7</th>\n",
       "      <td id=\"T_5dac2_row7_col0\" class=\"data row7 col0\" >2018</td>\n",
       "      <td id=\"T_5dac2_row7_col1\" class=\"data row7 col1\" >9</td>\n",
       "    </tr>\n",
       "    <tr>\n",
       "      <th id=\"T_5dac2_level0_row8\" class=\"row_heading level0 row8\" >8</th>\n",
       "      <td id=\"T_5dac2_row8_col0\" class=\"data row8 col0\" >2019</td>\n",
       "      <td id=\"T_5dac2_row8_col1\" class=\"data row8 col1\" >9</td>\n",
       "    </tr>\n",
       "    <tr>\n",
       "      <th id=\"T_5dac2_level0_row9\" class=\"row_heading level0 row9\" >9</th>\n",
       "      <td id=\"T_5dac2_row9_col0\" class=\"data row9 col0\" >2020</td>\n",
       "      <td id=\"T_5dac2_row9_col1\" class=\"data row9 col1\" >195</td>\n",
       "    </tr>\n",
       "  </tbody>\n",
       "</table>\n"
      ],
      "text/plain": [
       "<pandas.io.formats.style.Styler at 0x188a708a0d0>"
      ]
     },
     "execution_count": 16,
     "metadata": {},
     "output_type": "execute_result"
    }
   ],
   "source": [
    "df_penilaian = df_nan_alasan.groupby(['TahunPenilaianKaryawan'])['TanggalLahir'].count().reset_index()\n",
    "df_penilaian.columns = (['Tahun','Penilaian'])\n",
    "df_penilaian.style.background_gradient(cmap='Greens')"
   ]
  },
  {
   "cell_type": "code",
   "execution_count": 17,
   "metadata": {},
   "outputs": [
    {
     "data": {
      "text/html": [
       "<style type=\"text/css\">\n",
       "#T_9d65c_row0_col0, #T_9d65c_row30_col1, #T_9d65c_row31_col1, #T_9d65c_row32_col1, #T_9d65c_row33_col1, #T_9d65c_row35_col1 {\n",
       "  background-color: #f7fcf5;\n",
       "  color: #000000;\n",
       "}\n",
       "#T_9d65c_row0_col1, #T_9d65c_row29_col1, #T_9d65c_row36_col1 {\n",
       "  background-color: #e8f6e4;\n",
       "  color: #000000;\n",
       "}\n",
       "#T_9d65c_row1_col0 {\n",
       "  background-color: #f4fbf1;\n",
       "  color: #000000;\n",
       "}\n",
       "#T_9d65c_row1_col1, #T_9d65c_row21_col1, #T_9d65c_row34_col1, #T_9d65c_row37_col1 {\n",
       "  background-color: #f0f9ec;\n",
       "  color: #000000;\n",
       "}\n",
       "#T_9d65c_row2_col0 {\n",
       "  background-color: #f0f9ed;\n",
       "  color: #000000;\n",
       "}\n",
       "#T_9d65c_row2_col1, #T_9d65c_row23_col1, #T_9d65c_row28_col1 {\n",
       "  background-color: #d1edcb;\n",
       "  color: #000000;\n",
       "}\n",
       "#T_9d65c_row3_col0 {\n",
       "  background-color: #edf8e9;\n",
       "  color: #000000;\n",
       "}\n",
       "#T_9d65c_row3_col1, #T_9d65c_row11_col1 {\n",
       "  background-color: #3fa95c;\n",
       "  color: #f1f1f1;\n",
       "}\n",
       "#T_9d65c_row4_col0 {\n",
       "  background-color: #e9f7e5;\n",
       "  color: #000000;\n",
       "}\n",
       "#T_9d65c_row4_col1 {\n",
       "  background-color: #006529;\n",
       "  color: #f1f1f1;\n",
       "}\n",
       "#T_9d65c_row5_col0 {\n",
       "  background-color: #e5f5e1;\n",
       "  color: #000000;\n",
       "}\n",
       "#T_9d65c_row5_col1, #T_9d65c_row13_col1 {\n",
       "  background-color: #097532;\n",
       "  color: #f1f1f1;\n",
       "}\n",
       "#T_9d65c_row6_col0 {\n",
       "  background-color: #e0f3db;\n",
       "  color: #000000;\n",
       "}\n",
       "#T_9d65c_row6_col1 {\n",
       "  background-color: #005522;\n",
       "  color: #f1f1f1;\n",
       "}\n",
       "#T_9d65c_row7_col0 {\n",
       "  background-color: #dbf1d5;\n",
       "  color: #000000;\n",
       "}\n",
       "#T_9d65c_row7_col1 {\n",
       "  background-color: #7dc87e;\n",
       "  color: #000000;\n",
       "}\n",
       "#T_9d65c_row8_col0 {\n",
       "  background-color: #d5efcf;\n",
       "  color: #000000;\n",
       "}\n",
       "#T_9d65c_row8_col1 {\n",
       "  background-color: #17813d;\n",
       "  color: #f1f1f1;\n",
       "}\n",
       "#T_9d65c_row9_col0 {\n",
       "  background-color: #ceecc8;\n",
       "  color: #000000;\n",
       "}\n",
       "#T_9d65c_row9_col1, #T_9d65c_row37_col0 {\n",
       "  background-color: #00441b;\n",
       "  color: #f1f1f1;\n",
       "}\n",
       "#T_9d65c_row10_col0 {\n",
       "  background-color: #c9eac2;\n",
       "  color: #000000;\n",
       "}\n",
       "#T_9d65c_row10_col1, #T_9d65c_row20_col1 {\n",
       "  background-color: #b4e1ad;\n",
       "  color: #000000;\n",
       "}\n",
       "#T_9d65c_row11_col0 {\n",
       "  background-color: #c2e7bb;\n",
       "  color: #000000;\n",
       "}\n",
       "#T_9d65c_row12_col0 {\n",
       "  background-color: #bbe4b4;\n",
       "  color: #000000;\n",
       "}\n",
       "#T_9d65c_row12_col1, #T_9d65c_row16_col1 {\n",
       "  background-color: #a3da9d;\n",
       "  color: #000000;\n",
       "}\n",
       "#T_9d65c_row13_col0 {\n",
       "  background-color: #b2e0ac;\n",
       "  color: #000000;\n",
       "}\n",
       "#T_9d65c_row14_col0 {\n",
       "  background-color: #abdda5;\n",
       "  color: #000000;\n",
       "}\n",
       "#T_9d65c_row14_col1, #T_9d65c_row24_col1 {\n",
       "  background-color: #c3e7bc;\n",
       "  color: #000000;\n",
       "}\n",
       "#T_9d65c_row15_col0 {\n",
       "  background-color: #a4da9e;\n",
       "  color: #000000;\n",
       "}\n",
       "#T_9d65c_row15_col1 {\n",
       "  background-color: #6abf71;\n",
       "  color: #000000;\n",
       "}\n",
       "#T_9d65c_row16_col0 {\n",
       "  background-color: #9cd797;\n",
       "  color: #000000;\n",
       "}\n",
       "#T_9d65c_row17_col0 {\n",
       "  background-color: #92d28f;\n",
       "  color: #000000;\n",
       "}\n",
       "#T_9d65c_row17_col1, #T_9d65c_row19_col1 {\n",
       "  background-color: #91d28e;\n",
       "  color: #000000;\n",
       "}\n",
       "#T_9d65c_row18_col0 {\n",
       "  background-color: #8ace88;\n",
       "  color: #000000;\n",
       "}\n",
       "#T_9d65c_row18_col1, #T_9d65c_row22_col1 {\n",
       "  background-color: #53b466;\n",
       "  color: #f1f1f1;\n",
       "}\n",
       "#T_9d65c_row19_col0 {\n",
       "  background-color: #81ca81;\n",
       "  color: #000000;\n",
       "}\n",
       "#T_9d65c_row20_col0 {\n",
       "  background-color: #79c67a;\n",
       "  color: #000000;\n",
       "}\n",
       "#T_9d65c_row21_col0 {\n",
       "  background-color: #6ec173;\n",
       "  color: #000000;\n",
       "}\n",
       "#T_9d65c_row22_col0 {\n",
       "  background-color: #65bd6f;\n",
       "  color: #f1f1f1;\n",
       "}\n",
       "#T_9d65c_row23_col0 {\n",
       "  background-color: #5bb86a;\n",
       "  color: #f1f1f1;\n",
       "}\n",
       "#T_9d65c_row24_col0 {\n",
       "  background-color: #52b365;\n",
       "  color: #f1f1f1;\n",
       "}\n",
       "#T_9d65c_row25_col0 {\n",
       "  background-color: #46ae60;\n",
       "  color: #f1f1f1;\n",
       "}\n",
       "#T_9d65c_row25_col1, #T_9d65c_row26_col1, #T_9d65c_row27_col1 {\n",
       "  background-color: #ddf2d8;\n",
       "  color: #000000;\n",
       "}\n",
       "#T_9d65c_row26_col0 {\n",
       "  background-color: #3fa85b;\n",
       "  color: #f1f1f1;\n",
       "}\n",
       "#T_9d65c_row27_col0 {\n",
       "  background-color: #39a257;\n",
       "  color: #f1f1f1;\n",
       "}\n",
       "#T_9d65c_row28_col0 {\n",
       "  background-color: #339c52;\n",
       "  color: #f1f1f1;\n",
       "}\n",
       "#T_9d65c_row29_col0 {\n",
       "  background-color: #2d954d;\n",
       "  color: #f1f1f1;\n",
       "}\n",
       "#T_9d65c_row30_col0 {\n",
       "  background-color: #218944;\n",
       "  color: #f1f1f1;\n",
       "}\n",
       "#T_9d65c_row31_col0 {\n",
       "  background-color: #137d39;\n",
       "  color: #f1f1f1;\n",
       "}\n",
       "#T_9d65c_row32_col0 {\n",
       "  background-color: #0c7735;\n",
       "  color: #f1f1f1;\n",
       "}\n",
       "#T_9d65c_row33_col0 {\n",
       "  background-color: #006328;\n",
       "  color: #f1f1f1;\n",
       "}\n",
       "#T_9d65c_row34_col0 {\n",
       "  background-color: #005b25;\n",
       "  color: #f1f1f1;\n",
       "}\n",
       "#T_9d65c_row35_col0 {\n",
       "  background-color: #005321;\n",
       "  color: #f1f1f1;\n",
       "}\n",
       "#T_9d65c_row36_col0 {\n",
       "  background-color: #004c1e;\n",
       "  color: #f1f1f1;\n",
       "}\n",
       "</style>\n",
       "<table id=\"T_9d65c\">\n",
       "  <thead>\n",
       "    <tr>\n",
       "      <th class=\"blank level0\" >&nbsp;</th>\n",
       "      <th id=\"T_9d65c_level0_col0\" class=\"col_heading level0 col0\" >Umur</th>\n",
       "      <th id=\"T_9d65c_level0_col1\" class=\"col_heading level0 col1\" >Jumlah</th>\n",
       "    </tr>\n",
       "  </thead>\n",
       "  <tbody>\n",
       "    <tr>\n",
       "      <th id=\"T_9d65c_level0_row0\" class=\"row_heading level0 row0\" >0</th>\n",
       "      <td id=\"T_9d65c_row0_col0\" class=\"data row0 col0\" >29</td>\n",
       "      <td id=\"T_9d65c_row0_col1\" class=\"data row0 col1\" >3</td>\n",
       "    </tr>\n",
       "    <tr>\n",
       "      <th id=\"T_9d65c_level0_row1\" class=\"row_heading level0 row1\" >1</th>\n",
       "      <td id=\"T_9d65c_row1_col0\" class=\"data row1 col0\" >30</td>\n",
       "      <td id=\"T_9d65c_row1_col1\" class=\"data row1 col1\" >2</td>\n",
       "    </tr>\n",
       "    <tr>\n",
       "      <th id=\"T_9d65c_level0_row2\" class=\"row_heading level0 row2\" >2</th>\n",
       "      <td id=\"T_9d65c_row2_col0\" class=\"data row2 col0\" >31</td>\n",
       "      <td id=\"T_9d65c_row2_col1\" class=\"data row2 col1\" >5</td>\n",
       "    </tr>\n",
       "    <tr>\n",
       "      <th id=\"T_9d65c_level0_row3\" class=\"row_heading level0 row3\" >3</th>\n",
       "      <td id=\"T_9d65c_row3_col0\" class=\"data row3 col0\" >32</td>\n",
       "      <td id=\"T_9d65c_row3_col1\" class=\"data row3 col1\" >13</td>\n",
       "    </tr>\n",
       "    <tr>\n",
       "      <th id=\"T_9d65c_level0_row4\" class=\"row_heading level0 row4\" >4</th>\n",
       "      <td id=\"T_9d65c_row4_col0\" class=\"data row4 col0\" >33</td>\n",
       "      <td id=\"T_9d65c_row4_col1\" class=\"data row4 col1\" >18</td>\n",
       "    </tr>\n",
       "    <tr>\n",
       "      <th id=\"T_9d65c_level0_row5\" class=\"row_heading level0 row5\" >5</th>\n",
       "      <td id=\"T_9d65c_row5_col0\" class=\"data row5 col0\" >34</td>\n",
       "      <td id=\"T_9d65c_row5_col1\" class=\"data row5 col1\" >17</td>\n",
       "    </tr>\n",
       "    <tr>\n",
       "      <th id=\"T_9d65c_level0_row6\" class=\"row_heading level0 row6\" >6</th>\n",
       "      <td id=\"T_9d65c_row6_col0\" class=\"data row6 col0\" >35</td>\n",
       "      <td id=\"T_9d65c_row6_col1\" class=\"data row6 col1\" >19</td>\n",
       "    </tr>\n",
       "    <tr>\n",
       "      <th id=\"T_9d65c_level0_row7\" class=\"row_heading level0 row7\" >7</th>\n",
       "      <td id=\"T_9d65c_row7_col0\" class=\"data row7 col0\" >36</td>\n",
       "      <td id=\"T_9d65c_row7_col1\" class=\"data row7 col1\" >10</td>\n",
       "    </tr>\n",
       "    <tr>\n",
       "      <th id=\"T_9d65c_level0_row8\" class=\"row_heading level0 row8\" >8</th>\n",
       "      <td id=\"T_9d65c_row8_col0\" class=\"data row8 col0\" >37</td>\n",
       "      <td id=\"T_9d65c_row8_col1\" class=\"data row8 col1\" >16</td>\n",
       "    </tr>\n",
       "    <tr>\n",
       "      <th id=\"T_9d65c_level0_row9\" class=\"row_heading level0 row9\" >9</th>\n",
       "      <td id=\"T_9d65c_row9_col0\" class=\"data row9 col0\" >38</td>\n",
       "      <td id=\"T_9d65c_row9_col1\" class=\"data row9 col1\" >20</td>\n",
       "    </tr>\n",
       "    <tr>\n",
       "      <th id=\"T_9d65c_level0_row10\" class=\"row_heading level0 row10\" >10</th>\n",
       "      <td id=\"T_9d65c_row10_col0\" class=\"data row10 col0\" >39</td>\n",
       "      <td id=\"T_9d65c_row10_col1\" class=\"data row10 col1\" >7</td>\n",
       "    </tr>\n",
       "    <tr>\n",
       "      <th id=\"T_9d65c_level0_row11\" class=\"row_heading level0 row11\" >11</th>\n",
       "      <td id=\"T_9d65c_row11_col0\" class=\"data row11 col0\" >40</td>\n",
       "      <td id=\"T_9d65c_row11_col1\" class=\"data row11 col1\" >13</td>\n",
       "    </tr>\n",
       "    <tr>\n",
       "      <th id=\"T_9d65c_level0_row12\" class=\"row_heading level0 row12\" >12</th>\n",
       "      <td id=\"T_9d65c_row12_col0\" class=\"data row12 col0\" >41</td>\n",
       "      <td id=\"T_9d65c_row12_col1\" class=\"data row12 col1\" >8</td>\n",
       "    </tr>\n",
       "    <tr>\n",
       "      <th id=\"T_9d65c_level0_row13\" class=\"row_heading level0 row13\" >13</th>\n",
       "      <td id=\"T_9d65c_row13_col0\" class=\"data row13 col0\" >42</td>\n",
       "      <td id=\"T_9d65c_row13_col1\" class=\"data row13 col1\" >17</td>\n",
       "    </tr>\n",
       "    <tr>\n",
       "      <th id=\"T_9d65c_level0_row14\" class=\"row_heading level0 row14\" >14</th>\n",
       "      <td id=\"T_9d65c_row14_col0\" class=\"data row14 col0\" >43</td>\n",
       "      <td id=\"T_9d65c_row14_col1\" class=\"data row14 col1\" >6</td>\n",
       "    </tr>\n",
       "    <tr>\n",
       "      <th id=\"T_9d65c_level0_row15\" class=\"row_heading level0 row15\" >15</th>\n",
       "      <td id=\"T_9d65c_row15_col0\" class=\"data row15 col0\" >44</td>\n",
       "      <td id=\"T_9d65c_row15_col1\" class=\"data row15 col1\" >11</td>\n",
       "    </tr>\n",
       "    <tr>\n",
       "      <th id=\"T_9d65c_level0_row16\" class=\"row_heading level0 row16\" >16</th>\n",
       "      <td id=\"T_9d65c_row16_col0\" class=\"data row16 col0\" >45</td>\n",
       "      <td id=\"T_9d65c_row16_col1\" class=\"data row16 col1\" >8</td>\n",
       "    </tr>\n",
       "    <tr>\n",
       "      <th id=\"T_9d65c_level0_row17\" class=\"row_heading level0 row17\" >17</th>\n",
       "      <td id=\"T_9d65c_row17_col0\" class=\"data row17 col0\" >46</td>\n",
       "      <td id=\"T_9d65c_row17_col1\" class=\"data row17 col1\" >9</td>\n",
       "    </tr>\n",
       "    <tr>\n",
       "      <th id=\"T_9d65c_level0_row18\" class=\"row_heading level0 row18\" >18</th>\n",
       "      <td id=\"T_9d65c_row18_col0\" class=\"data row18 col0\" >47</td>\n",
       "      <td id=\"T_9d65c_row18_col1\" class=\"data row18 col1\" >12</td>\n",
       "    </tr>\n",
       "    <tr>\n",
       "      <th id=\"T_9d65c_level0_row19\" class=\"row_heading level0 row19\" >19</th>\n",
       "      <td id=\"T_9d65c_row19_col0\" class=\"data row19 col0\" >48</td>\n",
       "      <td id=\"T_9d65c_row19_col1\" class=\"data row19 col1\" >9</td>\n",
       "    </tr>\n",
       "    <tr>\n",
       "      <th id=\"T_9d65c_level0_row20\" class=\"row_heading level0 row20\" >20</th>\n",
       "      <td id=\"T_9d65c_row20_col0\" class=\"data row20 col0\" >49</td>\n",
       "      <td id=\"T_9d65c_row20_col1\" class=\"data row20 col1\" >7</td>\n",
       "    </tr>\n",
       "    <tr>\n",
       "      <th id=\"T_9d65c_level0_row21\" class=\"row_heading level0 row21\" >21</th>\n",
       "      <td id=\"T_9d65c_row21_col0\" class=\"data row21 col0\" >50</td>\n",
       "      <td id=\"T_9d65c_row21_col1\" class=\"data row21 col1\" >2</td>\n",
       "    </tr>\n",
       "    <tr>\n",
       "      <th id=\"T_9d65c_level0_row22\" class=\"row_heading level0 row22\" >22</th>\n",
       "      <td id=\"T_9d65c_row22_col0\" class=\"data row22 col0\" >51</td>\n",
       "      <td id=\"T_9d65c_row22_col1\" class=\"data row22 col1\" >12</td>\n",
       "    </tr>\n",
       "    <tr>\n",
       "      <th id=\"T_9d65c_level0_row23\" class=\"row_heading level0 row23\" >23</th>\n",
       "      <td id=\"T_9d65c_row23_col0\" class=\"data row23 col0\" >52</td>\n",
       "      <td id=\"T_9d65c_row23_col1\" class=\"data row23 col1\" >5</td>\n",
       "    </tr>\n",
       "    <tr>\n",
       "      <th id=\"T_9d65c_level0_row24\" class=\"row_heading level0 row24\" >24</th>\n",
       "      <td id=\"T_9d65c_row24_col0\" class=\"data row24 col0\" >53</td>\n",
       "      <td id=\"T_9d65c_row24_col1\" class=\"data row24 col1\" >6</td>\n",
       "    </tr>\n",
       "    <tr>\n",
       "      <th id=\"T_9d65c_level0_row25\" class=\"row_heading level0 row25\" >25</th>\n",
       "      <td id=\"T_9d65c_row25_col0\" class=\"data row25 col0\" >54</td>\n",
       "      <td id=\"T_9d65c_row25_col1\" class=\"data row25 col1\" >4</td>\n",
       "    </tr>\n",
       "    <tr>\n",
       "      <th id=\"T_9d65c_level0_row26\" class=\"row_heading level0 row26\" >26</th>\n",
       "      <td id=\"T_9d65c_row26_col0\" class=\"data row26 col0\" >55</td>\n",
       "      <td id=\"T_9d65c_row26_col1\" class=\"data row26 col1\" >4</td>\n",
       "    </tr>\n",
       "    <tr>\n",
       "      <th id=\"T_9d65c_level0_row27\" class=\"row_heading level0 row27\" >27</th>\n",
       "      <td id=\"T_9d65c_row27_col0\" class=\"data row27 col0\" >56</td>\n",
       "      <td id=\"T_9d65c_row27_col1\" class=\"data row27 col1\" >4</td>\n",
       "    </tr>\n",
       "    <tr>\n",
       "      <th id=\"T_9d65c_level0_row28\" class=\"row_heading level0 row28\" >28</th>\n",
       "      <td id=\"T_9d65c_row28_col0\" class=\"data row28 col0\" >57</td>\n",
       "      <td id=\"T_9d65c_row28_col1\" class=\"data row28 col1\" >5</td>\n",
       "    </tr>\n",
       "    <tr>\n",
       "      <th id=\"T_9d65c_level0_row29\" class=\"row_heading level0 row29\" >29</th>\n",
       "      <td id=\"T_9d65c_row29_col0\" class=\"data row29 col0\" >58</td>\n",
       "      <td id=\"T_9d65c_row29_col1\" class=\"data row29 col1\" >3</td>\n",
       "    </tr>\n",
       "    <tr>\n",
       "      <th id=\"T_9d65c_level0_row30\" class=\"row_heading level0 row30\" >30</th>\n",
       "      <td id=\"T_9d65c_row30_col0\" class=\"data row30 col0\" >60</td>\n",
       "      <td id=\"T_9d65c_row30_col1\" class=\"data row30 col1\" >1</td>\n",
       "    </tr>\n",
       "    <tr>\n",
       "      <th id=\"T_9d65c_level0_row31\" class=\"row_heading level0 row31\" >31</th>\n",
       "      <td id=\"T_9d65c_row31_col0\" class=\"data row31 col0\" >62</td>\n",
       "      <td id=\"T_9d65c_row31_col1\" class=\"data row31 col1\" >1</td>\n",
       "    </tr>\n",
       "    <tr>\n",
       "      <th id=\"T_9d65c_level0_row32\" class=\"row_heading level0 row32\" >32</th>\n",
       "      <td id=\"T_9d65c_row32_col0\" class=\"data row32 col0\" >63</td>\n",
       "      <td id=\"T_9d65c_row32_col1\" class=\"data row32 col1\" >1</td>\n",
       "    </tr>\n",
       "    <tr>\n",
       "      <th id=\"T_9d65c_level0_row33\" class=\"row_heading level0 row33\" >33</th>\n",
       "      <td id=\"T_9d65c_row33_col0\" class=\"data row33 col0\" >66</td>\n",
       "      <td id=\"T_9d65c_row33_col1\" class=\"data row33 col1\" >1</td>\n",
       "    </tr>\n",
       "    <tr>\n",
       "      <th id=\"T_9d65c_level0_row34\" class=\"row_heading level0 row34\" >34</th>\n",
       "      <td id=\"T_9d65c_row34_col0\" class=\"data row34 col0\" >67</td>\n",
       "      <td id=\"T_9d65c_row34_col1\" class=\"data row34 col1\" >2</td>\n",
       "    </tr>\n",
       "    <tr>\n",
       "      <th id=\"T_9d65c_level0_row35\" class=\"row_heading level0 row35\" >35</th>\n",
       "      <td id=\"T_9d65c_row35_col0\" class=\"data row35 col0\" >68</td>\n",
       "      <td id=\"T_9d65c_row35_col1\" class=\"data row35 col1\" >1</td>\n",
       "    </tr>\n",
       "    <tr>\n",
       "      <th id=\"T_9d65c_level0_row36\" class=\"row_heading level0 row36\" >36</th>\n",
       "      <td id=\"T_9d65c_row36_col0\" class=\"data row36 col0\" >69</td>\n",
       "      <td id=\"T_9d65c_row36_col1\" class=\"data row36 col1\" >3</td>\n",
       "    </tr>\n",
       "    <tr>\n",
       "      <th id=\"T_9d65c_level0_row37\" class=\"row_heading level0 row37\" >37</th>\n",
       "      <td id=\"T_9d65c_row37_col0\" class=\"data row37 col0\" >70</td>\n",
       "      <td id=\"T_9d65c_row37_col1\" class=\"data row37 col1\" >2</td>\n",
       "    </tr>\n",
       "  </tbody>\n",
       "</table>\n"
      ],
      "text/plain": [
       "<pandas.io.formats.style.Styler at 0x188b021bdd0>"
      ]
     },
     "execution_count": 17,
     "metadata": {},
     "output_type": "execute_result"
    }
   ],
   "source": [
    "df_umur = df_nan_alasan.groupby(['Umur'])['TanggalLahir'].count().reset_index()\n",
    "df_umur.columns = (['Umur','Jumlah'])\n",
    "df_umur.style.background_gradient(cmap='Greens')"
   ]
  },
  {
   "cell_type": "markdown",
   "metadata": {},
   "source": [
    "berartti data terakhir kita ambil di 2020 digunakan untuk menentukan umur "
   ]
  },
  {
   "cell_type": "code",
   "execution_count": 18,
   "metadata": {},
   "outputs": [
    {
     "data": {
      "text/html": [
       "<style type=\"text/css\">\n",
       "#T_20d26_row0_col0, #T_20d26_row2_col1, #T_20d26_row4_col1, #T_20d26_row5_col1, #T_20d26_row6_col1, #T_20d26_row7_col1 {\n",
       "  background-color: #f7fcf5;\n",
       "  color: #000000;\n",
       "}\n",
       "#T_20d26_row0_col1, #T_20d26_row3_col1, #T_20d26_row16_col1, #T_20d26_row36_col1 {\n",
       "  background-color: #f0f9ec;\n",
       "  color: #000000;\n",
       "}\n",
       "#T_20d26_row1_col0 {\n",
       "  background-color: #f4fbf1;\n",
       "  color: #000000;\n",
       "}\n",
       "#T_20d26_row1_col1, #T_20d26_row8_col1, #T_20d26_row37_col1 {\n",
       "  background-color: #e8f6e4;\n",
       "  color: #000000;\n",
       "}\n",
       "#T_20d26_row2_col0 {\n",
       "  background-color: #f0f9ed;\n",
       "  color: #000000;\n",
       "}\n",
       "#T_20d26_row3_col0 {\n",
       "  background-color: #edf8e9;\n",
       "  color: #000000;\n",
       "}\n",
       "#T_20d26_row4_col0 {\n",
       "  background-color: #e9f7e5;\n",
       "  color: #000000;\n",
       "}\n",
       "#T_20d26_row5_col0 {\n",
       "  background-color: #dbf1d5;\n",
       "  color: #000000;\n",
       "}\n",
       "#T_20d26_row6_col0 {\n",
       "  background-color: #d5efcf;\n",
       "  color: #000000;\n",
       "}\n",
       "#T_20d26_row7_col0 {\n",
       "  background-color: #c9eac2;\n",
       "  color: #000000;\n",
       "}\n",
       "#T_20d26_row8_col0 {\n",
       "  background-color: #bbe4b4;\n",
       "  color: #000000;\n",
       "}\n",
       "#T_20d26_row9_col0 {\n",
       "  background-color: #b2e0ac;\n",
       "  color: #000000;\n",
       "}\n",
       "#T_20d26_row9_col1, #T_20d26_row14_col1, #T_20d26_row35_col1 {\n",
       "  background-color: #d1edcb;\n",
       "  color: #000000;\n",
       "}\n",
       "#T_20d26_row10_col0 {\n",
       "  background-color: #abdda5;\n",
       "  color: #000000;\n",
       "}\n",
       "#T_20d26_row10_col1, #T_20d26_row11_col1, #T_20d26_row12_col1 {\n",
       "  background-color: #ddf2d8;\n",
       "  color: #000000;\n",
       "}\n",
       "#T_20d26_row11_col0 {\n",
       "  background-color: #a4da9e;\n",
       "  color: #000000;\n",
       "}\n",
       "#T_20d26_row12_col0 {\n",
       "  background-color: #9cd797;\n",
       "  color: #000000;\n",
       "}\n",
       "#T_20d26_row13_col0 {\n",
       "  background-color: #92d28f;\n",
       "  color: #000000;\n",
       "}\n",
       "#T_20d26_row13_col1, #T_20d26_row23_col1 {\n",
       "  background-color: #c3e7bc;\n",
       "  color: #000000;\n",
       "}\n",
       "#T_20d26_row14_col0 {\n",
       "  background-color: #8ace88;\n",
       "  color: #000000;\n",
       "}\n",
       "#T_20d26_row15_col0 {\n",
       "  background-color: #81ca81;\n",
       "  color: #000000;\n",
       "}\n",
       "#T_20d26_row15_col1, #T_20d26_row19_col1 {\n",
       "  background-color: #53b466;\n",
       "  color: #f1f1f1;\n",
       "}\n",
       "#T_20d26_row16_col0 {\n",
       "  background-color: #79c67a;\n",
       "  color: #000000;\n",
       "}\n",
       "#T_20d26_row17_col0 {\n",
       "  background-color: #6ec173;\n",
       "  color: #000000;\n",
       "}\n",
       "#T_20d26_row17_col1, #T_20d26_row27_col1 {\n",
       "  background-color: #b4e1ad;\n",
       "  color: #000000;\n",
       "}\n",
       "#T_20d26_row18_col0 {\n",
       "  background-color: #65bd6f;\n",
       "  color: #f1f1f1;\n",
       "}\n",
       "#T_20d26_row18_col1, #T_20d26_row20_col1 {\n",
       "  background-color: #91d28e;\n",
       "  color: #000000;\n",
       "}\n",
       "#T_20d26_row19_col0 {\n",
       "  background-color: #5bb86a;\n",
       "  color: #f1f1f1;\n",
       "}\n",
       "#T_20d26_row20_col0 {\n",
       "  background-color: #52b365;\n",
       "  color: #f1f1f1;\n",
       "}\n",
       "#T_20d26_row21_col0 {\n",
       "  background-color: #46ae60;\n",
       "  color: #f1f1f1;\n",
       "}\n",
       "#T_20d26_row21_col1, #T_20d26_row25_col1 {\n",
       "  background-color: #a3da9d;\n",
       "  color: #000000;\n",
       "}\n",
       "#T_20d26_row22_col0 {\n",
       "  background-color: #3fa85b;\n",
       "  color: #f1f1f1;\n",
       "}\n",
       "#T_20d26_row22_col1 {\n",
       "  background-color: #6abf71;\n",
       "  color: #000000;\n",
       "}\n",
       "#T_20d26_row23_col0 {\n",
       "  background-color: #39a257;\n",
       "  color: #f1f1f1;\n",
       "}\n",
       "#T_20d26_row24_col0 {\n",
       "  background-color: #339c52;\n",
       "  color: #f1f1f1;\n",
       "}\n",
       "#T_20d26_row24_col1, #T_20d26_row32_col1 {\n",
       "  background-color: #097532;\n",
       "  color: #f1f1f1;\n",
       "}\n",
       "#T_20d26_row25_col0 {\n",
       "  background-color: #2d954d;\n",
       "  color: #f1f1f1;\n",
       "}\n",
       "#T_20d26_row26_col0 {\n",
       "  background-color: #278f48;\n",
       "  color: #f1f1f1;\n",
       "}\n",
       "#T_20d26_row26_col1, #T_20d26_row34_col1 {\n",
       "  background-color: #3fa95c;\n",
       "  color: #f1f1f1;\n",
       "}\n",
       "#T_20d26_row27_col0 {\n",
       "  background-color: #218944;\n",
       "  color: #f1f1f1;\n",
       "}\n",
       "#T_20d26_row28_col0 {\n",
       "  background-color: #1a843f;\n",
       "  color: #f1f1f1;\n",
       "}\n",
       "#T_20d26_row28_col1, #T_20d26_row37_col0 {\n",
       "  background-color: #00441b;\n",
       "  color: #f1f1f1;\n",
       "}\n",
       "#T_20d26_row29_col0 {\n",
       "  background-color: #137d39;\n",
       "  color: #f1f1f1;\n",
       "}\n",
       "#T_20d26_row29_col1 {\n",
       "  background-color: #17813d;\n",
       "  color: #f1f1f1;\n",
       "}\n",
       "#T_20d26_row30_col0 {\n",
       "  background-color: #0c7735;\n",
       "  color: #f1f1f1;\n",
       "}\n",
       "#T_20d26_row30_col1 {\n",
       "  background-color: #7dc87e;\n",
       "  color: #000000;\n",
       "}\n",
       "#T_20d26_row31_col0 {\n",
       "  background-color: #067230;\n",
       "  color: #f1f1f1;\n",
       "}\n",
       "#T_20d26_row31_col1 {\n",
       "  background-color: #005522;\n",
       "  color: #f1f1f1;\n",
       "}\n",
       "#T_20d26_row32_col0 {\n",
       "  background-color: #006c2c;\n",
       "  color: #f1f1f1;\n",
       "}\n",
       "#T_20d26_row33_col0 {\n",
       "  background-color: #006328;\n",
       "  color: #f1f1f1;\n",
       "}\n",
       "#T_20d26_row33_col1 {\n",
       "  background-color: #006529;\n",
       "  color: #f1f1f1;\n",
       "}\n",
       "#T_20d26_row34_col0 {\n",
       "  background-color: #005b25;\n",
       "  color: #f1f1f1;\n",
       "}\n",
       "#T_20d26_row35_col0 {\n",
       "  background-color: #005321;\n",
       "  color: #f1f1f1;\n",
       "}\n",
       "#T_20d26_row36_col0 {\n",
       "  background-color: #004c1e;\n",
       "  color: #f1f1f1;\n",
       "}\n",
       "</style>\n",
       "<table id=\"T_20d26\">\n",
       "  <thead>\n",
       "    <tr>\n",
       "      <th class=\"blank level0\" >&nbsp;</th>\n",
       "      <th id=\"T_20d26_level0_col0\" class=\"col_heading level0 col0\" >Tahun</th>\n",
       "      <th id=\"T_20d26_level0_col1\" class=\"col_heading level0 col1\" >Jumlah</th>\n",
       "    </tr>\n",
       "  </thead>\n",
       "  <tbody>\n",
       "    <tr>\n",
       "      <th id=\"T_20d26_level0_row0\" class=\"row_heading level0 row0\" >0</th>\n",
       "      <td id=\"T_20d26_row0_col0\" class=\"data row0 col0\" >1951</td>\n",
       "      <td id=\"T_20d26_row0_col1\" class=\"data row0 col1\" >2</td>\n",
       "    </tr>\n",
       "    <tr>\n",
       "      <th id=\"T_20d26_level0_row1\" class=\"row_heading level0 row1\" >1</th>\n",
       "      <td id=\"T_20d26_row1_col0\" class=\"data row1 col0\" >1952</td>\n",
       "      <td id=\"T_20d26_row1_col1\" class=\"data row1 col1\" >3</td>\n",
       "    </tr>\n",
       "    <tr>\n",
       "      <th id=\"T_20d26_level0_row2\" class=\"row_heading level0 row2\" >2</th>\n",
       "      <td id=\"T_20d26_row2_col0\" class=\"data row2 col0\" >1953</td>\n",
       "      <td id=\"T_20d26_row2_col1\" class=\"data row2 col1\" >1</td>\n",
       "    </tr>\n",
       "    <tr>\n",
       "      <th id=\"T_20d26_level0_row3\" class=\"row_heading level0 row3\" >3</th>\n",
       "      <td id=\"T_20d26_row3_col0\" class=\"data row3 col0\" >1954</td>\n",
       "      <td id=\"T_20d26_row3_col1\" class=\"data row3 col1\" >2</td>\n",
       "    </tr>\n",
       "    <tr>\n",
       "      <th id=\"T_20d26_level0_row4\" class=\"row_heading level0 row4\" >4</th>\n",
       "      <td id=\"T_20d26_row4_col0\" class=\"data row4 col0\" >1955</td>\n",
       "      <td id=\"T_20d26_row4_col1\" class=\"data row4 col1\" >1</td>\n",
       "    </tr>\n",
       "    <tr>\n",
       "      <th id=\"T_20d26_level0_row5\" class=\"row_heading level0 row5\" >5</th>\n",
       "      <td id=\"T_20d26_row5_col0\" class=\"data row5 col0\" >1958</td>\n",
       "      <td id=\"T_20d26_row5_col1\" class=\"data row5 col1\" >1</td>\n",
       "    </tr>\n",
       "    <tr>\n",
       "      <th id=\"T_20d26_level0_row6\" class=\"row_heading level0 row6\" >6</th>\n",
       "      <td id=\"T_20d26_row6_col0\" class=\"data row6 col0\" >1959</td>\n",
       "      <td id=\"T_20d26_row6_col1\" class=\"data row6 col1\" >1</td>\n",
       "    </tr>\n",
       "    <tr>\n",
       "      <th id=\"T_20d26_level0_row7\" class=\"row_heading level0 row7\" >7</th>\n",
       "      <td id=\"T_20d26_row7_col0\" class=\"data row7 col0\" >1961</td>\n",
       "      <td id=\"T_20d26_row7_col1\" class=\"data row7 col1\" >1</td>\n",
       "    </tr>\n",
       "    <tr>\n",
       "      <th id=\"T_20d26_level0_row8\" class=\"row_heading level0 row8\" >8</th>\n",
       "      <td id=\"T_20d26_row8_col0\" class=\"data row8 col0\" >1963</td>\n",
       "      <td id=\"T_20d26_row8_col1\" class=\"data row8 col1\" >3</td>\n",
       "    </tr>\n",
       "    <tr>\n",
       "      <th id=\"T_20d26_level0_row9\" class=\"row_heading level0 row9\" >9</th>\n",
       "      <td id=\"T_20d26_row9_col0\" class=\"data row9 col0\" >1964</td>\n",
       "      <td id=\"T_20d26_row9_col1\" class=\"data row9 col1\" >5</td>\n",
       "    </tr>\n",
       "    <tr>\n",
       "      <th id=\"T_20d26_level0_row10\" class=\"row_heading level0 row10\" >10</th>\n",
       "      <td id=\"T_20d26_row10_col0\" class=\"data row10 col0\" >1965</td>\n",
       "      <td id=\"T_20d26_row10_col1\" class=\"data row10 col1\" >4</td>\n",
       "    </tr>\n",
       "    <tr>\n",
       "      <th id=\"T_20d26_level0_row11\" class=\"row_heading level0 row11\" >11</th>\n",
       "      <td id=\"T_20d26_row11_col0\" class=\"data row11 col0\" >1966</td>\n",
       "      <td id=\"T_20d26_row11_col1\" class=\"data row11 col1\" >4</td>\n",
       "    </tr>\n",
       "    <tr>\n",
       "      <th id=\"T_20d26_level0_row12\" class=\"row_heading level0 row12\" >12</th>\n",
       "      <td id=\"T_20d26_row12_col0\" class=\"data row12 col0\" >1967</td>\n",
       "      <td id=\"T_20d26_row12_col1\" class=\"data row12 col1\" >4</td>\n",
       "    </tr>\n",
       "    <tr>\n",
       "      <th id=\"T_20d26_level0_row13\" class=\"row_heading level0 row13\" >13</th>\n",
       "      <td id=\"T_20d26_row13_col0\" class=\"data row13 col0\" >1968</td>\n",
       "      <td id=\"T_20d26_row13_col1\" class=\"data row13 col1\" >6</td>\n",
       "    </tr>\n",
       "    <tr>\n",
       "      <th id=\"T_20d26_level0_row14\" class=\"row_heading level0 row14\" >14</th>\n",
       "      <td id=\"T_20d26_row14_col0\" class=\"data row14 col0\" >1969</td>\n",
       "      <td id=\"T_20d26_row14_col1\" class=\"data row14 col1\" >5</td>\n",
       "    </tr>\n",
       "    <tr>\n",
       "      <th id=\"T_20d26_level0_row15\" class=\"row_heading level0 row15\" >15</th>\n",
       "      <td id=\"T_20d26_row15_col0\" class=\"data row15 col0\" >1970</td>\n",
       "      <td id=\"T_20d26_row15_col1\" class=\"data row15 col1\" >12</td>\n",
       "    </tr>\n",
       "    <tr>\n",
       "      <th id=\"T_20d26_level0_row16\" class=\"row_heading level0 row16\" >16</th>\n",
       "      <td id=\"T_20d26_row16_col0\" class=\"data row16 col0\" >1971</td>\n",
       "      <td id=\"T_20d26_row16_col1\" class=\"data row16 col1\" >2</td>\n",
       "    </tr>\n",
       "    <tr>\n",
       "      <th id=\"T_20d26_level0_row17\" class=\"row_heading level0 row17\" >17</th>\n",
       "      <td id=\"T_20d26_row17_col0\" class=\"data row17 col0\" >1972</td>\n",
       "      <td id=\"T_20d26_row17_col1\" class=\"data row17 col1\" >7</td>\n",
       "    </tr>\n",
       "    <tr>\n",
       "      <th id=\"T_20d26_level0_row18\" class=\"row_heading level0 row18\" >18</th>\n",
       "      <td id=\"T_20d26_row18_col0\" class=\"data row18 col0\" >1973</td>\n",
       "      <td id=\"T_20d26_row18_col1\" class=\"data row18 col1\" >9</td>\n",
       "    </tr>\n",
       "    <tr>\n",
       "      <th id=\"T_20d26_level0_row19\" class=\"row_heading level0 row19\" >19</th>\n",
       "      <td id=\"T_20d26_row19_col0\" class=\"data row19 col0\" >1974</td>\n",
       "      <td id=\"T_20d26_row19_col1\" class=\"data row19 col1\" >12</td>\n",
       "    </tr>\n",
       "    <tr>\n",
       "      <th id=\"T_20d26_level0_row20\" class=\"row_heading level0 row20\" >20</th>\n",
       "      <td id=\"T_20d26_row20_col0\" class=\"data row20 col0\" >1975</td>\n",
       "      <td id=\"T_20d26_row20_col1\" class=\"data row20 col1\" >9</td>\n",
       "    </tr>\n",
       "    <tr>\n",
       "      <th id=\"T_20d26_level0_row21\" class=\"row_heading level0 row21\" >21</th>\n",
       "      <td id=\"T_20d26_row21_col0\" class=\"data row21 col0\" >1976</td>\n",
       "      <td id=\"T_20d26_row21_col1\" class=\"data row21 col1\" >8</td>\n",
       "    </tr>\n",
       "    <tr>\n",
       "      <th id=\"T_20d26_level0_row22\" class=\"row_heading level0 row22\" >22</th>\n",
       "      <td id=\"T_20d26_row22_col0\" class=\"data row22 col0\" >1977</td>\n",
       "      <td id=\"T_20d26_row22_col1\" class=\"data row22 col1\" >11</td>\n",
       "    </tr>\n",
       "    <tr>\n",
       "      <th id=\"T_20d26_level0_row23\" class=\"row_heading level0 row23\" >23</th>\n",
       "      <td id=\"T_20d26_row23_col0\" class=\"data row23 col0\" >1978</td>\n",
       "      <td id=\"T_20d26_row23_col1\" class=\"data row23 col1\" >6</td>\n",
       "    </tr>\n",
       "    <tr>\n",
       "      <th id=\"T_20d26_level0_row24\" class=\"row_heading level0 row24\" >24</th>\n",
       "      <td id=\"T_20d26_row24_col0\" class=\"data row24 col0\" >1979</td>\n",
       "      <td id=\"T_20d26_row24_col1\" class=\"data row24 col1\" >17</td>\n",
       "    </tr>\n",
       "    <tr>\n",
       "      <th id=\"T_20d26_level0_row25\" class=\"row_heading level0 row25\" >25</th>\n",
       "      <td id=\"T_20d26_row25_col0\" class=\"data row25 col0\" >1980</td>\n",
       "      <td id=\"T_20d26_row25_col1\" class=\"data row25 col1\" >8</td>\n",
       "    </tr>\n",
       "    <tr>\n",
       "      <th id=\"T_20d26_level0_row26\" class=\"row_heading level0 row26\" >26</th>\n",
       "      <td id=\"T_20d26_row26_col0\" class=\"data row26 col0\" >1981</td>\n",
       "      <td id=\"T_20d26_row26_col1\" class=\"data row26 col1\" >13</td>\n",
       "    </tr>\n",
       "    <tr>\n",
       "      <th id=\"T_20d26_level0_row27\" class=\"row_heading level0 row27\" >27</th>\n",
       "      <td id=\"T_20d26_row27_col0\" class=\"data row27 col0\" >1982</td>\n",
       "      <td id=\"T_20d26_row27_col1\" class=\"data row27 col1\" >7</td>\n",
       "    </tr>\n",
       "    <tr>\n",
       "      <th id=\"T_20d26_level0_row28\" class=\"row_heading level0 row28\" >28</th>\n",
       "      <td id=\"T_20d26_row28_col0\" class=\"data row28 col0\" >1983</td>\n",
       "      <td id=\"T_20d26_row28_col1\" class=\"data row28 col1\" >20</td>\n",
       "    </tr>\n",
       "    <tr>\n",
       "      <th id=\"T_20d26_level0_row29\" class=\"row_heading level0 row29\" >29</th>\n",
       "      <td id=\"T_20d26_row29_col0\" class=\"data row29 col0\" >1984</td>\n",
       "      <td id=\"T_20d26_row29_col1\" class=\"data row29 col1\" >16</td>\n",
       "    </tr>\n",
       "    <tr>\n",
       "      <th id=\"T_20d26_level0_row30\" class=\"row_heading level0 row30\" >30</th>\n",
       "      <td id=\"T_20d26_row30_col0\" class=\"data row30 col0\" >1985</td>\n",
       "      <td id=\"T_20d26_row30_col1\" class=\"data row30 col1\" >10</td>\n",
       "    </tr>\n",
       "    <tr>\n",
       "      <th id=\"T_20d26_level0_row31\" class=\"row_heading level0 row31\" >31</th>\n",
       "      <td id=\"T_20d26_row31_col0\" class=\"data row31 col0\" >1986</td>\n",
       "      <td id=\"T_20d26_row31_col1\" class=\"data row31 col1\" >19</td>\n",
       "    </tr>\n",
       "    <tr>\n",
       "      <th id=\"T_20d26_level0_row32\" class=\"row_heading level0 row32\" >32</th>\n",
       "      <td id=\"T_20d26_row32_col0\" class=\"data row32 col0\" >1987</td>\n",
       "      <td id=\"T_20d26_row32_col1\" class=\"data row32 col1\" >17</td>\n",
       "    </tr>\n",
       "    <tr>\n",
       "      <th id=\"T_20d26_level0_row33\" class=\"row_heading level0 row33\" >33</th>\n",
       "      <td id=\"T_20d26_row33_col0\" class=\"data row33 col0\" >1988</td>\n",
       "      <td id=\"T_20d26_row33_col1\" class=\"data row33 col1\" >18</td>\n",
       "    </tr>\n",
       "    <tr>\n",
       "      <th id=\"T_20d26_level0_row34\" class=\"row_heading level0 row34\" >34</th>\n",
       "      <td id=\"T_20d26_row34_col0\" class=\"data row34 col0\" >1989</td>\n",
       "      <td id=\"T_20d26_row34_col1\" class=\"data row34 col1\" >13</td>\n",
       "    </tr>\n",
       "    <tr>\n",
       "      <th id=\"T_20d26_level0_row35\" class=\"row_heading level0 row35\" >35</th>\n",
       "      <td id=\"T_20d26_row35_col0\" class=\"data row35 col0\" >1990</td>\n",
       "      <td id=\"T_20d26_row35_col1\" class=\"data row35 col1\" >5</td>\n",
       "    </tr>\n",
       "    <tr>\n",
       "      <th id=\"T_20d26_level0_row36\" class=\"row_heading level0 row36\" >36</th>\n",
       "      <td id=\"T_20d26_row36_col0\" class=\"data row36 col0\" >1991</td>\n",
       "      <td id=\"T_20d26_row36_col1\" class=\"data row36 col1\" >2</td>\n",
       "    </tr>\n",
       "    <tr>\n",
       "      <th id=\"T_20d26_level0_row37\" class=\"row_heading level0 row37\" >37</th>\n",
       "      <td id=\"T_20d26_row37_col0\" class=\"data row37 col0\" >1992</td>\n",
       "      <td id=\"T_20d26_row37_col1\" class=\"data row37 col1\" >3</td>\n",
       "    </tr>\n",
       "  </tbody>\n",
       "</table>\n"
      ],
      "text/plain": [
       "<pandas.io.formats.style.Styler at 0x188b0c35850>"
      ]
     },
     "execution_count": 18,
     "metadata": {},
     "output_type": "execute_result"
    }
   ],
   "source": [
    "df_lahir = df_nan_alasan.groupby(['TahunLahir'])['TanggalLahir'].count().reset_index()\n",
    "df_lahir.columns = (['Tahun','Jumlah'])\n",
    "df_lahir.style.background_gradient(cmap='Greens')"
   ]
  },
  {
   "cell_type": "code",
   "execution_count": 19,
   "metadata": {},
   "outputs": [
    {
     "data": {
      "text/html": [
       "<style type=\"text/css\">\n",
       "#T_01bf5_row0_col0, #T_01bf5_row0_col1, #T_01bf5_row6_col1 {\n",
       "  background-color: #f7fcf5;\n",
       "  color: #000000;\n",
       "}\n",
       "#T_01bf5_row1_col0, #T_01bf5_row2_col1, #T_01bf5_row3_col1 {\n",
       "  background-color: #e1f3dc;\n",
       "  color: #000000;\n",
       "}\n",
       "#T_01bf5_row1_col1 {\n",
       "  background-color: #aedea7;\n",
       "  color: #000000;\n",
       "}\n",
       "#T_01bf5_row2_col0 {\n",
       "  background-color: #bce4b5;\n",
       "  color: #000000;\n",
       "}\n",
       "#T_01bf5_row3_col0 {\n",
       "  background-color: #8ed08b;\n",
       "  color: #000000;\n",
       "}\n",
       "#T_01bf5_row4_col0 {\n",
       "  background-color: #56b567;\n",
       "  color: #f1f1f1;\n",
       "}\n",
       "#T_01bf5_row4_col1 {\n",
       "  background-color: #37a055;\n",
       "  color: #f1f1f1;\n",
       "}\n",
       "#T_01bf5_row5_col0 {\n",
       "  background-color: #2c944c;\n",
       "  color: #f1f1f1;\n",
       "}\n",
       "#T_01bf5_row5_col1, #T_01bf5_row7_col0 {\n",
       "  background-color: #00441b;\n",
       "  color: #f1f1f1;\n",
       "}\n",
       "#T_01bf5_row6_col0 {\n",
       "  background-color: #05712f;\n",
       "  color: #f1f1f1;\n",
       "}\n",
       "#T_01bf5_row7_col1 {\n",
       "  background-color: #f0f9ed;\n",
       "  color: #000000;\n",
       "}\n",
       "</style>\n",
       "<table id=\"T_01bf5\">\n",
       "  <thead>\n",
       "    <tr>\n",
       "      <th class=\"blank level0\" >&nbsp;</th>\n",
       "      <th id=\"T_01bf5_level0_col0\" class=\"col_heading level0 col0\" >Tahun</th>\n",
       "      <th id=\"T_01bf5_level0_col1\" class=\"col_heading level0 col1\" >Resign</th>\n",
       "    </tr>\n",
       "  </thead>\n",
       "  <tbody>\n",
       "    <tr>\n",
       "      <th id=\"T_01bf5_level0_row0\" class=\"row_heading level0 row0\" >0</th>\n",
       "      <td id=\"T_01bf5_row0_col0\" class=\"data row0 col0\" >2013.000000</td>\n",
       "      <td id=\"T_01bf5_row0_col1\" class=\"data row0 col1\" >5</td>\n",
       "    </tr>\n",
       "    <tr>\n",
       "      <th id=\"T_01bf5_level0_row1\" class=\"row_heading level0 row1\" >1</th>\n",
       "      <td id=\"T_01bf5_row1_col0\" class=\"data row1 col0\" >2014.000000</td>\n",
       "      <td id=\"T_01bf5_row1_col1\" class=\"data row1 col1\" >12</td>\n",
       "    </tr>\n",
       "    <tr>\n",
       "      <th id=\"T_01bf5_level0_row2\" class=\"row_heading level0 row2\" >2</th>\n",
       "      <td id=\"T_01bf5_row2_col0\" class=\"data row2 col0\" >2015.000000</td>\n",
       "      <td id=\"T_01bf5_row2_col1\" class=\"data row2 col1\" >8</td>\n",
       "    </tr>\n",
       "    <tr>\n",
       "      <th id=\"T_01bf5_level0_row3\" class=\"row_heading level0 row3\" >3</th>\n",
       "      <td id=\"T_01bf5_row3_col0\" class=\"data row3 col0\" >2016.000000</td>\n",
       "      <td id=\"T_01bf5_row3_col1\" class=\"data row3 col1\" >8</td>\n",
       "    </tr>\n",
       "    <tr>\n",
       "      <th id=\"T_01bf5_level0_row4\" class=\"row_heading level0 row4\" >4</th>\n",
       "      <td id=\"T_01bf5_row4_col0\" class=\"data row4 col0\" >2017.000000</td>\n",
       "      <td id=\"T_01bf5_row4_col1\" class=\"data row4 col1\" >19</td>\n",
       "    </tr>\n",
       "    <tr>\n",
       "      <th id=\"T_01bf5_level0_row5\" class=\"row_heading level0 row5\" >5</th>\n",
       "      <td id=\"T_01bf5_row5_col0\" class=\"data row5 col0\" >2018.000000</td>\n",
       "      <td id=\"T_01bf5_row5_col1\" class=\"data row5 col1\" >26</td>\n",
       "    </tr>\n",
       "    <tr>\n",
       "      <th id=\"T_01bf5_level0_row6\" class=\"row_heading level0 row6\" >6</th>\n",
       "      <td id=\"T_01bf5_row6_col0\" class=\"data row6 col0\" >2019.000000</td>\n",
       "      <td id=\"T_01bf5_row6_col1\" class=\"data row6 col1\" >5</td>\n",
       "    </tr>\n",
       "    <tr>\n",
       "      <th id=\"T_01bf5_level0_row7\" class=\"row_heading level0 row7\" >7</th>\n",
       "      <td id=\"T_01bf5_row7_col0\" class=\"data row7 col0\" >2020.000000</td>\n",
       "      <td id=\"T_01bf5_row7_col1\" class=\"data row7 col1\" >6</td>\n",
       "    </tr>\n",
       "  </tbody>\n",
       "</table>\n"
      ],
      "text/plain": [
       "<pandas.io.formats.style.Styler at 0x188b159a0d0>"
      ]
     },
     "execution_count": 19,
     "metadata": {},
     "output_type": "execute_result"
    }
   ],
   "source": [
    "df_resign = df_nan_alasan.groupby(['TahunResign'])['TanggalLahir'].count().reset_index()\n",
    "df_resign.columns = (['Tahun','Resign'])\n",
    "df_resign.style.background_gradient(cmap='Greens')"
   ]
  },
  {
   "cell_type": "code",
   "execution_count": 20,
   "metadata": {},
   "outputs": [
    {
     "data": {
      "text/html": [
       "<div>\n",
       "<style scoped>\n",
       "    .dataframe tbody tr th:only-of-type {\n",
       "        vertical-align: middle;\n",
       "    }\n",
       "\n",
       "    .dataframe tbody tr th {\n",
       "        vertical-align: top;\n",
       "    }\n",
       "\n",
       "    .dataframe thead th {\n",
       "        text-align: right;\n",
       "    }\n",
       "</style>\n",
       "<table border=\"1\" class=\"dataframe\">\n",
       "  <thead>\n",
       "    <tr style=\"text-align: right;\">\n",
       "      <th></th>\n",
       "      <th>AlasanResign</th>\n",
       "      <th>TanggalResign</th>\n",
       "    </tr>\n",
       "  </thead>\n",
       "  <tbody>\n",
       "    <tr>\n",
       "      <th>count</th>\n",
       "      <td>0</td>\n",
       "      <td>66</td>\n",
       "    </tr>\n",
       "    <tr>\n",
       "      <th>unique</th>\n",
       "      <td>0</td>\n",
       "      <td>1</td>\n",
       "    </tr>\n",
       "    <tr>\n",
       "      <th>top</th>\n",
       "      <td>NaN</td>\n",
       "      <td>-</td>\n",
       "    </tr>\n",
       "    <tr>\n",
       "      <th>freq</th>\n",
       "      <td>NaN</td>\n",
       "      <td>66</td>\n",
       "    </tr>\n",
       "  </tbody>\n",
       "</table>\n",
       "</div>"
      ],
      "text/plain": [
       "       AlasanResign TanggalResign\n",
       "count             0            66\n",
       "unique            0             1\n",
       "top             NaN             -\n",
       "freq            NaN            66"
      ]
     },
     "execution_count": 20,
     "metadata": {},
     "output_type": "execute_result"
    }
   ],
   "source": [
    "df_ar = df.loc[:, ['AlasanResign', 'TanggalResign']]\n",
    "df_ar = df_ar.loc[df_ar.AlasanResign.isna(), :]\n",
    "df_ar.describe()"
   ]
  },
  {
   "cell_type": "markdown",
   "metadata": {},
   "source": [
    "- There are 66 '-' values in `TanggalResign` and it's the same amount of missing value in `AlasanResign`\n",
    "- Hence, it's safe to say that all NaN can be replaced by \"masih_bekerja\" since the user has no resignation date"
   ]
  },
  {
   "cell_type": "code",
   "execution_count": 21,
   "metadata": {},
   "outputs": [
    {
     "data": {
      "text/html": [
       "<style type=\"text/css\">\n",
       "#T_9f9c1_row0_col1, #T_9f9c1_row1_col1, #T_9f9c1_row3_col2, #T_9f9c1_row4_col2, #T_9f9c1_row5_col2, #T_9f9c1_row6_col2, #T_9f9c1_row9_col2, #T_9f9c1_row10_col2, #T_9f9c1_row16_col2, #T_9f9c1_row20_col2, #T_9f9c1_row25_col2, #T_9f9c1_row26_col2, #T_9f9c1_row28_col2, #T_9f9c1_row34_col2, #T_9f9c1_row37_col2, #T_9f9c1_row38_col2, #T_9f9c1_row39_col2, #T_9f9c1_row40_col2, #T_9f9c1_row41_col2, #T_9f9c1_row43_col2 {\n",
       "  background-color: #f7fcf5;\n",
       "  color: #000000;\n",
       "}\n",
       "#T_9f9c1_row0_col2, #T_9f9c1_row2_col2, #T_9f9c1_row7_col2, #T_9f9c1_row11_col2, #T_9f9c1_row12_col2, #T_9f9c1_row13_col2, #T_9f9c1_row14_col2, #T_9f9c1_row15_col2, #T_9f9c1_row22_col2, #T_9f9c1_row23_col2, #T_9f9c1_row27_col2, #T_9f9c1_row29_col2, #T_9f9c1_row32_col2, #T_9f9c1_row36_col2 {\n",
       "  background-color: #d3eecd;\n",
       "  color: #000000;\n",
       "}\n",
       "#T_9f9c1_row1_col2, #T_9f9c1_row17_col2, #T_9f9c1_row18_col2, #T_9f9c1_row19_col2, #T_9f9c1_row21_col2, #T_9f9c1_row24_col2, #T_9f9c1_row31_col2, #T_9f9c1_row42_col2 {\n",
       "  background-color: #98d594;\n",
       "  color: #000000;\n",
       "}\n",
       "#T_9f9c1_row2_col1, #T_9f9c1_row3_col1, #T_9f9c1_row4_col1, #T_9f9c1_row5_col1, #T_9f9c1_row6_col1, #T_9f9c1_row7_col1, #T_9f9c1_row8_col1 {\n",
       "  background-color: #e1f3dc;\n",
       "  color: #000000;\n",
       "}\n",
       "#T_9f9c1_row8_col2, #T_9f9c1_row30_col2 {\n",
       "  background-color: #4bb062;\n",
       "  color: #f1f1f1;\n",
       "}\n",
       "#T_9f9c1_row9_col1, #T_9f9c1_row10_col1, #T_9f9c1_row11_col1, #T_9f9c1_row12_col1, #T_9f9c1_row13_col1 {\n",
       "  background-color: #bce4b5;\n",
       "  color: #000000;\n",
       "}\n",
       "#T_9f9c1_row14_col1, #T_9f9c1_row15_col1, #T_9f9c1_row16_col1, #T_9f9c1_row17_col1 {\n",
       "  background-color: #8ed08b;\n",
       "  color: #000000;\n",
       "}\n",
       "#T_9f9c1_row18_col1, #T_9f9c1_row19_col1, #T_9f9c1_row20_col1, #T_9f9c1_row21_col1, #T_9f9c1_row22_col1, #T_9f9c1_row23_col1, #T_9f9c1_row24_col1, #T_9f9c1_row25_col1, #T_9f9c1_row26_col1 {\n",
       "  background-color: #56b567;\n",
       "  color: #f1f1f1;\n",
       "}\n",
       "#T_9f9c1_row27_col1, #T_9f9c1_row28_col1, #T_9f9c1_row29_col1, #T_9f9c1_row30_col1, #T_9f9c1_row31_col1, #T_9f9c1_row32_col1, #T_9f9c1_row33_col1, #T_9f9c1_row34_col1, #T_9f9c1_row35_col1 {\n",
       "  background-color: #2c944c;\n",
       "  color: #f1f1f1;\n",
       "}\n",
       "#T_9f9c1_row33_col2 {\n",
       "  background-color: #157f3b;\n",
       "  color: #f1f1f1;\n",
       "}\n",
       "#T_9f9c1_row35_col2, #T_9f9c1_row40_col1, #T_9f9c1_row41_col1, #T_9f9c1_row42_col1, #T_9f9c1_row43_col1 {\n",
       "  background-color: #00441b;\n",
       "  color: #f1f1f1;\n",
       "}\n",
       "#T_9f9c1_row36_col1, #T_9f9c1_row37_col1, #T_9f9c1_row38_col1, #T_9f9c1_row39_col1 {\n",
       "  background-color: #05712f;\n",
       "  color: #f1f1f1;\n",
       "}\n",
       "</style>\n",
       "<table id=\"T_9f9c1\">\n",
       "  <thead>\n",
       "    <tr>\n",
       "      <th class=\"blank level0\" >&nbsp;</th>\n",
       "      <th id=\"T_9f9c1_level0_col0\" class=\"col_heading level0 col0\" >AlasanResign</th>\n",
       "      <th id=\"T_9f9c1_level0_col1\" class=\"col_heading level0 col1\" >TahunResign</th>\n",
       "      <th id=\"T_9f9c1_level0_col2\" class=\"col_heading level0 col2\" >TanggalLahir</th>\n",
       "    </tr>\n",
       "  </thead>\n",
       "  <tbody>\n",
       "    <tr>\n",
       "      <th id=\"T_9f9c1_level0_row0\" class=\"row_heading level0 row0\" >5</th>\n",
       "      <td id=\"T_9f9c1_row0_col0\" class=\"data row0 col0\" >ganti_karir</td>\n",
       "      <td id=\"T_9f9c1_row0_col1\" class=\"data row0 col1\" >2013.000000</td>\n",
       "      <td id=\"T_9f9c1_row0_col2\" class=\"data row0 col2\" >2</td>\n",
       "    </tr>\n",
       "    <tr>\n",
       "      <th id=\"T_9f9c1_level0_row1\" class=\"row_heading level0 row1\" >24</th>\n",
       "      <td id=\"T_9f9c1_row1_col0\" class=\"data row1 col0\" >leadership</td>\n",
       "      <td id=\"T_9f9c1_row1_col1\" class=\"data row1 col1\" >2013.000000</td>\n",
       "      <td id=\"T_9f9c1_row1_col2\" class=\"data row1 col2\" >3</td>\n",
       "    </tr>\n",
       "    <tr>\n",
       "      <th id=\"T_9f9c1_level0_row2\" class=\"row_heading level0 row2\" >38</th>\n",
       "      <td id=\"T_9f9c1_row2_col0\" class=\"data row2 col0\" >toxic_culture</td>\n",
       "      <td id=\"T_9f9c1_row2_col1\" class=\"data row2 col1\" >2014.000000</td>\n",
       "      <td id=\"T_9f9c1_row2_col2\" class=\"data row2 col2\" >2</td>\n",
       "    </tr>\n",
       "    <tr>\n",
       "      <th id=\"T_9f9c1_level0_row3\" class=\"row_heading level0 row3\" >6</th>\n",
       "      <td id=\"T_9f9c1_row3_col0\" class=\"data row3 col0\" >ganti_karir</td>\n",
       "      <td id=\"T_9f9c1_row3_col1\" class=\"data row3 col1\" >2014.000000</td>\n",
       "      <td id=\"T_9f9c1_row3_col2\" class=\"data row3 col2\" >1</td>\n",
       "    </tr>\n",
       "    <tr>\n",
       "      <th id=\"T_9f9c1_level0_row4\" class=\"row_heading level0 row4\" >32</th>\n",
       "      <td id=\"T_9f9c1_row4_col0\" class=\"data row4 col0\" >tidak_bisa_remote</td>\n",
       "      <td id=\"T_9f9c1_row4_col1\" class=\"data row4 col1\" >2014.000000</td>\n",
       "      <td id=\"T_9f9c1_row4_col2\" class=\"data row4 col2\" >1</td>\n",
       "    </tr>\n",
       "    <tr>\n",
       "      <th id=\"T_9f9c1_level0_row5\" class=\"row_heading level0 row5\" >28</th>\n",
       "      <td id=\"T_9f9c1_row5_col0\" class=\"data row5 col0\" >tidak_bahagia</td>\n",
       "      <td id=\"T_9f9c1_row5_col1\" class=\"data row5 col1\" >2014.000000</td>\n",
       "      <td id=\"T_9f9c1_row5_col2\" class=\"data row5 col2\" >1</td>\n",
       "    </tr>\n",
       "    <tr>\n",
       "      <th id=\"T_9f9c1_level0_row6\" class=\"row_heading level0 row6\" >25</th>\n",
       "      <td id=\"T_9f9c1_row6_col0\" class=\"data row6 col0\" >leadership</td>\n",
       "      <td id=\"T_9f9c1_row6_col1\" class=\"data row6 col1\" >2014.000000</td>\n",
       "      <td id=\"T_9f9c1_row6_col2\" class=\"data row6 col2\" >1</td>\n",
       "    </tr>\n",
       "    <tr>\n",
       "      <th id=\"T_9f9c1_level0_row7\" class=\"row_heading level0 row7\" >20</th>\n",
       "      <td id=\"T_9f9c1_row7_col0\" class=\"data row7 col0\" >kejelasan_karir</td>\n",
       "      <td id=\"T_9f9c1_row7_col1\" class=\"data row7 col1\" >2014.000000</td>\n",
       "      <td id=\"T_9f9c1_row7_col2\" class=\"data row7 col2\" >2</td>\n",
       "    </tr>\n",
       "    <tr>\n",
       "      <th id=\"T_9f9c1_level0_row8\" class=\"row_heading level0 row8\" >15</th>\n",
       "      <td id=\"T_9f9c1_row8_col0\" class=\"data row8 col0\" >jam_kerja</td>\n",
       "      <td id=\"T_9f9c1_row8_col1\" class=\"data row8 col1\" >2014.000000</td>\n",
       "      <td id=\"T_9f9c1_row8_col2\" class=\"data row8 col2\" >4</td>\n",
       "    </tr>\n",
       "    <tr>\n",
       "      <th id=\"T_9f9c1_level0_row9\" class=\"row_heading level0 row9\" >39</th>\n",
       "      <td id=\"T_9f9c1_row9_col0\" class=\"data row9 col0\" >toxic_culture</td>\n",
       "      <td id=\"T_9f9c1_row9_col1\" class=\"data row9 col1\" >2015.000000</td>\n",
       "      <td id=\"T_9f9c1_row9_col2\" class=\"data row9 col2\" >1</td>\n",
       "    </tr>\n",
       "    <tr>\n",
       "      <th id=\"T_9f9c1_level0_row10\" class=\"row_heading level0 row10\" >33</th>\n",
       "      <td id=\"T_9f9c1_row10_col0\" class=\"data row10 col0\" >tidak_bisa_remote</td>\n",
       "      <td id=\"T_9f9c1_row10_col1\" class=\"data row10 col1\" >2015.000000</td>\n",
       "      <td id=\"T_9f9c1_row10_col2\" class=\"data row10 col2\" >1</td>\n",
       "    </tr>\n",
       "    <tr>\n",
       "      <th id=\"T_9f9c1_level0_row11\" class=\"row_heading level0 row11\" >7</th>\n",
       "      <td id=\"T_9f9c1_row11_col0\" class=\"data row11 col0\" >ganti_karir</td>\n",
       "      <td id=\"T_9f9c1_row11_col1\" class=\"data row11 col1\" >2015.000000</td>\n",
       "      <td id=\"T_9f9c1_row11_col2\" class=\"data row11 col2\" >2</td>\n",
       "    </tr>\n",
       "    <tr>\n",
       "      <th id=\"T_9f9c1_level0_row12\" class=\"row_heading level0 row12\" >29</th>\n",
       "      <td id=\"T_9f9c1_row12_col0\" class=\"data row12 col0\" >tidak_bahagia</td>\n",
       "      <td id=\"T_9f9c1_row12_col1\" class=\"data row12 col1\" >2015.000000</td>\n",
       "      <td id=\"T_9f9c1_row12_col2\" class=\"data row12 col2\" >2</td>\n",
       "    </tr>\n",
       "    <tr>\n",
       "      <th id=\"T_9f9c1_level0_row13\" class=\"row_heading level0 row13\" >16</th>\n",
       "      <td id=\"T_9f9c1_row13_col0\" class=\"data row13 col0\" >jam_kerja</td>\n",
       "      <td id=\"T_9f9c1_row13_col1\" class=\"data row13 col1\" >2015.000000</td>\n",
       "      <td id=\"T_9f9c1_row13_col2\" class=\"data row13 col2\" >2</td>\n",
       "    </tr>\n",
       "    <tr>\n",
       "      <th id=\"T_9f9c1_level0_row14\" class=\"row_heading level0 row14\" >0</th>\n",
       "      <td id=\"T_9f9c1_row14_col0\" class=\"data row14 col0\" >Product Design (UI & UX)</td>\n",
       "      <td id=\"T_9f9c1_row14_col1\" class=\"data row14 col1\" >2016.000000</td>\n",
       "      <td id=\"T_9f9c1_row14_col2\" class=\"data row14 col2\" >2</td>\n",
       "    </tr>\n",
       "    <tr>\n",
       "      <th id=\"T_9f9c1_level0_row15\" class=\"row_heading level0 row15\" >34</th>\n",
       "      <td id=\"T_9f9c1_row15_col0\" class=\"data row15 col0\" >tidak_bisa_remote</td>\n",
       "      <td id=\"T_9f9c1_row15_col1\" class=\"data row15 col1\" >2016.000000</td>\n",
       "      <td id=\"T_9f9c1_row15_col2\" class=\"data row15 col2\" >2</td>\n",
       "    </tr>\n",
       "    <tr>\n",
       "      <th id=\"T_9f9c1_level0_row16\" class=\"row_heading level0 row16\" >21</th>\n",
       "      <td id=\"T_9f9c1_row16_col0\" class=\"data row16 col0\" >kejelasan_karir</td>\n",
       "      <td id=\"T_9f9c1_row16_col1\" class=\"data row16 col1\" >2016.000000</td>\n",
       "      <td id=\"T_9f9c1_row16_col2\" class=\"data row16 col2\" >1</td>\n",
       "    </tr>\n",
       "    <tr>\n",
       "      <th id=\"T_9f9c1_level0_row17\" class=\"row_heading level0 row17\" >8</th>\n",
       "      <td id=\"T_9f9c1_row17_col0\" class=\"data row17 col0\" >ganti_karir</td>\n",
       "      <td id=\"T_9f9c1_row17_col1\" class=\"data row17 col1\" >2016.000000</td>\n",
       "      <td id=\"T_9f9c1_row17_col2\" class=\"data row17 col2\" >3</td>\n",
       "    </tr>\n",
       "    <tr>\n",
       "      <th id=\"T_9f9c1_level0_row18\" class=\"row_heading level0 row18\" >17</th>\n",
       "      <td id=\"T_9f9c1_row18_col0\" class=\"data row18 col0\" >jam_kerja</td>\n",
       "      <td id=\"T_9f9c1_row18_col1\" class=\"data row18 col1\" >2017.000000</td>\n",
       "      <td id=\"T_9f9c1_row18_col2\" class=\"data row18 col2\" >3</td>\n",
       "    </tr>\n",
       "    <tr>\n",
       "      <th id=\"T_9f9c1_level0_row19\" class=\"row_heading level0 row19\" >40</th>\n",
       "      <td id=\"T_9f9c1_row19_col0\" class=\"data row19 col0\" >toxic_culture</td>\n",
       "      <td id=\"T_9f9c1_row19_col1\" class=\"data row19 col1\" >2017.000000</td>\n",
       "      <td id=\"T_9f9c1_row19_col2\" class=\"data row19 col2\" >3</td>\n",
       "    </tr>\n",
       "    <tr>\n",
       "      <th id=\"T_9f9c1_level0_row20\" class=\"row_heading level0 row20\" >1</th>\n",
       "      <td id=\"T_9f9c1_row20_col0\" class=\"data row20 col0\" >Product Design (UI & UX)</td>\n",
       "      <td id=\"T_9f9c1_row20_col1\" class=\"data row20 col1\" >2017.000000</td>\n",
       "      <td id=\"T_9f9c1_row20_col2\" class=\"data row20 col2\" >1</td>\n",
       "    </tr>\n",
       "    <tr>\n",
       "      <th id=\"T_9f9c1_level0_row21\" class=\"row_heading level0 row21\" >22</th>\n",
       "      <td id=\"T_9f9c1_row21_col0\" class=\"data row21 col0\" >kejelasan_karir</td>\n",
       "      <td id=\"T_9f9c1_row21_col1\" class=\"data row21 col1\" >2017.000000</td>\n",
       "      <td id=\"T_9f9c1_row21_col2\" class=\"data row21 col2\" >3</td>\n",
       "    </tr>\n",
       "    <tr>\n",
       "      <th id=\"T_9f9c1_level0_row22\" class=\"row_heading level0 row22\" >12</th>\n",
       "      <td id=\"T_9f9c1_row22_col0\" class=\"data row22 col0\" >internal_conflict</td>\n",
       "      <td id=\"T_9f9c1_row22_col1\" class=\"data row22 col1\" >2017.000000</td>\n",
       "      <td id=\"T_9f9c1_row22_col2\" class=\"data row22 col2\" >2</td>\n",
       "    </tr>\n",
       "    <tr>\n",
       "      <th id=\"T_9f9c1_level0_row23\" class=\"row_heading level0 row23\" >35</th>\n",
       "      <td id=\"T_9f9c1_row23_col0\" class=\"data row23 col0\" >tidak_bisa_remote</td>\n",
       "      <td id=\"T_9f9c1_row23_col1\" class=\"data row23 col1\" >2017.000000</td>\n",
       "      <td id=\"T_9f9c1_row23_col2\" class=\"data row23 col2\" >2</td>\n",
       "    </tr>\n",
       "    <tr>\n",
       "      <th id=\"T_9f9c1_level0_row24\" class=\"row_heading level0 row24\" >26</th>\n",
       "      <td id=\"T_9f9c1_row24_col0\" class=\"data row24 col0\" >leadership</td>\n",
       "      <td id=\"T_9f9c1_row24_col1\" class=\"data row24 col1\" >2017.000000</td>\n",
       "      <td id=\"T_9f9c1_row24_col2\" class=\"data row24 col2\" >3</td>\n",
       "    </tr>\n",
       "    <tr>\n",
       "      <th id=\"T_9f9c1_level0_row25\" class=\"row_heading level0 row25\" >3</th>\n",
       "      <td id=\"T_9f9c1_row25_col0\" class=\"data row25 col0\" >apresiasi</td>\n",
       "      <td id=\"T_9f9c1_row25_col1\" class=\"data row25 col1\" >2017.000000</td>\n",
       "      <td id=\"T_9f9c1_row25_col2\" class=\"data row25 col2\" >1</td>\n",
       "    </tr>\n",
       "    <tr>\n",
       "      <th id=\"T_9f9c1_level0_row26\" class=\"row_heading level0 row26\" >9</th>\n",
       "      <td id=\"T_9f9c1_row26_col0\" class=\"data row26 col0\" >ganti_karir</td>\n",
       "      <td id=\"T_9f9c1_row26_col1\" class=\"data row26 col1\" >2017.000000</td>\n",
       "      <td id=\"T_9f9c1_row26_col2\" class=\"data row26 col2\" >1</td>\n",
       "    </tr>\n",
       "    <tr>\n",
       "      <th id=\"T_9f9c1_level0_row27\" class=\"row_heading level0 row27\" >41</th>\n",
       "      <td id=\"T_9f9c1_row27_col0\" class=\"data row27 col0\" >toxic_culture</td>\n",
       "      <td id=\"T_9f9c1_row27_col1\" class=\"data row27 col1\" >2018.000000</td>\n",
       "      <td id=\"T_9f9c1_row27_col2\" class=\"data row27 col2\" >2</td>\n",
       "    </tr>\n",
       "    <tr>\n",
       "      <th id=\"T_9f9c1_level0_row28\" class=\"row_heading level0 row28\" >2</th>\n",
       "      <td id=\"T_9f9c1_row28_col0\" class=\"data row28 col0\" >Product Design (UI & UX)</td>\n",
       "      <td id=\"T_9f9c1_row28_col1\" class=\"data row28 col1\" >2018.000000</td>\n",
       "      <td id=\"T_9f9c1_row28_col2\" class=\"data row28 col2\" >1</td>\n",
       "    </tr>\n",
       "    <tr>\n",
       "      <th id=\"T_9f9c1_level0_row29\" class=\"row_heading level0 row29\" >36</th>\n",
       "      <td id=\"T_9f9c1_row29_col0\" class=\"data row29 col0\" >tidak_bisa_remote</td>\n",
       "      <td id=\"T_9f9c1_row29_col1\" class=\"data row29 col1\" >2018.000000</td>\n",
       "      <td id=\"T_9f9c1_row29_col2\" class=\"data row29 col2\" >2</td>\n",
       "    </tr>\n",
       "    <tr>\n",
       "      <th id=\"T_9f9c1_level0_row30\" class=\"row_heading level0 row30\" >30</th>\n",
       "      <td id=\"T_9f9c1_row30_col0\" class=\"data row30 col0\" >tidak_bahagia</td>\n",
       "      <td id=\"T_9f9c1_row30_col1\" class=\"data row30 col1\" >2018.000000</td>\n",
       "      <td id=\"T_9f9c1_row30_col2\" class=\"data row30 col2\" >4</td>\n",
       "    </tr>\n",
       "    <tr>\n",
       "      <th id=\"T_9f9c1_level0_row31\" class=\"row_heading level0 row31\" >10</th>\n",
       "      <td id=\"T_9f9c1_row31_col0\" class=\"data row31 col0\" >ganti_karir</td>\n",
       "      <td id=\"T_9f9c1_row31_col1\" class=\"data row31 col1\" >2018.000000</td>\n",
       "      <td id=\"T_9f9c1_row31_col2\" class=\"data row31 col2\" >3</td>\n",
       "    </tr>\n",
       "    <tr>\n",
       "      <th id=\"T_9f9c1_level0_row32\" class=\"row_heading level0 row32\" >27</th>\n",
       "      <td id=\"T_9f9c1_row32_col0\" class=\"data row32 col0\" >leadership</td>\n",
       "      <td id=\"T_9f9c1_row32_col1\" class=\"data row32 col1\" >2018.000000</td>\n",
       "      <td id=\"T_9f9c1_row32_col2\" class=\"data row32 col2\" >2</td>\n",
       "    </tr>\n",
       "    <tr>\n",
       "      <th id=\"T_9f9c1_level0_row33\" class=\"row_heading level0 row33\" >23</th>\n",
       "      <td id=\"T_9f9c1_row33_col0\" class=\"data row33 col0\" >kejelasan_karir</td>\n",
       "      <td id=\"T_9f9c1_row33_col1\" class=\"data row33 col1\" >2018.000000</td>\n",
       "      <td id=\"T_9f9c1_row33_col2\" class=\"data row33 col2\" >5</td>\n",
       "    </tr>\n",
       "    <tr>\n",
       "      <th id=\"T_9f9c1_level0_row34\" class=\"row_heading level0 row34\" >13</th>\n",
       "      <td id=\"T_9f9c1_row34_col0\" class=\"data row34 col0\" >internal_conflict</td>\n",
       "      <td id=\"T_9f9c1_row34_col1\" class=\"data row34 col1\" >2018.000000</td>\n",
       "      <td id=\"T_9f9c1_row34_col2\" class=\"data row34 col2\" >1</td>\n",
       "    </tr>\n",
       "    <tr>\n",
       "      <th id=\"T_9f9c1_level0_row35\" class=\"row_heading level0 row35\" >18</th>\n",
       "      <td id=\"T_9f9c1_row35_col0\" class=\"data row35 col0\" >jam_kerja</td>\n",
       "      <td id=\"T_9f9c1_row35_col1\" class=\"data row35 col1\" >2018.000000</td>\n",
       "      <td id=\"T_9f9c1_row35_col2\" class=\"data row35 col2\" >6</td>\n",
       "    </tr>\n",
       "    <tr>\n",
       "      <th id=\"T_9f9c1_level0_row36\" class=\"row_heading level0 row36\" >11</th>\n",
       "      <td id=\"T_9f9c1_row36_col0\" class=\"data row36 col0\" >ganti_karir</td>\n",
       "      <td id=\"T_9f9c1_row36_col1\" class=\"data row36 col1\" >2019.000000</td>\n",
       "      <td id=\"T_9f9c1_row36_col2\" class=\"data row36 col2\" >2</td>\n",
       "    </tr>\n",
       "    <tr>\n",
       "      <th id=\"T_9f9c1_level0_row37\" class=\"row_heading level0 row37\" >42</th>\n",
       "      <td id=\"T_9f9c1_row37_col0\" class=\"data row37 col0\" >toxic_culture</td>\n",
       "      <td id=\"T_9f9c1_row37_col1\" class=\"data row37 col1\" >2019.000000</td>\n",
       "      <td id=\"T_9f9c1_row37_col2\" class=\"data row37 col2\" >1</td>\n",
       "    </tr>\n",
       "    <tr>\n",
       "      <th id=\"T_9f9c1_level0_row38\" class=\"row_heading level0 row38\" >19</th>\n",
       "      <td id=\"T_9f9c1_row38_col0\" class=\"data row38 col0\" >jam_kerja</td>\n",
       "      <td id=\"T_9f9c1_row38_col1\" class=\"data row38 col1\" >2019.000000</td>\n",
       "      <td id=\"T_9f9c1_row38_col2\" class=\"data row38 col2\" >1</td>\n",
       "    </tr>\n",
       "    <tr>\n",
       "      <th id=\"T_9f9c1_level0_row39\" class=\"row_heading level0 row39\" >14</th>\n",
       "      <td id=\"T_9f9c1_row39_col0\" class=\"data row39 col0\" >internal_conflict</td>\n",
       "      <td id=\"T_9f9c1_row39_col1\" class=\"data row39 col1\" >2019.000000</td>\n",
       "      <td id=\"T_9f9c1_row39_col2\" class=\"data row39 col2\" >1</td>\n",
       "    </tr>\n",
       "    <tr>\n",
       "      <th id=\"T_9f9c1_level0_row40\" class=\"row_heading level0 row40\" >31</th>\n",
       "      <td id=\"T_9f9c1_row40_col0\" class=\"data row40 col0\" >tidak_bahagia</td>\n",
       "      <td id=\"T_9f9c1_row40_col1\" class=\"data row40 col1\" >2020.000000</td>\n",
       "      <td id=\"T_9f9c1_row40_col2\" class=\"data row40 col2\" >1</td>\n",
       "    </tr>\n",
       "    <tr>\n",
       "      <th id=\"T_9f9c1_level0_row41\" class=\"row_heading level0 row41\" >4</th>\n",
       "      <td id=\"T_9f9c1_row41_col0\" class=\"data row41 col0\" >apresiasi</td>\n",
       "      <td id=\"T_9f9c1_row41_col1\" class=\"data row41 col1\" >2020.000000</td>\n",
       "      <td id=\"T_9f9c1_row41_col2\" class=\"data row41 col2\" >1</td>\n",
       "    </tr>\n",
       "    <tr>\n",
       "      <th id=\"T_9f9c1_level0_row42\" class=\"row_heading level0 row42\" >37</th>\n",
       "      <td id=\"T_9f9c1_row42_col0\" class=\"data row42 col0\" >tidak_bisa_remote</td>\n",
       "      <td id=\"T_9f9c1_row42_col1\" class=\"data row42 col1\" >2020.000000</td>\n",
       "      <td id=\"T_9f9c1_row42_col2\" class=\"data row42 col2\" >3</td>\n",
       "    </tr>\n",
       "    <tr>\n",
       "      <th id=\"T_9f9c1_level0_row43\" class=\"row_heading level0 row43\" >43</th>\n",
       "      <td id=\"T_9f9c1_row43_col0\" class=\"data row43 col0\" >toxic_culture</td>\n",
       "      <td id=\"T_9f9c1_row43_col1\" class=\"data row43 col1\" >2020.000000</td>\n",
       "      <td id=\"T_9f9c1_row43_col2\" class=\"data row43 col2\" >1</td>\n",
       "    </tr>\n",
       "  </tbody>\n",
       "</table>\n"
      ],
      "text/plain": [
       "<pandas.io.formats.style.Styler at 0x188b0baec50>"
      ]
     },
     "execution_count": 21,
     "metadata": {},
     "output_type": "execute_result"
    }
   ],
   "source": [
    "df_alasan = df_nan_alasan.groupby(['AlasanResign', 'TahunResign'])['TanggalLahir'].count().reset_index()\n",
    "df_alasan.sort_values(by='TahunResign').style.background_gradient(cmap='Greens')"
   ]
  },
  {
   "cell_type": "markdown",
   "metadata": {},
   "source": [
    "## **Bivariate Analysis**"
   ]
  },
  {
   "cell_type": "code",
   "execution_count": 22,
   "metadata": {},
   "outputs": [
    {
     "data": {
      "text/html": [
       "<style type=\"text/css\">\n",
       "#T_df528_row0_col1, #T_df528_row1_col1, #T_df528_row3_col1, #T_df528_row11_col1, #T_df528_row16_col1, #T_df528_row17_col1, #T_df528_row19_col1, #T_df528_row29_col1, #T_df528_row39_col1 {\n",
       "  background-color: #2c944c;\n",
       "  color: #f1f1f1;\n",
       "}\n",
       "#T_df528_row0_col2, #T_df528_row9_col1, #T_df528_row32_col1, #T_df528_row37_col1, #T_df528_row43_col1 {\n",
       "  background-color: #00441b;\n",
       "  color: #f1f1f1;\n",
       "}\n",
       "#T_df528_row1_col2 {\n",
       "  background-color: #157f3b;\n",
       "  color: #f1f1f1;\n",
       "}\n",
       "#T_df528_row2_col1, #T_df528_row13_col1, #T_df528_row18_col1, #T_df528_row33_col1, #T_df528_row34_col1, #T_df528_row38_col1, #T_df528_row41_col1 {\n",
       "  background-color: #e1f3dc;\n",
       "  color: #000000;\n",
       "}\n",
       "#T_df528_row2_col2, #T_df528_row3_col2 {\n",
       "  background-color: #4bb062;\n",
       "  color: #f1f1f1;\n",
       "}\n",
       "#T_df528_row4_col1, #T_df528_row12_col1, #T_df528_row20_col1, #T_df528_row26_col1 {\n",
       "  background-color: #8ed08b;\n",
       "  color: #000000;\n",
       "}\n",
       "#T_df528_row4_col2, #T_df528_row5_col2, #T_df528_row6_col2, #T_df528_row7_col2, #T_df528_row8_col2, #T_df528_row9_col2, #T_df528_row10_col2, #T_df528_row11_col2 {\n",
       "  background-color: #98d594;\n",
       "  color: #000000;\n",
       "}\n",
       "#T_df528_row5_col1, #T_df528_row7_col1, #T_df528_row8_col1, #T_df528_row10_col1, #T_df528_row14_col1, #T_df528_row22_col1, #T_df528_row27_col1, #T_df528_row30_col1, #T_df528_row36_col1 {\n",
       "  background-color: #56b567;\n",
       "  color: #f1f1f1;\n",
       "}\n",
       "#T_df528_row6_col1, #T_df528_row24_col1, #T_df528_row26_col2, #T_df528_row27_col2, #T_df528_row28_col2, #T_df528_row29_col2, #T_df528_row30_col2, #T_df528_row31_col2, #T_df528_row32_col2, #T_df528_row33_col2, #T_df528_row34_col2, #T_df528_row35_col2, #T_df528_row36_col2, #T_df528_row37_col2, #T_df528_row38_col2, #T_df528_row39_col2, #T_df528_row40_col2, #T_df528_row41_col2, #T_df528_row42_col2, #T_df528_row43_col2 {\n",
       "  background-color: #f7fcf5;\n",
       "  color: #000000;\n",
       "}\n",
       "#T_df528_row12_col2, #T_df528_row13_col2, #T_df528_row14_col2, #T_df528_row15_col2, #T_df528_row16_col2, #T_df528_row17_col2, #T_df528_row18_col2, #T_df528_row19_col2, #T_df528_row20_col2, #T_df528_row21_col2, #T_df528_row22_col2, #T_df528_row23_col2, #T_df528_row24_col2, #T_df528_row25_col2 {\n",
       "  background-color: #d3eecd;\n",
       "  color: #000000;\n",
       "}\n",
       "#T_df528_row15_col1, #T_df528_row21_col1, #T_df528_row25_col1, #T_df528_row31_col1, #T_df528_row35_col1 {\n",
       "  background-color: #bce4b5;\n",
       "  color: #000000;\n",
       "}\n",
       "#T_df528_row23_col1, #T_df528_row28_col1, #T_df528_row40_col1, #T_df528_row42_col1 {\n",
       "  background-color: #05712f;\n",
       "  color: #f1f1f1;\n",
       "}\n",
       "</style>\n",
       "<table id=\"T_df528\">\n",
       "  <thead>\n",
       "    <tr>\n",
       "      <th class=\"blank level0\" >&nbsp;</th>\n",
       "      <th id=\"T_df528_level0_col0\" class=\"col_heading level0 col0\" >AlasanResign</th>\n",
       "      <th id=\"T_df528_level0_col1\" class=\"col_heading level0 col1\" >TahunResign</th>\n",
       "      <th id=\"T_df528_level0_col2\" class=\"col_heading level0 col2\" >TanggalLahir</th>\n",
       "    </tr>\n",
       "  </thead>\n",
       "  <tbody>\n",
       "    <tr>\n",
       "      <th id=\"T_df528_level0_row0\" class=\"row_heading level0 row0\" >18</th>\n",
       "      <td id=\"T_df528_row0_col0\" class=\"data row0 col0\" >jam_kerja</td>\n",
       "      <td id=\"T_df528_row0_col1\" class=\"data row0 col1\" >2018.000000</td>\n",
       "      <td id=\"T_df528_row0_col2\" class=\"data row0 col2\" >6</td>\n",
       "    </tr>\n",
       "    <tr>\n",
       "      <th id=\"T_df528_level0_row1\" class=\"row_heading level0 row1\" >23</th>\n",
       "      <td id=\"T_df528_row1_col0\" class=\"data row1 col0\" >kejelasan_karir</td>\n",
       "      <td id=\"T_df528_row1_col1\" class=\"data row1 col1\" >2018.000000</td>\n",
       "      <td id=\"T_df528_row1_col2\" class=\"data row1 col2\" >5</td>\n",
       "    </tr>\n",
       "    <tr>\n",
       "      <th id=\"T_df528_level0_row2\" class=\"row_heading level0 row2\" >15</th>\n",
       "      <td id=\"T_df528_row2_col0\" class=\"data row2 col0\" >jam_kerja</td>\n",
       "      <td id=\"T_df528_row2_col1\" class=\"data row2 col1\" >2014.000000</td>\n",
       "      <td id=\"T_df528_row2_col2\" class=\"data row2 col2\" >4</td>\n",
       "    </tr>\n",
       "    <tr>\n",
       "      <th id=\"T_df528_level0_row3\" class=\"row_heading level0 row3\" >30</th>\n",
       "      <td id=\"T_df528_row3_col0\" class=\"data row3 col0\" >tidak_bahagia</td>\n",
       "      <td id=\"T_df528_row3_col1\" class=\"data row3 col1\" >2018.000000</td>\n",
       "      <td id=\"T_df528_row3_col2\" class=\"data row3 col2\" >4</td>\n",
       "    </tr>\n",
       "    <tr>\n",
       "      <th id=\"T_df528_level0_row4\" class=\"row_heading level0 row4\" >8</th>\n",
       "      <td id=\"T_df528_row4_col0\" class=\"data row4 col0\" >ganti_karir</td>\n",
       "      <td id=\"T_df528_row4_col1\" class=\"data row4 col1\" >2016.000000</td>\n",
       "      <td id=\"T_df528_row4_col2\" class=\"data row4 col2\" >3</td>\n",
       "    </tr>\n",
       "    <tr>\n",
       "      <th id=\"T_df528_level0_row5\" class=\"row_heading level0 row5\" >17</th>\n",
       "      <td id=\"T_df528_row5_col0\" class=\"data row5 col0\" >jam_kerja</td>\n",
       "      <td id=\"T_df528_row5_col1\" class=\"data row5 col1\" >2017.000000</td>\n",
       "      <td id=\"T_df528_row5_col2\" class=\"data row5 col2\" >3</td>\n",
       "    </tr>\n",
       "    <tr>\n",
       "      <th id=\"T_df528_level0_row6\" class=\"row_heading level0 row6\" >24</th>\n",
       "      <td id=\"T_df528_row6_col0\" class=\"data row6 col0\" >leadership</td>\n",
       "      <td id=\"T_df528_row6_col1\" class=\"data row6 col1\" >2013.000000</td>\n",
       "      <td id=\"T_df528_row6_col2\" class=\"data row6 col2\" >3</td>\n",
       "    </tr>\n",
       "    <tr>\n",
       "      <th id=\"T_df528_level0_row7\" class=\"row_heading level0 row7\" >26</th>\n",
       "      <td id=\"T_df528_row7_col0\" class=\"data row7 col0\" >leadership</td>\n",
       "      <td id=\"T_df528_row7_col1\" class=\"data row7 col1\" >2017.000000</td>\n",
       "      <td id=\"T_df528_row7_col2\" class=\"data row7 col2\" >3</td>\n",
       "    </tr>\n",
       "    <tr>\n",
       "      <th id=\"T_df528_level0_row8\" class=\"row_heading level0 row8\" >22</th>\n",
       "      <td id=\"T_df528_row8_col0\" class=\"data row8 col0\" >kejelasan_karir</td>\n",
       "      <td id=\"T_df528_row8_col1\" class=\"data row8 col1\" >2017.000000</td>\n",
       "      <td id=\"T_df528_row8_col2\" class=\"data row8 col2\" >3</td>\n",
       "    </tr>\n",
       "    <tr>\n",
       "      <th id=\"T_df528_level0_row9\" class=\"row_heading level0 row9\" >37</th>\n",
       "      <td id=\"T_df528_row9_col0\" class=\"data row9 col0\" >tidak_bisa_remote</td>\n",
       "      <td id=\"T_df528_row9_col1\" class=\"data row9 col1\" >2020.000000</td>\n",
       "      <td id=\"T_df528_row9_col2\" class=\"data row9 col2\" >3</td>\n",
       "    </tr>\n",
       "    <tr>\n",
       "      <th id=\"T_df528_level0_row10\" class=\"row_heading level0 row10\" >40</th>\n",
       "      <td id=\"T_df528_row10_col0\" class=\"data row10 col0\" >toxic_culture</td>\n",
       "      <td id=\"T_df528_row10_col1\" class=\"data row10 col1\" >2017.000000</td>\n",
       "      <td id=\"T_df528_row10_col2\" class=\"data row10 col2\" >3</td>\n",
       "    </tr>\n",
       "    <tr>\n",
       "      <th id=\"T_df528_level0_row11\" class=\"row_heading level0 row11\" >10</th>\n",
       "      <td id=\"T_df528_row11_col0\" class=\"data row11 col0\" >ganti_karir</td>\n",
       "      <td id=\"T_df528_row11_col1\" class=\"data row11 col1\" >2018.000000</td>\n",
       "      <td id=\"T_df528_row11_col2\" class=\"data row11 col2\" >3</td>\n",
       "    </tr>\n",
       "    <tr>\n",
       "      <th id=\"T_df528_level0_row12\" class=\"row_heading level0 row12\" >34</th>\n",
       "      <td id=\"T_df528_row12_col0\" class=\"data row12 col0\" >tidak_bisa_remote</td>\n",
       "      <td id=\"T_df528_row12_col1\" class=\"data row12 col1\" >2016.000000</td>\n",
       "      <td id=\"T_df528_row12_col2\" class=\"data row12 col2\" >2</td>\n",
       "    </tr>\n",
       "    <tr>\n",
       "      <th id=\"T_df528_level0_row13\" class=\"row_heading level0 row13\" >20</th>\n",
       "      <td id=\"T_df528_row13_col0\" class=\"data row13 col0\" >kejelasan_karir</td>\n",
       "      <td id=\"T_df528_row13_col1\" class=\"data row13 col1\" >2014.000000</td>\n",
       "      <td id=\"T_df528_row13_col2\" class=\"data row13 col2\" >2</td>\n",
       "    </tr>\n",
       "    <tr>\n",
       "      <th id=\"T_df528_level0_row14\" class=\"row_heading level0 row14\" >35</th>\n",
       "      <td id=\"T_df528_row14_col0\" class=\"data row14 col0\" >tidak_bisa_remote</td>\n",
       "      <td id=\"T_df528_row14_col1\" class=\"data row14 col1\" >2017.000000</td>\n",
       "      <td id=\"T_df528_row14_col2\" class=\"data row14 col2\" >2</td>\n",
       "    </tr>\n",
       "    <tr>\n",
       "      <th id=\"T_df528_level0_row15\" class=\"row_heading level0 row15\" >29</th>\n",
       "      <td id=\"T_df528_row15_col0\" class=\"data row15 col0\" >tidak_bahagia</td>\n",
       "      <td id=\"T_df528_row15_col1\" class=\"data row15 col1\" >2015.000000</td>\n",
       "      <td id=\"T_df528_row15_col2\" class=\"data row15 col2\" >2</td>\n",
       "    </tr>\n",
       "    <tr>\n",
       "      <th id=\"T_df528_level0_row16\" class=\"row_heading level0 row16\" >27</th>\n",
       "      <td id=\"T_df528_row16_col0\" class=\"data row16 col0\" >leadership</td>\n",
       "      <td id=\"T_df528_row16_col1\" class=\"data row16 col1\" >2018.000000</td>\n",
       "      <td id=\"T_df528_row16_col2\" class=\"data row16 col2\" >2</td>\n",
       "    </tr>\n",
       "    <tr>\n",
       "      <th id=\"T_df528_level0_row17\" class=\"row_heading level0 row17\" >36</th>\n",
       "      <td id=\"T_df528_row17_col0\" class=\"data row17 col0\" >tidak_bisa_remote</td>\n",
       "      <td id=\"T_df528_row17_col1\" class=\"data row17 col1\" >2018.000000</td>\n",
       "      <td id=\"T_df528_row17_col2\" class=\"data row17 col2\" >2</td>\n",
       "    </tr>\n",
       "    <tr>\n",
       "      <th id=\"T_df528_level0_row18\" class=\"row_heading level0 row18\" >38</th>\n",
       "      <td id=\"T_df528_row18_col0\" class=\"data row18 col0\" >toxic_culture</td>\n",
       "      <td id=\"T_df528_row18_col1\" class=\"data row18 col1\" >2014.000000</td>\n",
       "      <td id=\"T_df528_row18_col2\" class=\"data row18 col2\" >2</td>\n",
       "    </tr>\n",
       "    <tr>\n",
       "      <th id=\"T_df528_level0_row19\" class=\"row_heading level0 row19\" >41</th>\n",
       "      <td id=\"T_df528_row19_col0\" class=\"data row19 col0\" >toxic_culture</td>\n",
       "      <td id=\"T_df528_row19_col1\" class=\"data row19 col1\" >2018.000000</td>\n",
       "      <td id=\"T_df528_row19_col2\" class=\"data row19 col2\" >2</td>\n",
       "    </tr>\n",
       "    <tr>\n",
       "      <th id=\"T_df528_level0_row20\" class=\"row_heading level0 row20\" >0</th>\n",
       "      <td id=\"T_df528_row20_col0\" class=\"data row20 col0\" >Product Design (UI & UX)</td>\n",
       "      <td id=\"T_df528_row20_col1\" class=\"data row20 col1\" >2016.000000</td>\n",
       "      <td id=\"T_df528_row20_col2\" class=\"data row20 col2\" >2</td>\n",
       "    </tr>\n",
       "    <tr>\n",
       "      <th id=\"T_df528_level0_row21\" class=\"row_heading level0 row21\" >16</th>\n",
       "      <td id=\"T_df528_row21_col0\" class=\"data row21 col0\" >jam_kerja</td>\n",
       "      <td id=\"T_df528_row21_col1\" class=\"data row21 col1\" >2015.000000</td>\n",
       "      <td id=\"T_df528_row21_col2\" class=\"data row21 col2\" >2</td>\n",
       "    </tr>\n",
       "    <tr>\n",
       "      <th id=\"T_df528_level0_row22\" class=\"row_heading level0 row22\" >12</th>\n",
       "      <td id=\"T_df528_row22_col0\" class=\"data row22 col0\" >internal_conflict</td>\n",
       "      <td id=\"T_df528_row22_col1\" class=\"data row22 col1\" >2017.000000</td>\n",
       "      <td id=\"T_df528_row22_col2\" class=\"data row22 col2\" >2</td>\n",
       "    </tr>\n",
       "    <tr>\n",
       "      <th id=\"T_df528_level0_row23\" class=\"row_heading level0 row23\" >11</th>\n",
       "      <td id=\"T_df528_row23_col0\" class=\"data row23 col0\" >ganti_karir</td>\n",
       "      <td id=\"T_df528_row23_col1\" class=\"data row23 col1\" >2019.000000</td>\n",
       "      <td id=\"T_df528_row23_col2\" class=\"data row23 col2\" >2</td>\n",
       "    </tr>\n",
       "    <tr>\n",
       "      <th id=\"T_df528_level0_row24\" class=\"row_heading level0 row24\" >5</th>\n",
       "      <td id=\"T_df528_row24_col0\" class=\"data row24 col0\" >ganti_karir</td>\n",
       "      <td id=\"T_df528_row24_col1\" class=\"data row24 col1\" >2013.000000</td>\n",
       "      <td id=\"T_df528_row24_col2\" class=\"data row24 col2\" >2</td>\n",
       "    </tr>\n",
       "    <tr>\n",
       "      <th id=\"T_df528_level0_row25\" class=\"row_heading level0 row25\" >7</th>\n",
       "      <td id=\"T_df528_row25_col0\" class=\"data row25 col0\" >ganti_karir</td>\n",
       "      <td id=\"T_df528_row25_col1\" class=\"data row25 col1\" >2015.000000</td>\n",
       "      <td id=\"T_df528_row25_col2\" class=\"data row25 col2\" >2</td>\n",
       "    </tr>\n",
       "    <tr>\n",
       "      <th id=\"T_df528_level0_row26\" class=\"row_heading level0 row26\" >21</th>\n",
       "      <td id=\"T_df528_row26_col0\" class=\"data row26 col0\" >kejelasan_karir</td>\n",
       "      <td id=\"T_df528_row26_col1\" class=\"data row26 col1\" >2016.000000</td>\n",
       "      <td id=\"T_df528_row26_col2\" class=\"data row26 col2\" >1</td>\n",
       "    </tr>\n",
       "    <tr>\n",
       "      <th id=\"T_df528_level0_row27\" class=\"row_heading level0 row27\" >9</th>\n",
       "      <td id=\"T_df528_row27_col0\" class=\"data row27 col0\" >ganti_karir</td>\n",
       "      <td id=\"T_df528_row27_col1\" class=\"data row27 col1\" >2017.000000</td>\n",
       "      <td id=\"T_df528_row27_col2\" class=\"data row27 col2\" >1</td>\n",
       "    </tr>\n",
       "    <tr>\n",
       "      <th id=\"T_df528_level0_row28\" class=\"row_heading level0 row28\" >42</th>\n",
       "      <td id=\"T_df528_row28_col0\" class=\"data row28 col0\" >toxic_culture</td>\n",
       "      <td id=\"T_df528_row28_col1\" class=\"data row28 col1\" >2019.000000</td>\n",
       "      <td id=\"T_df528_row28_col2\" class=\"data row28 col2\" >1</td>\n",
       "    </tr>\n",
       "    <tr>\n",
       "      <th id=\"T_df528_level0_row29\" class=\"row_heading level0 row29\" >2</th>\n",
       "      <td id=\"T_df528_row29_col0\" class=\"data row29 col0\" >Product Design (UI & UX)</td>\n",
       "      <td id=\"T_df528_row29_col1\" class=\"data row29 col1\" >2018.000000</td>\n",
       "      <td id=\"T_df528_row29_col2\" class=\"data row29 col2\" >1</td>\n",
       "    </tr>\n",
       "    <tr>\n",
       "      <th id=\"T_df528_level0_row30\" class=\"row_heading level0 row30\" >3</th>\n",
       "      <td id=\"T_df528_row30_col0\" class=\"data row30 col0\" >apresiasi</td>\n",
       "      <td id=\"T_df528_row30_col1\" class=\"data row30 col1\" >2017.000000</td>\n",
       "      <td id=\"T_df528_row30_col2\" class=\"data row30 col2\" >1</td>\n",
       "    </tr>\n",
       "    <tr>\n",
       "      <th id=\"T_df528_level0_row31\" class=\"row_heading level0 row31\" >39</th>\n",
       "      <td id=\"T_df528_row31_col0\" class=\"data row31 col0\" >toxic_culture</td>\n",
       "      <td id=\"T_df528_row31_col1\" class=\"data row31 col1\" >2015.000000</td>\n",
       "      <td id=\"T_df528_row31_col2\" class=\"data row31 col2\" >1</td>\n",
       "    </tr>\n",
       "    <tr>\n",
       "      <th id=\"T_df528_level0_row32\" class=\"row_heading level0 row32\" >4</th>\n",
       "      <td id=\"T_df528_row32_col0\" class=\"data row32 col0\" >apresiasi</td>\n",
       "      <td id=\"T_df528_row32_col1\" class=\"data row32 col1\" >2020.000000</td>\n",
       "      <td id=\"T_df528_row32_col2\" class=\"data row32 col2\" >1</td>\n",
       "    </tr>\n",
       "    <tr>\n",
       "      <th id=\"T_df528_level0_row33\" class=\"row_heading level0 row33\" >6</th>\n",
       "      <td id=\"T_df528_row33_col0\" class=\"data row33 col0\" >ganti_karir</td>\n",
       "      <td id=\"T_df528_row33_col1\" class=\"data row33 col1\" >2014.000000</td>\n",
       "      <td id=\"T_df528_row33_col2\" class=\"data row33 col2\" >1</td>\n",
       "    </tr>\n",
       "    <tr>\n",
       "      <th id=\"T_df528_level0_row34\" class=\"row_heading level0 row34\" >32</th>\n",
       "      <td id=\"T_df528_row34_col0\" class=\"data row34 col0\" >tidak_bisa_remote</td>\n",
       "      <td id=\"T_df528_row34_col1\" class=\"data row34 col1\" >2014.000000</td>\n",
       "      <td id=\"T_df528_row34_col2\" class=\"data row34 col2\" >1</td>\n",
       "    </tr>\n",
       "    <tr>\n",
       "      <th id=\"T_df528_level0_row35\" class=\"row_heading level0 row35\" >33</th>\n",
       "      <td id=\"T_df528_row35_col0\" class=\"data row35 col0\" >tidak_bisa_remote</td>\n",
       "      <td id=\"T_df528_row35_col1\" class=\"data row35 col1\" >2015.000000</td>\n",
       "      <td id=\"T_df528_row35_col2\" class=\"data row35 col2\" >1</td>\n",
       "    </tr>\n",
       "    <tr>\n",
       "      <th id=\"T_df528_level0_row36\" class=\"row_heading level0 row36\" >1</th>\n",
       "      <td id=\"T_df528_row36_col0\" class=\"data row36 col0\" >Product Design (UI & UX)</td>\n",
       "      <td id=\"T_df528_row36_col1\" class=\"data row36 col1\" >2017.000000</td>\n",
       "      <td id=\"T_df528_row36_col2\" class=\"data row36 col2\" >1</td>\n",
       "    </tr>\n",
       "    <tr>\n",
       "      <th id=\"T_df528_level0_row37\" class=\"row_heading level0 row37\" >31</th>\n",
       "      <td id=\"T_df528_row37_col0\" class=\"data row37 col0\" >tidak_bahagia</td>\n",
       "      <td id=\"T_df528_row37_col1\" class=\"data row37 col1\" >2020.000000</td>\n",
       "      <td id=\"T_df528_row37_col2\" class=\"data row37 col2\" >1</td>\n",
       "    </tr>\n",
       "    <tr>\n",
       "      <th id=\"T_df528_level0_row38\" class=\"row_heading level0 row38\" >28</th>\n",
       "      <td id=\"T_df528_row38_col0\" class=\"data row38 col0\" >tidak_bahagia</td>\n",
       "      <td id=\"T_df528_row38_col1\" class=\"data row38 col1\" >2014.000000</td>\n",
       "      <td id=\"T_df528_row38_col2\" class=\"data row38 col2\" >1</td>\n",
       "    </tr>\n",
       "    <tr>\n",
       "      <th id=\"T_df528_level0_row39\" class=\"row_heading level0 row39\" >13</th>\n",
       "      <td id=\"T_df528_row39_col0\" class=\"data row39 col0\" >internal_conflict</td>\n",
       "      <td id=\"T_df528_row39_col1\" class=\"data row39 col1\" >2018.000000</td>\n",
       "      <td id=\"T_df528_row39_col2\" class=\"data row39 col2\" >1</td>\n",
       "    </tr>\n",
       "    <tr>\n",
       "      <th id=\"T_df528_level0_row40\" class=\"row_heading level0 row40\" >14</th>\n",
       "      <td id=\"T_df528_row40_col0\" class=\"data row40 col0\" >internal_conflict</td>\n",
       "      <td id=\"T_df528_row40_col1\" class=\"data row40 col1\" >2019.000000</td>\n",
       "      <td id=\"T_df528_row40_col2\" class=\"data row40 col2\" >1</td>\n",
       "    </tr>\n",
       "    <tr>\n",
       "      <th id=\"T_df528_level0_row41\" class=\"row_heading level0 row41\" >25</th>\n",
       "      <td id=\"T_df528_row41_col0\" class=\"data row41 col0\" >leadership</td>\n",
       "      <td id=\"T_df528_row41_col1\" class=\"data row41 col1\" >2014.000000</td>\n",
       "      <td id=\"T_df528_row41_col2\" class=\"data row41 col2\" >1</td>\n",
       "    </tr>\n",
       "    <tr>\n",
       "      <th id=\"T_df528_level0_row42\" class=\"row_heading level0 row42\" >19</th>\n",
       "      <td id=\"T_df528_row42_col0\" class=\"data row42 col0\" >jam_kerja</td>\n",
       "      <td id=\"T_df528_row42_col1\" class=\"data row42 col1\" >2019.000000</td>\n",
       "      <td id=\"T_df528_row42_col2\" class=\"data row42 col2\" >1</td>\n",
       "    </tr>\n",
       "    <tr>\n",
       "      <th id=\"T_df528_level0_row43\" class=\"row_heading level0 row43\" >43</th>\n",
       "      <td id=\"T_df528_row43_col0\" class=\"data row43 col0\" >toxic_culture</td>\n",
       "      <td id=\"T_df528_row43_col1\" class=\"data row43 col1\" >2020.000000</td>\n",
       "      <td id=\"T_df528_row43_col2\" class=\"data row43 col2\" >1</td>\n",
       "    </tr>\n",
       "  </tbody>\n",
       "</table>\n"
      ],
      "text/plain": [
       "<pandas.io.formats.style.Styler at 0x188b345f190>"
      ]
     },
     "execution_count": 22,
     "metadata": {},
     "output_type": "execute_result"
    }
   ],
   "source": [
    "jumlah_pegawai_per_alasan = df_nan_alasan.groupby(['AlasanResign', 'TahunResign'])['TanggalLahir'].count().reset_index()\n",
    "\n",
    "jumlah_pegawai_per_alasan.sort_values(by=[\"TanggalLahir\"],ascending=False).style.background_gradient(cmap='Greens')"
   ]
  },
  {
   "cell_type": "code",
   "execution_count": 23,
   "metadata": {},
   "outputs": [
    {
     "data": {
      "image/png": "[encoded data removed]",
      "text/plain": [
       "<Figure size 1000x1000 with 4 Axes>"
      ]
     },
     "metadata": {},
     "output_type": "display_data"
    }
   ],
   "source": [
    "# distribution of numerical features that have missing values part 1\n",
    "sns.set_style('whitegrid')\n",
    "fig, ax = plt.subplots(2,2, figsize=(10,10))\n",
    "sns.set_context('paper', font_scale=1)\n",
    "\n",
    "sns.histplot(df['JumlahKetidakhadiran'], ax=ax[0][0], kde=True)\n",
    "sns.histplot(df['SkorKepuasanPegawai'], ax=ax[0][1], kde=True)\n",
    "sns.histplot(df['JumlahKeikutsertaanProjek'], ax=ax[1][0], kde=True)\n",
    "sns.histplot(df['JumlahKeterlambatanSebulanTerakhir'], ax=ax[1][1], kde=True)\n",
    "plt.show()"
   ]
  },
  {
   "cell_type": "markdown",
   "metadata": {},
   "source": [
    "one-hot encoding"
   ]
  },
  {
   "cell_type": "markdown",
   "metadata": {},
   "source": [
    "label encoding"
   ]
  },
  {
   "cell_type": "markdown",
   "metadata": {},
   "source": [
    "## **Change Data Type**"
   ]
  },
  {
   "cell_type": "markdown",
   "metadata": {},
   "source": [
    "# **Mengubah data tipe tanggal dari object ke datetime merupakan langkah penting dalam preprocessing data pada proyek pembuatan model di Jupyter Notebook (IPython Notebook). Proses ini umumnya termasuk dalam tahap pembersihan dan persiapan data (data cleaning and preparation)."
   ]
  },
  {
   "cell_type": "code",
   "execution_count": 24,
   "metadata": {},
   "outputs": [],
   "source": [
    "df = df.replace('-',np.nan)"
   ]
  },
  {
   "cell_type": "code",
   "execution_count": 25,
   "metadata": {},
   "outputs": [],
   "source": [
    "# # Change Data Type --> int64\n",
    "# kolom_int = ['SkorKepuasanPegawai', 'JumlahKeikutsertaanProjek', 'JumlahKeterlambatanSebulanTerakhir', 'JumlahKetidakhadiran', 'IkutProgramLOP']\n",
    "# df[kolom_int] = df[kolom_int].astype('int64')"
   ]
  },
  {
   "cell_type": "code",
   "execution_count": 26,
   "metadata": {},
   "outputs": [],
   "source": [
    "# Change Data Type --> int64\n",
    "kolom_tanggal = ['TanggalLahir', 'TanggalHiring', 'TanggalPenilaianKaryawan', 'TanggalResign']\n",
    "df[kolom_tanggal] = df[kolom_tanggal].apply(pd.to_datetime)"
   ]
  },
  {
   "cell_type": "code",
   "execution_count": 27,
   "metadata": {},
   "outputs": [
    {
     "data": {
      "text/plain": [
       "StatusPernikahan                              object\n",
       "JenisKelamin                                  object\n",
       "StatusKepegawaian                             object\n",
       "Pekerjaan                                     object\n",
       "JenjangKarir                                  object\n",
       "PerformancePegawai                            object\n",
       "AsalDaerah                                    object\n",
       "HiringPlatform                                object\n",
       "SkorSurveyEngagement                           int64\n",
       "SkorKepuasanPegawai                          float64\n",
       "JumlahKeikutsertaanProjek                    float64\n",
       "JumlahKeterlambatanSebulanTerakhir           float64\n",
       "JumlahKetidakhadiran                         float64\n",
       "TingkatPendidikan                             object\n",
       "PernahBekerja                                 object\n",
       "IkutProgramLOP                               float64\n",
       "AlasanResign                                  object\n",
       "TanggalLahir                          datetime64[ns]\n",
       "TanggalHiring                         datetime64[ns]\n",
       "TanggalPenilaianKaryawan              datetime64[ns]\n",
       "TanggalResign                         datetime64[ns]\n",
       "dtype: object"
      ]
     },
     "execution_count": 27,
     "metadata": {},
     "output_type": "execute_result"
    }
   ],
   "source": [
    "df.dtypes"
   ]
  },
  {
   "cell_type": "markdown",
   "metadata": {},
   "source": [
    "## **Feature**"
   ]
  },
  {
   "cell_type": "code",
   "execution_count": 28,
   "metadata": {},
   "outputs": [],
   "source": [
    "df['TahunHiring'] = df['TanggalHiring'].dt.year\n",
    "df['TahunPenilaianKaryawan'] = df['TanggalPenilaianKaryawan'].dt.year\n",
    "df['TahunLahir'] = df['TanggalLahir'].dt.year\n",
    "df['TahunResign'] = df['TanggalResign'].dt.year\n",
    "df['Umur'] = 2020 - df['TahunLahir']"
   ]
  },
  {
   "cell_type": "markdown",
   "metadata": {},
   "source": [
    "## **Handling Missing Value**"
   ]
  },
  {
   "cell_type": "code",
   "execution_count": null,
   "metadata": {},
   "outputs": [],
   "source": [
    "df['IkutProgramLOP'].fillna(0.0, inplace=True)\n",
    "\n",
    "df['AlasanResign'].fillna(df['AlasanResign'].mode()[0], inplace=True)"
   ]
  },
  {
   "cell_type": "markdown",
   "metadata": {},
   "source": [
    "## **Feature Selection**"
   ]
  },
  {
   "cell_type": "markdown",
   "metadata": {},
   "source": [
    "## **Data Splitting**"
   ]
  },
  {
   "cell_type": "markdown",
   "metadata": {},
   "source": [
    "# **Modeling**"
   ]
  },
  {
   "cell_type": "markdown",
   "metadata": {},
   "source": [
    "# Import Data: Membaca data dari file (misalnya CSV, Excel) ke dalam DataFrame Pandas.\n",
    "Eksplorasi Data: Memahami struktur data, tipe data setiap kolom, dan mencari adanya missing values atau anomali.\n",
    "Pembersihan Data: Mengatasi masalah seperti missing values, outliers, dan data yang tidak konsisten.\n",
    "Transformasi Data:\n",
    "Mengubah Tipe Data: Mengubah tipe data kolom tanggal dari object menjadi datetime.\n",
    "Encoding: Mengubah data kategorikal menjadi bentuk numerik jika diperlukan.\n",
    "Scaling: Menskalakan data numerik jika diperlukan.\n",
    "Feature Engineering: Membuat fitur-fitur baru yang relevan dengan masalah yang ingin dipecahkan.\n",
    "Pembagian Data: Membagi data menjadi data latih dan data uji.\n",
    "Pemilihan Model: Memilih algoritma machine learning yang sesuai dengan masalah.\n",
    "Pelatihan Model: Melatih model dengan menggunakan data latih.\n",
    "Evaluasi Model: Mengevaluasi kinerja model dengan menggunakan data uji.\n",
    "Deployment: Menerapkan model ke dalam aplikasi atau sistem yang sebenarnya."
   ]
  }
 ],
 "metadata": {
  "kernelspec": {
   "display_name": "base",
   "language": "python",
   "name": "python3"
  },
  "language_info": {
   "codemirror_mode": {
    "name": "ipython",
    "version": 3
   },
   "file_extension": ".py",
   "mimetype": "text/x-python",
   "name": "python",
   "nbconvert_exporter": "python",
   "pygments_lexer": "ipython3",
   "version": "3.11.5"
  }
 },
 "nbformat": 4,
 "nbformat_minor": 2
}
